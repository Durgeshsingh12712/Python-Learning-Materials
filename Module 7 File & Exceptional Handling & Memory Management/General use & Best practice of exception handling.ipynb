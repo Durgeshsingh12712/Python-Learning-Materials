{
 "cells": [
  {
   "cell_type": "code",
   "execution_count": 2,
   "id": "47548063-b969-4b75-b303-8bb26f6ef5a9",
   "metadata": {},
   "outputs": [
    {
     "name": "stdout",
     "output_type": "stream",
     "text": [
      "Here I am Handling the zero division error division by zero\n"
     ]
    }
   ],
   "source": [
    "try:\n",
    "    10/0\n",
    "except ZeroDivisionError as e:\n",
    "    print(\"Here I am Handling the zero division error\", e)"
   ]
  },
  {
   "cell_type": "code",
   "execution_count": 3,
   "id": "b92bf608-d6ad-4542-bbfc-99a766b446fb",
   "metadata": {},
   "outputs": [],
   "source": [
    "# this is not best practice , always go for specific exception\n",
    "# try:\n",
    "#     10/0\n",
    "# except:\n",
    "#     print(\"This is some error\")"
   ]
  },
  {
   "cell_type": "code",
   "execution_count": 2,
   "id": "1264f309-dc2a-4550-b9d1-c3e5cda132be",
   "metadata": {},
   "outputs": [
    {
     "name": "stdout",
     "output_type": "stream",
     "text": [
      "the string can not be converted to integer invalid literal for int() with base 10: 'pwskills'\n"
     ]
    }
   ],
   "source": [
    "try:\n",
    "    int(\"pwskills\")\n",
    "except (ValueError, TypeError) as e:\n",
    "    print(\"the string can not be converted to integer\", e)"
   ]
  },
  {
   "cell_type": "code",
   "execution_count": 3,
   "id": "b201b514-c59e-46a5-a3f3-21776c9d6b8e",
   "metadata": {},
   "outputs": [],
   "source": [
    "import csv"
   ]
  },
  {
   "cell_type": "code",
   "execution_count": 4,
   "id": "255a7e2c-fe20-4782-af97-b6bb4f1445ef",
   "metadata": {},
   "outputs": [],
   "source": [
    "try:\n",
    "    import pwskills\n",
    "except ModuleNotFoundError as e:\n",
    "    print(\"The module not found\", e)"
   ]
  },
  {
   "cell_type": "code",
   "execution_count": 5,
   "id": "af2179c2-a778-414e-8fe6-3d0a70b19e48",
   "metadata": {},
   "outputs": [
    {
     "name": "stdout",
     "output_type": "stream",
     "text": [
      "name 'test' is not defined\n"
     ]
    }
   ],
   "source": [
    "try:\n",
    "    test()\n",
    "except NameError as e:\n",
    "    print(e)"
   ]
  },
  {
   "cell_type": "code",
   "execution_count": 6,
   "id": "09f99e8b-3522-47d0-88b0-b6f5e07028d4",
   "metadata": {},
   "outputs": [],
   "source": [
    "d = {\"name\": \"Durgesh\", \"Class\":\"DS\"}"
   ]
  },
  {
   "cell_type": "code",
   "execution_count": 8,
   "id": "2c0d9186-ecbb-419a-9e00-1fc7b0ae653f",
   "metadata": {},
   "outputs": [
    {
     "ename": "KeyError",
     "evalue": "'fee'",
     "output_type": "error",
     "traceback": [
      "\u001b[1;31m---------------------------------------------------------------------------\u001b[0m",
      "\u001b[1;31mKeyError\u001b[0m                                  Traceback (most recent call last)",
      "Cell \u001b[1;32mIn[8], line 1\u001b[0m\n\u001b[1;32m----> 1\u001b[0m \u001b[43md\u001b[49m\u001b[43m[\u001b[49m\u001b[38;5;124;43m\"\u001b[39;49m\u001b[38;5;124;43mfee\u001b[39;49m\u001b[38;5;124;43m\"\u001b[39;49m\u001b[43m]\u001b[49m\n",
      "\u001b[1;31mKeyError\u001b[0m: 'fee'"
     ]
    }
   ],
   "source": [
    "d[\"fee\"]"
   ]
  },
  {
   "cell_type": "code",
   "execution_count": 9,
   "id": "9f34d6bd-2197-4c62-8626-e2c9f47cd56e",
   "metadata": {},
   "outputs": [
    {
     "name": "stdout",
     "output_type": "stream",
     "text": [
      "The key is not found\n"
     ]
    }
   ],
   "source": [
    "try:\n",
    "    d = {\"name\": \"Durgesh\", \"Class\":\"DS\"}\n",
    "    d[\"fee\"]\n",
    "except KeyError as e:\n",
    "    print(\"The key is not found\")"
   ]
  },
  {
   "cell_type": "code",
   "execution_count": 10,
   "id": "017d2cf9-6f61-4320-89ac-6ba26053dda7",
   "metadata": {},
   "outputs": [
    {
     "name": "stdout",
     "output_type": "stream",
     "text": [
      "list index out of range\n"
     ]
    }
   ],
   "source": [
    "try:\n",
    "    l = [1, 2, 3]\n",
    "    l[4]\n",
    "except IndexError as e:\n",
    "    print(e)\n"
   ]
  },
  {
   "cell_type": "code",
   "execution_count": 12,
   "id": "54d936bb-7d0e-48cd-957e-996b27954ed9",
   "metadata": {},
   "outputs": [
    {
     "name": "stdout",
     "output_type": "stream",
     "text": [
      "[Errno 2] No such file or directory: 'Exm.txt'\n"
     ]
    }
   ],
   "source": [
    "try:\n",
    "    f = open(\"Exm.txt\", \"r\")\n",
    "    f.read()\n",
    "except FileNotFoundError as e:\n",
    "    print(e)"
   ]
  },
  {
   "cell_type": "code",
   "execution_count": 13,
   "id": "b2cb4bef-5582-4c59-a3c8-750a0a552b4d",
   "metadata": {},
   "outputs": [
    {
     "name": "stdout",
     "output_type": "stream",
     "text": [
      "First msg [Errno 2] No such file or directory: 'Exm.txt'\n"
     ]
    }
   ],
   "source": [
    "try:\n",
    "    f = open(\"Exm.txt\", \"r\")\n",
    "    f.read()\n",
    "except Exception as e:\n",
    "    print(\"First msg\", e)\n",
    "except FileNotFoundError as e:\n",
    "    print(e)"
   ]
  },
  {
   "cell_type": "code",
   "execution_count": 15,
   "id": "4674d256-e5fb-4ca6-bc53-0983c74e2b48",
   "metadata": {},
   "outputs": [],
   "source": [
    "# always try to log\n",
    "import logging\n",
    "logging.basicConfig(filename = \"Progm.log\", level = logging.DEBUG)\n",
    "try:\n",
    "    f = open(\"Exm.txt\", \"r\")\n",
    "    f.read()\n",
    "except FileNotFoundError as e:\n",
    "    logging.error(f\"This my error {e}\")"
   ]
  },
  {
   "cell_type": "code",
   "execution_count": 16,
   "id": "c2b530a0-c9a4-43e1-9bc5-7a6b3d7055ad",
   "metadata": {},
   "outputs": [],
   "source": [
    "import logging\n",
    "logging.basicConfig(filename = \"Progm.log\", level = logging.DEBUG)\n",
    "try:\n",
    "    10/0\n",
    "except ZeroDivisionError as e:\n",
    "    logging.error(f\"This my zero error {e}\")"
   ]
  },
  {
   "cell_type": "code",
   "execution_count": 17,
   "id": "2fd93985-42d4-46a7-a49e-d28e4c902fc4",
   "metadata": {},
   "outputs": [],
   "source": [
    "def test(file):\n",
    "    try:\n",
    "        f = open(file, \"r\")\n",
    "        f.read()\n",
    "    except FileNotFoundError as e:\n",
    "        print(f\"This my error {e}\")"
   ]
  },
  {
   "cell_type": "code",
   "execution_count": 18,
   "id": "abae79eb-d0d3-41b6-9213-23a50751ce13",
   "metadata": {},
   "outputs": [
    {
     "name": "stdout",
     "output_type": "stream",
     "text": [
      "This my error [Errno 2] No such file or directory: 'ex.txt'\n"
     ]
    }
   ],
   "source": [
    "test(\"ex.txt\")"
   ]
  },
  {
   "cell_type": "code",
   "execution_count": 20,
   "id": "519eb0ef-02ae-4a70-b522-3d8c42d460e3",
   "metadata": {},
   "outputs": [
    {
     "name": "stdout",
     "output_type": "stream",
     "text": [
      "my file not found [Errno 2] No such file or directory: 'Exm.txt'\n"
     ]
    }
   ],
   "source": [
    "# don't try to use unneccessary exception\n",
    "try:\n",
    "    f = open(\"Exm.txt\", \"r\")\n",
    "    f.read()\n",
    "except ZeroDivisionError as e:\n",
    "    print(\"first msg\", e)\n",
    "except FileNotFoundError as e:\n",
    "    print(\"my file not found\", e)"
   ]
  },
  {
   "cell_type": "code",
   "execution_count": 21,
   "id": "6c2b9a26-6ea9-406b-8b00-a0484d14d9f4",
   "metadata": {},
   "outputs": [
    {
     "data": {
      "text/plain": [
       "'\\nthis is my documentation\\n'"
      ]
     },
     "execution_count": 21,
     "metadata": {},
     "output_type": "execute_result"
    }
   ],
   "source": [
    "# give proper documentation\n",
    "\"\"\"\n",
    "this is my documentation\n",
    "\"\"\""
   ]
  },
  {
   "cell_type": "code",
   "execution_count": null,
   "id": "bde08c34-4048-4c4c-9ed7-b5f59114c0b8",
   "metadata": {},
   "outputs": [],
   "source": [
    "try:\n",
    "    f = open(\"Exm.txt\", \"w\")\n",
    "    f.write(\"hello world\")\n",
    "except FileNotFoundError as e:\n",
    "    print(\"my file not found\", e)\n",
    "finally:\n",
    "    f.close()"
   ]
  }
 ],
 "metadata": {
  "kernelspec": {
   "display_name": "Python 3 (ipykernel)",
   "language": "python",
   "name": "python3"
  },
  "language_info": {
   "codemirror_mode": {
    "name": "ipython",
    "version": 3
   },
   "file_extension": ".py",
   "mimetype": "text/x-python",
   "name": "python",
   "nbconvert_exporter": "python",
   "pygments_lexer": "ipython3",
   "version": "3.13.0"
  }
 },
 "nbformat": 4,
 "nbformat_minor": 5
}
