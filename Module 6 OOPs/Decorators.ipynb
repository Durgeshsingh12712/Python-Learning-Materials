{
 "cells": [
  {
   "cell_type": "code",
   "execution_count": 1,
   "id": "459c964e-6d4a-447d-8411-83428f751e9e",
   "metadata": {},
   "outputs": [],
   "source": [
    "#decorators >> allows to modify/extend the existing behaviour function or class without modifying it"
   ]
  },
  {
   "cell_type": "code",
   "execution_count": 4,
   "id": "7854303f-9afb-40f0-ab01-2b9e4c92454f",
   "metadata": {},
   "outputs": [],
   "source": [
    "def my_decorator_func():\n",
    "    print(\"The lines being printed before the comp.\")\n",
    "    print(1+11)\n",
    "    print(\"The lines being printed after the comp.\")"
   ]
  },
  {
   "cell_type": "code",
   "execution_count": 5,
   "id": "644649af-d887-4a00-89d5-5b66819912bd",
   "metadata": {},
   "outputs": [
    {
     "name": "stdout",
     "output_type": "stream",
     "text": [
      "The lines being printed before the comp.\n",
      "12\n",
      "The lines being printed after the comp.\n"
     ]
    }
   ],
   "source": [
    "my_decorator_func()"
   ]
  },
  {
   "cell_type": "code",
   "execution_count": 6,
   "id": "89d2916a-135e-40b0-9a8d-10c26f02fcbb",
   "metadata": {},
   "outputs": [],
   "source": [
    "def my_decorator(func): #decorator func that takes another function as argument\n",
    "    def wrapper(): # add the functionality before and after calling func\n",
    "        print(\"The lines being printed before the func.\")\n",
    "        func()\n",
    "        print(\"The lines being printed after the func.\")\n",
    "    return wrapper"
   ]
  },
  {
   "cell_type": "code",
   "execution_count": 9,
   "id": "5d438943-5880-47f7-b2fa-bd727ee821c8",
   "metadata": {},
   "outputs": [],
   "source": [
    "@my_decorator\n",
    "def say_hello():\n",
    "    print(\"hello\")\n",
    "#when say_hello() is called, it is actually wrapper() which in turn call say_hello()"
   ]
  },
  {
   "cell_type": "code",
   "execution_count": 10,
   "id": "825659e4-486d-4503-a9e4-d345efca171c",
   "metadata": {},
   "outputs": [
    {
     "name": "stdout",
     "output_type": "stream",
     "text": [
      "The lines being printed before the func.\n",
      "hello\n",
      "The lines being printed after the func.\n"
     ]
    }
   ],
   "source": [
    "say_hello()"
   ]
  },
  {
   "cell_type": "code",
   "execution_count": 23,
   "id": "674334e0-f038-4050-99c0-93b923ec26cb",
   "metadata": {},
   "outputs": [],
   "source": [
    "import time\n",
    "def timer_decorator(func):\n",
    "    def timer():\n",
    "        start = time.time()\n",
    "        func()\n",
    "        end = time.time()\n",
    "        print(end-start)\n",
    "    return timer\n",
    "    "
   ]
  },
  {
   "cell_type": "code",
   "execution_count": 32,
   "id": "acab5842-27f3-4af8-b1aa-e5dc53a744b3",
   "metadata": {},
   "outputs": [],
   "source": [
    "@timer_decorator\n",
    "def func_test():\n",
    "    print(1100**10)"
   ]
  },
  {
   "cell_type": "code",
   "execution_count": 33,
   "id": "1a13316c-f0b1-4bb5-a9b8-e84bbd1825f9",
   "metadata": {},
   "outputs": [
    {
     "name": "stdout",
     "output_type": "stream",
     "text": [
      "2593742460100000000000000000000\n",
      "0.0001361370086669922\n"
     ]
    }
   ],
   "source": [
    "func_test()"
   ]
  },
  {
   "cell_type": "code",
   "execution_count": 1,
   "id": "a60e08b0-843f-4826-a9cd-b8eaffe793b1",
   "metadata": {},
   "outputs": [],
   "source": [
    "class MyDecorator:\n",
    "    def __init__(self, func):\n",
    "        self.func = func\n",
    "    def __call__(self):\n",
    "        print(\"Something is happying before func\")\n",
    "        self.func()\n",
    "        print(\"something is happying after func\")"
   ]
  },
  {
   "cell_type": "code",
   "execution_count": 4,
   "id": "d18d15e0-93b9-4795-b4e3-86944c7875fd",
   "metadata": {},
   "outputs": [],
   "source": [
    "@MyDecorator # _call__ is a special method which is involved when you call a decorator class instance\n",
    "def say_hello():\n",
    "    print(\"hello\")"
   ]
  },
  {
   "cell_type": "code",
   "execution_count": 3,
   "id": "2608a06c-9366-419a-bf67-470a67638c36",
   "metadata": {},
   "outputs": [
    {
     "name": "stdout",
     "output_type": "stream",
     "text": [
      "Something is happying before func\n",
      "hello\n",
      "something is happying after func\n"
     ]
    }
   ],
   "source": [
    "say_hello()"
   ]
  },
  {
   "cell_type": "code",
   "execution_count": 5,
   "id": "38a26921-cba3-4ca7-a676-58b7547adcfb",
   "metadata": {},
   "outputs": [],
   "source": [
    "#Built in decorators >> classmethod, staticmethod property"
   ]
  },
  {
   "cell_type": "code",
   "execution_count": 6,
   "id": "e46be361-23dc-428d-8e77-6aab15b56f48",
   "metadata": {},
   "outputs": [],
   "source": [
    "#static method >> which can be called without creating on instance of class"
   ]
  },
  {
   "cell_type": "code",
   "execution_count": 7,
   "id": "d8003a33-25eb-4edd-a62b-fdc0de149d1e",
   "metadata": {},
   "outputs": [],
   "source": [
    "class Math:\n",
    "    @staticmethod\n",
    "    def add(x, y):\n",
    "        return x+y\n"
   ]
  },
  {
   "cell_type": "code",
   "execution_count": 8,
   "id": "2afe1c68-914c-4eec-b65f-07673aa8b413",
   "metadata": {},
   "outputs": [],
   "source": [
    "a = Math() # make object/instance "
   ]
  },
  {
   "cell_type": "code",
   "execution_count": 9,
   "id": "a7400fd6-5717-4ad7-946e-6ff306dc06a7",
   "metadata": {},
   "outputs": [
    {
     "data": {
      "text/plain": [
       "5"
      ]
     },
     "execution_count": 9,
     "metadata": {},
     "output_type": "execute_result"
    }
   ],
   "source": [
    "a.add(2, 3) # THis was regular class"
   ]
  },
  {
   "cell_type": "code",
   "execution_count": 13,
   "id": "fb46fd4e-ffc4-4ea2-911c-f88aeb55e923",
   "metadata": {},
   "outputs": [],
   "source": [
    "class Math:\n",
    "    @staticmethod\n",
    "    def add(x, y):\n",
    "        return x+y"
   ]
  },
  {
   "cell_type": "code",
   "execution_count": 14,
   "id": "3ff144dc-6be4-4ddd-a8ed-27567fdb52f6",
   "metadata": {},
   "outputs": [
    {
     "data": {
      "text/plain": [
       "5"
      ]
     },
     "execution_count": 14,
     "metadata": {},
     "output_type": "execute_result"
    }
   ],
   "source": [
    "Math.add(2,3)"
   ]
  },
  {
   "cell_type": "code",
   "execution_count": 18,
   "id": "0245b5d4-f6fc-48dd-b4e0-6d9f262c02e3",
   "metadata": {},
   "outputs": [],
   "source": [
    "# class method >> takes class itself as first argument / to modify and access class level attributes.\n",
    "\n",
    "class Math:\n",
    "    @classmethod\n",
    "    def add(cls, x, y):\n",
    "        return cls.__name__, x+y # cls.__name__>>Math"
   ]
  },
  {
   "cell_type": "code",
   "execution_count": 19,
   "id": "57a67762-a113-40b1-b28f-3a27b76d2f30",
   "metadata": {},
   "outputs": [
    {
     "data": {
      "text/plain": [
       "('Math', 5)"
      ]
     },
     "execution_count": 19,
     "metadata": {},
     "output_type": "execute_result"
    }
   ],
   "source": [
    "Math.add(2, 3)"
   ]
  },
  {
   "cell_type": "code",
   "execution_count": 28,
   "id": "af063d35-4add-42ad-88f0-8c9624451701",
   "metadata": {},
   "outputs": [],
   "source": [
    "# Property decorator >> it allows methods to be accessed as attributes\n",
    "class Circle:\n",
    "    def __init__(self, radius):\n",
    "        self.radius = radius\n",
    "    @property\n",
    "    def area(self):\n",
    "        radius = self.radius\n",
    "        return 3.14 * radius ** 2 "
   ]
  },
  {
   "cell_type": "code",
   "execution_count": 29,
   "id": "32ef8ef8-4b2c-469d-9fc0-b9f683c31523",
   "metadata": {},
   "outputs": [],
   "source": [
    "c = Circle(5)"
   ]
  },
  {
   "cell_type": "code",
   "execution_count": 30,
   "id": "4108ae48-ff30-4fed-a2d2-89ea95192897",
   "metadata": {},
   "outputs": [
    {
     "data": {
      "text/plain": [
       "78.5"
      ]
     },
     "execution_count": 30,
     "metadata": {},
     "output_type": "execute_result"
    }
   ],
   "source": [
    "c.area"
   ]
  },
  {
   "cell_type": "code",
   "execution_count": 31,
   "id": "8c3c36fb-7f13-4f07-9497-43794145bbea",
   "metadata": {},
   "outputs": [
    {
     "data": {
      "text/plain": [
       "5"
      ]
     },
     "execution_count": 31,
     "metadata": {},
     "output_type": "execute_result"
    }
   ],
   "source": [
    "c.radius"
   ]
  },
  {
   "cell_type": "code",
   "execution_count": null,
   "id": "e3594401-9f95-4c72-b342-4d2592f6e50f",
   "metadata": {},
   "outputs": [],
   "source": []
  }
 ],
 "metadata": {
  "kernelspec": {
   "display_name": "Python 3 (ipykernel)",
   "language": "python",
   "name": "python3"
  },
  "language_info": {
   "codemirror_mode": {
    "name": "ipython",
    "version": 3
   },
   "file_extension": ".py",
   "mimetype": "text/x-python",
   "name": "python",
   "nbconvert_exporter": "python",
   "pygments_lexer": "ipython3",
   "version": "3.13.0"
  }
 },
 "nbformat": 4,
 "nbformat_minor": 5
}
