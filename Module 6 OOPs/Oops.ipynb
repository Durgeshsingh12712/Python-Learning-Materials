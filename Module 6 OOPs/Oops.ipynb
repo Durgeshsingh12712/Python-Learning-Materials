{
 "cells": [
  {
   "cell_type": "code",
   "execution_count": 1,
   "id": "9f5248ef-0f3c-4590-936b-6ef1a7d55076",
   "metadata": {},
   "outputs": [],
   "source": [
    "#oops>> object oriented programming system\n",
    "a = 5"
   ]
  },
  {
   "cell_type": "code",
   "execution_count": 2,
   "id": "905d1a17-1ba0-4059-8378-66813b768c7f",
   "metadata": {},
   "outputs": [
    {
     "name": "stdout",
     "output_type": "stream",
     "text": [
      "<class 'int'>\n"
     ]
    }
   ],
   "source": [
    "print(type(a))"
   ]
  },
  {
   "cell_type": "code",
   "execution_count": 4,
   "id": "1a351ded-15b1-42a2-9db4-c63304a35360",
   "metadata": {},
   "outputs": [],
   "source": [
    "class Car: #naming convention >> UpperCamelCase\n",
    "    pass"
   ]
  },
  {
   "cell_type": "code",
   "execution_count": 6,
   "id": "6e67b162-7b5a-446e-b6cb-bbdd85f0d64a",
   "metadata": {},
   "outputs": [],
   "source": [
    "a = Car() #intanse, object, variable"
   ]
  },
  {
   "cell_type": "code",
   "execution_count": 8,
   "id": "d597aa15-cc41-487d-aba0-9b54d2caa723",
   "metadata": {},
   "outputs": [
    {
     "name": "stdout",
     "output_type": "stream",
     "text": [
      "<class '__main__.Car'>\n"
     ]
    }
   ],
   "source": [
    "print(type(a))"
   ]
  },
  {
   "cell_type": "code",
   "execution_count": 12,
   "id": "a7345893-f007-4038-b0aa-f4b5c2c32d9a",
   "metadata": {},
   "outputs": [],
   "source": [
    "class Car: #function/method of car\n",
    "    def accelerate(self):\n",
    "        print(\"car is accelerating\")"
   ]
  },
  {
   "cell_type": "code",
   "execution_count": 13,
   "id": "d287b1e0-eeee-44ac-b14e-0c37e0ba67d1",
   "metadata": {},
   "outputs": [],
   "source": [
    "a = Car()"
   ]
  },
  {
   "cell_type": "code",
   "execution_count": 14,
   "id": "7456fa77-71c6-4c1a-84d3-123083ab9cab",
   "metadata": {},
   "outputs": [
    {
     "name": "stdout",
     "output_type": "stream",
     "text": [
      "car is accelerating\n"
     ]
    }
   ],
   "source": [
    "a.accelerate()"
   ]
  },
  {
   "cell_type": "code",
   "execution_count": 15,
   "id": "4de71803-06f3-4f84-8cac-6dbecd19778a",
   "metadata": {},
   "outputs": [],
   "source": [
    "#self > a variable that represents instance of the class"
   ]
  },
  {
   "cell_type": "code",
   "execution_count": 16,
   "id": "a47fa94c-7100-42d8-be5e-ab5911d75c2e",
   "metadata": {},
   "outputs": [],
   "source": [
    "# def f1():\n",
    "#    pass\n",
    "# def b2():\n",
    "#    pass\n",
    "# def d1():\n",
    "#    pass"
   ]
  },
  {
   "cell_type": "code",
   "execution_count": 17,
   "id": "4341f06a-d441-4b01-a136-f671feba8393",
   "metadata": {},
   "outputs": [],
   "source": [
    "class Car: #function/method of car\n",
    "    def accelerate(self):\n",
    "        print(\"car is accelerating\")\n",
    "    def brake(self):\n",
    "        print(\"car is stopping\")"
   ]
  },
  {
   "cell_type": "code",
   "execution_count": 18,
   "id": "0a54be46-fe0d-4e63-b18e-2e3490b61cca",
   "metadata": {},
   "outputs": [
    {
     "name": "stdout",
     "output_type": "stream",
     "text": [
      "car is stopping\n"
     ]
    }
   ],
   "source": [
    "a = Car()\n",
    "a.brake()"
   ]
  },
  {
   "cell_type": "code",
   "execution_count": 19,
   "id": "4a5246eb-b1e5-4042-b822-4668a36da9b6",
   "metadata": {},
   "outputs": [],
   "source": [
    "class bank:\n",
    "    def deposite(self, amount):\n",
    "        print(\"I am trying to deposite some money\")\n",
    "    def withdraw(self, amount_withdraw):\n",
    "        print(\"I am trying to withdraw some money\")"
   ]
  },
  {
   "cell_type": "code",
   "execution_count": 20,
   "id": "e857561f-db66-44af-9bd6-2fd6da73fe0c",
   "metadata": {},
   "outputs": [],
   "source": [
    "ajay = bank()"
   ]
  },
  {
   "cell_type": "code",
   "execution_count": 21,
   "id": "bd6ed32e-7e51-46d9-a134-f9bb093f0a4f",
   "metadata": {},
   "outputs": [
    {
     "name": "stdout",
     "output_type": "stream",
     "text": [
      "I am trying to deposite some money\n"
     ]
    }
   ],
   "source": [
    "ajay.deposite(1000)"
   ]
  },
  {
   "cell_type": "code",
   "execution_count": 28,
   "id": "16ffe44f-188a-4218-8128-c6bd15b6c8e3",
   "metadata": {},
   "outputs": [],
   "source": [
    "class Bank:\n",
    "    amt = 1000\n",
    "    def deposite(self, amount):\n",
    "        print(\"I am trying to deposite some money\")\n",
    "    def withdraw(self, amount_withdraw):\n",
    "        print(\"I am trying to withdraw some money\")"
   ]
  },
  {
   "cell_type": "code",
   "execution_count": 29,
   "id": "cf4963fa-c448-4d5c-beaa-76f8d459f35e",
   "metadata": {},
   "outputs": [],
   "source": [
    "ajay = Bank()"
   ]
  },
  {
   "cell_type": "code",
   "execution_count": 30,
   "id": "e6dca92b-ee61-4535-b9f4-88b25f2627d7",
   "metadata": {},
   "outputs": [
    {
     "data": {
      "text/plain": [
       "1000"
      ]
     },
     "execution_count": 30,
     "metadata": {},
     "output_type": "execute_result"
    }
   ],
   "source": [
    "ajay.amt"
   ]
  },
  {
   "cell_type": "code",
   "execution_count": 31,
   "id": "5ec41722-7942-493f-97d6-93a8b4d8a7e7",
   "metadata": {},
   "outputs": [
    {
     "name": "stdout",
     "output_type": "stream",
     "text": [
      "I am trying to deposite some money\n"
     ]
    }
   ],
   "source": [
    "ajay.deposite(1000)"
   ]
  },
  {
   "cell_type": "code",
   "execution_count": 1,
   "id": "90feb105-110d-4ec0-83f4-cb880e29dc3d",
   "metadata": {},
   "outputs": [],
   "source": [
    "class Listops:\n",
    "\n",
    "    l = [1, 2, 3, 4, 5]\n",
    "    def extract_even(self, l):\n",
    "        l1 = []\n",
    "        for i in l:\n",
    "            if i % 2 == 0:\n",
    "                l1.append(i)\n",
    "        return l1\n",
    "\n",
    "    def extract_odd(self, l):\n",
    "        l1 = []\n",
    "        for i in l:\n",
    "            if i % 2 != 0:\n",
    "                l1.append(i)\n",
    "        return l1\n",
    "                "
   ]
  },
  {
   "cell_type": "code",
   "execution_count": 4,
   "id": "65f7fd44-3ead-4a9d-869e-97e3b7b9e65d",
   "metadata": {},
   "outputs": [],
   "source": [
    "ops1 = Listops()"
   ]
  },
  {
   "cell_type": "code",
   "execution_count": 5,
   "id": "65bc4653-4131-4685-a358-ae63ccb605c8",
   "metadata": {},
   "outputs": [
    {
     "data": {
      "text/plain": [
       "[2, 4]"
      ]
     },
     "execution_count": 5,
     "metadata": {},
     "output_type": "execute_result"
    }
   ],
   "source": [
    "ops1.extract_even(ops1.l)"
   ]
  },
  {
   "cell_type": "code",
   "execution_count": 6,
   "id": "e0f7d44d-62d1-4418-8227-58f3127a1449",
   "metadata": {},
   "outputs": [],
   "source": [
    "ops2 = Listops()"
   ]
  },
  {
   "cell_type": "code",
   "execution_count": 8,
   "id": "75c6d5aa-b25b-4a2e-b742-50fff99080c6",
   "metadata": {},
   "outputs": [
    {
     "data": {
      "text/plain": [
       "[1, 3, 5]"
      ]
     },
     "execution_count": 8,
     "metadata": {},
     "output_type": "execute_result"
    }
   ],
   "source": [
    "ops2.extract_odd(ops2.l)"
   ]
  },
  {
   "cell_type": "code",
   "execution_count": 31,
   "id": "5994ab97-527c-4474-8c9d-4dd8b5c34310",
   "metadata": {},
   "outputs": [],
   "source": [
    "class Listops:\n",
    "    def __init__(self, l):\n",
    "        self.l = l\n",
    "    def extract_even(self):\n",
    "        l = self.l\n",
    "        l1 = []\n",
    "        for i in l:\n",
    "            if i % 2 == 0:\n",
    "                l1.append(i)\n",
    "        return l1\n",
    "\n",
    "    def extract_odd(self):\n",
    "        l=self.l\n",
    "        l1 = []\n",
    "        for i in l:\n",
    "            if i % 2 != 0:\n",
    "                l1.append(i)\n",
    "        return l1"
   ]
  },
  {
   "cell_type": "code",
   "execution_count": 32,
   "id": "5b619a7f-51a2-4faa-a5c9-ddbf71ed502e",
   "metadata": {},
   "outputs": [],
   "source": [
    "obj1 = Listops([1, 2, 3, 4, 5])"
   ]
  },
  {
   "cell_type": "code",
   "execution_count": 34,
   "id": "516f839f-bcae-48d9-8912-091316f00c61",
   "metadata": {},
   "outputs": [
    {
     "data": {
      "text/plain": [
       "[2, 4]"
      ]
     },
     "execution_count": 34,
     "metadata": {},
     "output_type": "execute_result"
    }
   ],
   "source": [
    "obj1.extract_even()"
   ]
  },
  {
   "cell_type": "code",
   "execution_count": 40,
   "id": "450e10f9-ad1e-46bb-9ee3-f6229bcbc5af",
   "metadata": {},
   "outputs": [],
   "source": [
    "class Book:\n",
    "    def __init__(self, name , author, title):\n",
    "        self.name_of_book = name\n",
    "        self.book_author = author\n",
    "        self.title_name = title\n",
    "\n",
    "    def extract_detail_name_title(self):\n",
    "        print(self.name_of_book, self.title_name)\n",
    "\n",
    "    def extract_detail_name_author(self):\n",
    "        print(self.name_of_book, self.book_author)\n",
    "        "
   ]
  },
  {
   "cell_type": "code",
   "execution_count": 41,
   "id": "30e69890-0db5-4a1a-b54d-dae6fdc475ab",
   "metadata": {},
   "outputs": [],
   "source": [
    "student1 = Book(\"ML\", \"MULPHY\", \"Linear Regression\")"
   ]
  },
  {
   "cell_type": "code",
   "execution_count": 42,
   "id": "fe06c3a3-aa98-4729-8ea2-7cf506a0264d",
   "metadata": {},
   "outputs": [
    {
     "name": "stdout",
     "output_type": "stream",
     "text": [
      "ML Linear Regression\n"
     ]
    }
   ],
   "source": [
    "student1.extract_detail_name_title()"
   ]
  },
  {
   "cell_type": "code",
   "execution_count": 43,
   "id": "865e639f-4ff8-4e9a-abaa-d59eb84bb707",
   "metadata": {},
   "outputs": [],
   "source": [
    "student2 = Book(\"DL\", \"abc\", \"CNN\")"
   ]
  },
  {
   "cell_type": "code",
   "execution_count": 44,
   "id": "b59ed873-0627-4926-98df-85e1fd09eb3c",
   "metadata": {},
   "outputs": [
    {
     "name": "stdout",
     "output_type": "stream",
     "text": [
      "DL abc\n"
     ]
    }
   ],
   "source": [
    "student2.extract_detail_name_author()"
   ]
  },
  {
   "cell_type": "code",
   "execution_count": 46,
   "id": "eb0633ff-379a-4d8e-94e0-c3b62dd9e9db",
   "metadata": {},
   "outputs": [
    {
     "data": {
      "text/plain": [
       "'DL'"
      ]
     },
     "execution_count": 46,
     "metadata": {},
     "output_type": "execute_result"
    }
   ],
   "source": [
    "student2.name_of_book"
   ]
  },
  {
   "cell_type": "code",
   "execution_count": 50,
   "id": "671faa72-b5f4-44e0-b463-c166da3e90dd",
   "metadata": {},
   "outputs": [],
   "source": [
    "class Book:\n",
    "    def __init__(self):\n",
    "        self.name_of_book = \"DSA\"\n",
    "        self.book_author = \"Cormen\"\n",
    "        self.title_name = \"Stack\"\n",
    "\n",
    "    def extract_detail_name_title(self):\n",
    "        print(self.name_of_book, self.title_name)\n",
    "\n",
    "    def extract_detail_name_author(self):\n",
    "        print(self.name_of_book, self.book_author)\n",
    "        "
   ]
  },
  {
   "cell_type": "code",
   "execution_count": 51,
   "id": "20afcaba-9def-47f7-8df1-8b14efcbcb92",
   "metadata": {},
   "outputs": [
    {
     "name": "stdout",
     "output_type": "stream",
     "text": [
      "DSA Cormen\n"
     ]
    }
   ],
   "source": [
    "student1 = Book()\n",
    "student1.extract_detail_name_author()"
   ]
  },
  {
   "cell_type": "code",
   "execution_count": null,
   "id": "c1ac34ee-7bd0-4cd5-aaf3-cecde4b05383",
   "metadata": {},
   "outputs": [],
   "source": []
  }
 ],
 "metadata": {
  "kernelspec": {
   "display_name": "Python 3 (ipykernel)",
   "language": "python",
   "name": "python3"
  },
  "language_info": {
   "codemirror_mode": {
    "name": "ipython",
    "version": 3
   },
   "file_extension": ".py",
   "mimetype": "text/x-python",
   "name": "python",
   "nbconvert_exporter": "python",
   "pygments_lexer": "ipython3",
   "version": "3.13.0"
  }
 },
 "nbformat": 4,
 "nbformat_minor": 5
}
