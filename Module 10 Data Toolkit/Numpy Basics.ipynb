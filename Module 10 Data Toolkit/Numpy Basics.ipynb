{
 "cells": [
  {
   "cell_type": "code",
   "execution_count": 1,
   "id": "d7c0bb7d-8d5b-4c68-aaff-8a1d1075940c",
   "metadata": {},
   "outputs": [],
   "source": [
    "# Numpy >> Numerical Python\n",
    "# 2005 by Travish Oliphant"
   ]
  },
  {
   "cell_type": "code",
   "execution_count": 6,
   "id": "21fb5dce-c134-453b-b686-cf6da421e130",
   "metadata": {},
   "outputs": [],
   "source": [
    "import numpy as np"
   ]
  },
  {
   "cell_type": "code",
   "execution_count": 7,
   "id": "08791b92-38a6-4924-97d5-c0058dbc5036",
   "metadata": {},
   "outputs": [
    {
     "data": {
      "text/plain": [
       "'2.1.3'"
      ]
     },
     "execution_count": 7,
     "metadata": {},
     "output_type": "execute_result"
    }
   ],
   "source": [
    "np.__version__"
   ]
  },
  {
   "cell_type": "code",
   "execution_count": 8,
   "id": "c3445a93-2f1b-41ef-933a-d72ac2073072",
   "metadata": {},
   "outputs": [
    {
     "name": "stdout",
     "output_type": "stream",
     "text": [
      "\n",
      "NumPy\n",
      "=====\n",
      "\n",
      "Provides\n",
      "  1. An array object of arbitrary homogeneous items\n",
      "  2. Fast mathematical operations over arrays\n",
      "  3. Linear Algebra, Fourier Transforms, Random Number Generation\n",
      "\n",
      "How to use the documentation\n",
      "----------------------------\n",
      "Documentation is available in two forms: docstrings provided\n",
      "with the code, and a loose standing reference guide, available from\n",
      "`the NumPy homepage <https://numpy.org>`_.\n",
      "\n",
      "We recommend exploring the docstrings using\n",
      "`IPython <https://ipython.org>`_, an advanced Python shell with\n",
      "TAB-completion and introspection capabilities.  See below for further\n",
      "instructions.\n",
      "\n",
      "The docstring examples assume that `numpy` has been imported as ``np``::\n",
      "\n",
      "  >>> import numpy as np\n",
      "\n",
      "Code snippets are indicated by three greater-than signs::\n",
      "\n",
      "  >>> x = 42\n",
      "  >>> x = x + 1\n",
      "\n",
      "Use the built-in ``help`` function to view a function's docstring::\n",
      "\n",
      "  >>> help(np.sort)\n",
      "  ... # doctest: +SKIP\n",
      "\n",
      "For some objects, ``np.info(obj)`` may provide additional help.  This is\n",
      "particularly true if you see the line \"Help on ufunc object:\" at the top\n",
      "of the help() page.  Ufuncs are implemented in C, not Python, for speed.\n",
      "The native Python help() does not know how to view their help, but our\n",
      "np.info() function does.\n",
      "\n",
      "Available subpackages\n",
      "---------------------\n",
      "lib\n",
      "    Basic functions used by several sub-packages.\n",
      "random\n",
      "    Core Random Tools\n",
      "linalg\n",
      "    Core Linear Algebra Tools\n",
      "fft\n",
      "    Core FFT routines\n",
      "polynomial\n",
      "    Polynomial tools\n",
      "testing\n",
      "    NumPy testing tools\n",
      "distutils\n",
      "    Enhancements to distutils with support for\n",
      "    Fortran compilers support and more (for Python <= 3.11)\n",
      "\n",
      "Utilities\n",
      "---------\n",
      "test\n",
      "    Run numpy unittests\n",
      "show_config\n",
      "    Show numpy build configuration\n",
      "__version__\n",
      "    NumPy version string\n",
      "\n",
      "Viewing documentation using IPython\n",
      "-----------------------------------\n",
      "\n",
      "Start IPython and import `numpy` usually under the alias ``np``: `import\n",
      "numpy as np`.  Then, directly past or use the ``%cpaste`` magic to paste\n",
      "examples into the shell.  To see which functions are available in `numpy`,\n",
      "type ``np.<TAB>`` (where ``<TAB>`` refers to the TAB key), or use\n",
      "``np.*cos*?<ENTER>`` (where ``<ENTER>`` refers to the ENTER key) to narrow\n",
      "down the list.  To view the docstring for a function, use\n",
      "``np.cos?<ENTER>`` (to view the docstring) and ``np.cos??<ENTER>`` (to view\n",
      "the source code).\n",
      "\n",
      "Copies vs. in-place operation\n",
      "-----------------------------\n",
      "Most of the functions in `numpy` return a copy of the array argument\n",
      "(e.g., `np.sort`).  In-place versions of these functions are often\n",
      "available as array methods, i.e. ``x = np.array([1,2,3]); x.sort()``.\n",
      "Exceptions to this rule are documented.\n",
      "\n",
      "\n"
     ]
    }
   ],
   "source": [
    "print(np.__doc__)"
   ]
  },
  {
   "cell_type": "code",
   "execution_count": 8,
   "id": "9687c388-d080-4ce6-9bc4-8e59367f72e9",
   "metadata": {},
   "outputs": [],
   "source": [
    " # Numpy store the data in an array\n",
    "# An array is a container used to store the data of same data type"
   ]
  },
  {
   "cell_type": "code",
   "execution_count": 9,
   "id": "6abda12e-b189-48fa-8be7-bb9b7495fc68",
   "metadata": {},
   "outputs": [],
   "source": [
    "# why Numpy\n",
    "# Computation is fast >> due t array  >> contineous memory location\n",
    "# mathematical camputation"
   ]
  },
  {
   "cell_type": "code",
   "execution_count": 10,
   "id": "86ae6ed5-8cf9-4ba7-8612-cf6920212d07",
   "metadata": {},
   "outputs": [],
   "source": [
    "l = [1, 2, 3, 4, 5]"
   ]
  },
  {
   "cell_type": "code",
   "execution_count": 10,
   "id": "c9817310-0f6f-4d6a-9388-474c87b5e139",
   "metadata": {},
   "outputs": [],
   "source": [
    "arr = np.array(l)"
   ]
  },
  {
   "cell_type": "code",
   "execution_count": 12,
   "id": "33b2a95d-0278-4957-bcb8-01793910bec1",
   "metadata": {},
   "outputs": [
    {
     "data": {
      "text/plain": [
       "array([1. , 2. , 3. , 4. , 5.1])"
      ]
     },
     "execution_count": 12,
     "metadata": {},
     "output_type": "execute_result"
    }
   ],
   "source": [
    "arr"
   ]
  },
  {
   "cell_type": "code",
   "execution_count": 9,
   "id": "c8e0c765-c540-46e4-bc4b-2befa9c089eb",
   "metadata": {},
   "outputs": [],
   "source": [
    "l = [1, 2, 3, 4, 5.1]\n",
    "arr = np.array(l)"
   ]
  },
  {
   "cell_type": "raw",
   "id": "ee08e1c9-8cd2-4b79-9009-8b839603fd15",
   "metadata": {},
   "source": [
    "l = [1, 2, 3, 4, 5.1, \"Ajay\"]"
   ]
  },
  {
   "cell_type": "code",
   "execution_count": 13,
   "id": "e0fcff98-9ecd-47b1-b537-45429a7f9262",
   "metadata": {},
   "outputs": [],
   "source": [
    " arr1 = np.array([[1, 2, 3], [4, 5, 6]])"
   ]
  },
  {
   "cell_type": "code",
   "execution_count": 14,
   "id": "16c66350-f37a-4e73-9f3a-91520ce7eb3a",
   "metadata": {},
   "outputs": [
    {
     "data": {
      "text/plain": [
       "array([[1, 2, 3],\n",
       "       [4, 5, 6]])"
      ]
     },
     "execution_count": 14,
     "metadata": {},
     "output_type": "execute_result"
    }
   ],
   "source": [
    "arr1"
   ]
  },
  {
   "cell_type": "code",
   "execution_count": 16,
   "id": "6332a530-e433-4c02-a7da-c30a5d3a905c",
   "metadata": {},
   "outputs": [],
   "source": [
    "mat = np.matrix([1, 2, 3, 4]) # matrix is a specialization array, 2 dimension"
   ]
  },
  {
   "cell_type": "code",
   "execution_count": 17,
   "id": "d15b4454-ff6f-4b1e-a8b9-1be4b6c409b6",
   "metadata": {},
   "outputs": [
    {
     "data": {
      "text/plain": [
       "numpy.matrix"
      ]
     },
     "execution_count": 17,
     "metadata": {},
     "output_type": "execute_result"
    }
   ],
   "source": [
    "type(mat)"
   ]
  },
  {
   "cell_type": "code",
   "execution_count": 18,
   "id": "4aac8bf6-315c-4410-b3bf-7bb13c97a867",
   "metadata": {},
   "outputs": [
    {
     "data": {
      "text/plain": [
       "array([1, 2, 3])"
      ]
     },
     "execution_count": 18,
     "metadata": {},
     "output_type": "execute_result"
    }
   ],
   "source": [
    "# more way to convert array\n",
    "l = [1, 2, 3]\n",
    "np.asarray(l)"
   ]
  },
  {
   "cell_type": "code",
   "execution_count": 19,
   "id": "ed8d1b06-f1d5-43f8-b95c-db022eff9870",
   "metadata": {},
   "outputs": [
    {
     "data": {
      "text/plain": [
       "array([[1, 2, 3, 4]])"
      ]
     },
     "execution_count": 19,
     "metadata": {},
     "output_type": "execute_result"
    }
   ],
   "source": [
    "np.asarray(mat)"
   ]
  },
  {
   "cell_type": "code",
   "execution_count": 20,
   "id": "9c966fe7-0207-42dd-a537-8f3b44ae1606",
   "metadata": {},
   "outputs": [
    {
     "data": {
      "text/plain": [
       "matrix([[1, 2, 3, 4]])"
      ]
     },
     "execution_count": 20,
     "metadata": {},
     "output_type": "execute_result"
    }
   ],
   "source": [
    "np.asanyarray(mat) #convert the input to an ndarray, but pass ndarray subclass through"
   ]
  },
  {
   "cell_type": "code",
   "execution_count": 22,
   "id": "3ee52fd7-71bf-4c00-8825-e470ae167515",
   "metadata": {},
   "outputs": [],
   "source": [
    "t = ([1, 2, 3], [4, 5, 6]) # tuple to array"
   ]
  },
  {
   "cell_type": "code",
   "execution_count": 23,
   "id": "68669e37-c8e9-4c67-8a4f-66770febef87",
   "metadata": {},
   "outputs": [
    {
     "data": {
      "text/plain": [
       "tuple"
      ]
     },
     "execution_count": 23,
     "metadata": {},
     "output_type": "execute_result"
    }
   ],
   "source": [
    "type(t)"
   ]
  },
  {
   "cell_type": "code",
   "execution_count": 24,
   "id": "94575070-e150-45f5-9ba2-c19dfc0534a1",
   "metadata": {},
   "outputs": [
    {
     "data": {
      "text/plain": [
       "array([[1, 2, 3],\n",
       "       [4, 5, 6]])"
      ]
     },
     "execution_count": 24,
     "metadata": {},
     "output_type": "execute_result"
    }
   ],
   "source": [
    "np.array(t)"
   ]
  },
  {
   "cell_type": "code",
   "execution_count": 25,
   "id": "35e1735b-1c14-4148-8d00-593d8457149f",
   "metadata": {},
   "outputs": [],
   "source": [
    "l = [1, 2, 3, 4, 5]"
   ]
  },
  {
   "cell_type": "code",
   "execution_count": 27,
   "id": "c29c6f7c-de49-428c-b019-77bb32edf884",
   "metadata": {},
   "outputs": [],
   "source": [
    "arr = np.array(l)"
   ]
  },
  {
   "cell_type": "code",
   "execution_count": 28,
   "id": "d2446704-bc4f-4865-b957-9f7a72e9f4e3",
   "metadata": {},
   "outputs": [
    {
     "data": {
      "text/plain": [
       "array([1, 2, 3, 4, 5])"
      ]
     },
     "execution_count": 28,
     "metadata": {},
     "output_type": "execute_result"
    }
   ],
   "source": [
    "arr"
   ]
  },
  {
   "cell_type": "code",
   "execution_count": 29,
   "id": "d7a4e9a9-f7b7-4dbd-9135-2a325d210ad0",
   "metadata": {},
   "outputs": [],
   "source": [
    "arr[0] = 500"
   ]
  },
  {
   "cell_type": "code",
   "execution_count": 38,
   "id": "5d8850d6-d6fc-460b-81eb-fe3d9dda0532",
   "metadata": {},
   "outputs": [
    {
     "data": {
      "text/plain": [
       "array([1000,    2,    3,    4,    5])"
      ]
     },
     "execution_count": 38,
     "metadata": {},
     "output_type": "execute_result"
    }
   ],
   "source": [
    "arr # shalow copy"
   ]
  },
  {
   "cell_type": "code",
   "execution_count": 31,
   "id": "6fd94808-08cf-48df-a53a-49bdaebaecfa",
   "metadata": {},
   "outputs": [],
   "source": [
    "a = arr.copy()"
   ]
  },
  {
   "cell_type": "code",
   "execution_count": 32,
   "id": "a2a477fe-3e23-43d5-a546-6714372ade4c",
   "metadata": {},
   "outputs": [
    {
     "data": {
      "text/plain": [
       "array([500,   2,   3,   4,   5])"
      ]
     },
     "execution_count": 32,
     "metadata": {},
     "output_type": "execute_result"
    }
   ],
   "source": [
    "a"
   ]
  },
  {
   "cell_type": "code",
   "execution_count": 33,
   "id": "517ff19a-9f0b-40a8-8a47-9cd52c74d20e",
   "metadata": {},
   "outputs": [
    {
     "data": {
      "text/plain": [
       "array([500,   2,   3,   4,   5])"
      ]
     },
     "execution_count": 33,
     "metadata": {},
     "output_type": "execute_result"
    }
   ],
   "source": [
    "arr"
   ]
  },
  {
   "cell_type": "code",
   "execution_count": 35,
   "id": "155ac7b9-1051-4d97-8128-cff2b8349415",
   "metadata": {},
   "outputs": [],
   "source": [
    "arr[0] = 1000"
   ]
  },
  {
   "cell_type": "code",
   "execution_count": 36,
   "id": "788c252c-ced8-4f87-bc22-d1ac2aa812c8",
   "metadata": {},
   "outputs": [
    {
     "data": {
      "text/plain": [
       "array([1000,    2,    3,    4,    5])"
      ]
     },
     "execution_count": 36,
     "metadata": {},
     "output_type": "execute_result"
    }
   ],
   "source": [
    "arr"
   ]
  },
  {
   "cell_type": "code",
   "execution_count": 39,
   "id": "c0343eba-c00f-48e7-ba17-94cbeadec73b",
   "metadata": {},
   "outputs": [
    {
     "data": {
      "text/plain": [
       "array([500,   2,   3,   4,   5])"
      ]
     },
     "execution_count": 39,
     "metadata": {},
     "output_type": "execute_result"
    }
   ],
   "source": [
    "a # deep copy"
   ]
  },
  {
   "cell_type": "code",
   "execution_count": 40,
   "id": "14139e22-4b06-4fe6-a291-f4fbc735d781",
   "metadata": {},
   "outputs": [],
   "source": [
    "# to create an array >> np.array, np.asarray, np.asanyarray, deep copy and shallow copy"
   ]
  },
  {
   "cell_type": "code",
   "execution_count": 41,
   "id": "435bd0d2-451f-4dfe-a268-9c7591311606",
   "metadata": {},
   "outputs": [],
   "source": [
    "# multiple ways to generate array"
   ]
  },
  {
   "cell_type": "code",
   "execution_count": 44,
   "id": "acb5dbb5-82f4-449a-baf0-8a79e63e71b5",
   "metadata": {},
   "outputs": [],
   "source": [
    "arr1 = np.fromfunction(lambda i, j : i==j, (3, 3)) # construct an array by executing a function over each coordinate"
   ]
  },
  {
   "cell_type": "code",
   "execution_count": 45,
   "id": "36a70f53-7682-4bf7-9979-8ae1d432c257",
   "metadata": {},
   "outputs": [
    {
     "data": {
      "text/plain": [
       "array([[ True, False, False],\n",
       "       [False,  True, False],\n",
       "       [False, False,  True]])"
      ]
     },
     "execution_count": 45,
     "metadata": {},
     "output_type": "execute_result"
    }
   ],
   "source": [
    "arr1"
   ]
  },
  {
   "cell_type": "code",
   "execution_count": 46,
   "id": "24a1e069-5259-4b18-b974-9b2feda727fc",
   "metadata": {},
   "outputs": [
    {
     "data": {
      "text/plain": [
       "2"
      ]
     },
     "execution_count": 46,
     "metadata": {},
     "output_type": "execute_result"
    }
   ],
   "source": [
    "arr1.ndim"
   ]
  },
  {
   "cell_type": "code",
   "execution_count": 48,
   "id": "9321bdf6-0495-469d-8881-a67cd15fa098",
   "metadata": {},
   "outputs": [
    {
     "data": {
      "text/plain": [
       "(3, 3)"
      ]
     },
     "execution_count": 48,
     "metadata": {},
     "output_type": "execute_result"
    }
   ],
   "source": [
    "arr1.shape # shape of array"
   ]
  },
  {
   "cell_type": "code",
   "execution_count": 49,
   "id": "357bf823-dd64-4c09-94b0-03d8ca6bb494",
   "metadata": {},
   "outputs": [
    {
     "data": {
      "text/plain": [
       "9"
      ]
     },
     "execution_count": 49,
     "metadata": {},
     "output_type": "execute_result"
    }
   ],
   "source": [
    "arr1.size # np of element in array"
   ]
  },
  {
   "cell_type": "code",
   "execution_count": 50,
   "id": "f0a944d4-2a08-4a30-8025-4414e3097602",
   "metadata": {},
   "outputs": [],
   "source": [
    "arr2 = np.fromfunction(lambda i, j : i*j, (3, 3))"
   ]
  },
  {
   "cell_type": "code",
   "execution_count": 51,
   "id": "883970d2-bcd5-4b7f-bd69-de9aa0422564",
   "metadata": {},
   "outputs": [
    {
     "data": {
      "text/plain": [
       "array([[0., 0., 0.],\n",
       "       [0., 1., 2.],\n",
       "       [0., 2., 4.]])"
      ]
     },
     "execution_count": 51,
     "metadata": {},
     "output_type": "execute_result"
    }
   ],
   "source": [
    "arr2"
   ]
  },
  {
   "cell_type": "code",
   "execution_count": 53,
   "id": "e2f82ff9-f60e-415a-b27b-67c00b1dddaa",
   "metadata": {},
   "outputs": [
    {
     "name": "stdout",
     "output_type": "stream",
     "text": [
      "0\n",
      "1\n",
      "2\n",
      "3\n",
      "4\n"
     ]
    }
   ],
   "source": [
    "for i in range(5):\n",
    "    print(i)"
   ]
  },
  {
   "cell_type": "code",
   "execution_count": 54,
   "id": "b8638ad0-f43a-46dd-80df-29f002b41f87",
   "metadata": {},
   "outputs": [
    {
     "data": {
      "text/plain": [
       "[0, 1, 2, 3, 4]"
      ]
     },
     "execution_count": 54,
     "metadata": {},
     "output_type": "execute_result"
    }
   ],
   "source": [
    "[i for i in range(5)]"
   ]
  },
  {
   "cell_type": "code",
   "execution_count": 55,
   "id": "c3dacd67-fc31-4cd2-966c-fb699ea75ea6",
   "metadata": {},
   "outputs": [
    {
     "data": {
      "text/plain": [
       "[0, 1, 2, 3, 4]"
      ]
     },
     "execution_count": 55,
     "metadata": {},
     "output_type": "execute_result"
    }
   ],
   "source": [
    "list(i for i in range(5))"
   ]
  },
  {
   "cell_type": "code",
   "execution_count": 56,
   "id": "2d197daa-5b23-4c19-aa5d-c629007a84ff",
   "metadata": {},
   "outputs": [],
   "source": [
    "iterable = (i for i in range(5))"
   ]
  },
  {
   "cell_type": "code",
   "execution_count": 58,
   "id": "b790baa7-9f6a-4aab-8634-2e2609d1f0de",
   "metadata": {},
   "outputs": [
    {
     "data": {
      "text/plain": [
       "array([0, 1, 2, 3, 4])"
      ]
     },
     "execution_count": 58,
     "metadata": {},
     "output_type": "execute_result"
    }
   ],
   "source": [
    "np.fromiter(iterable, int) # create a new 1-dimenstion array from an iterable object."
   ]
  },
  {
   "cell_type": "code",
   "execution_count": 63,
   "id": "a8bd0037-eb80-4d38-ba99-f169596c86fe",
   "metadata": {},
   "outputs": [
    {
     "data": {
      "text/plain": [
       "array([22., 23., 24.])"
      ]
     },
     "execution_count": 63,
     "metadata": {},
     "output_type": "execute_result"
    }
   ],
   "source": [
    "np.fromstring('22 23 24', sep = \" \") # should be numerical "
   ]
  },
  {
   "cell_type": "code",
   "execution_count": 62,
   "id": "72124163-7f35-433f-b383-10e8ad686b4a",
   "metadata": {},
   "outputs": [
    {
     "data": {
      "text/plain": [
       "array(['Ajay', 'Vijay', 'Sanjay'], dtype='<U6')"
      ]
     },
     "execution_count": 62,
     "metadata": {},
     "output_type": "execute_result"
    }
   ],
   "source": [
    "# for string character ypu have to use split\n",
    "string = \"Ajay,Vijay,Sanjay\"\n",
    "string1 = string.split(',')\n",
    "np.array(string1)"
   ]
  },
  {
   "cell_type": "code",
   "execution_count": 65,
   "id": "b9426597-f32f-4aae-a5d7-42058f781e33",
   "metadata": {},
   "outputs": [
    {
     "data": {
      "text/plain": [
       "array([1. , 1.1, 1.2, 1.3, 1.4, 1.5, 1.6, 1.7, 1.8, 1.9, 2. , 2.1, 2.2,\n",
       "       2.3, 2.4, 2.5, 2.6, 2.7, 2.8, 2.9, 3. , 3.1, 3.2, 3.3, 3.4, 3.5,\n",
       "       3.6, 3.7, 3.8, 3.9, 4. , 4.1, 4.2, 4.3, 4.4, 4.5, 4.6, 4.7, 4.8,\n",
       "       4.9, 5. , 5.1, 5.2, 5.3, 5.4, 5.5, 5.6, 5.7, 5.8, 5.9, 6. , 6.1,\n",
       "       6.2, 6.3, 6.4, 6.5, 6.6, 6.7, 6.8, 6.9, 7. , 7.1, 7.2, 7.3, 7.4,\n",
       "       7.5, 7.6, 7.7, 7.8, 7.9, 8. , 8.1, 8.2, 8.3, 8.4, 8.5, 8.6, 8.7,\n",
       "       8.8, 8.9, 9. , 9.1, 9.2, 9.3, 9.4, 9.5, 9.6, 9.7, 9.8, 9.9])"
      ]
     },
     "execution_count": 65,
     "metadata": {},
     "output_type": "execute_result"
    }
   ],
   "source": [
    "# other methed of numpy >> to generate seperate of num\n",
    "np.arange(1, 10, 0.1)"
   ]
  },
  {
   "cell_type": "code",
   "execution_count": 66,
   "id": "7646c77e-b65c-4b91-ab1d-60f48b5bee3f",
   "metadata": {},
   "outputs": [
    {
     "data": {
      "text/plain": [
       "array([1.        , 1.44444444, 1.88888889, 2.33333333, 2.77777778,\n",
       "       3.22222222, 3.66666667, 4.11111111, 4.55555556, 5.        ])"
      ]
     },
     "execution_count": 66,
     "metadata": {},
     "output_type": "execute_result"
    }
   ],
   "source": [
    "np.linspace(1, 5, 10)  #return evenly  spaced number over a specified interval.\n",
    "# give me 10 number between 1 and 5 evenly spaced"
   ]
  },
  {
   "cell_type": "code",
   "execution_count": 67,
   "id": "192863cb-ea13-4438-8dde-364b7f94bdb9",
   "metadata": {},
   "outputs": [
    {
     "data": {
      "text/plain": [
       "array([1.00000000e+01, 2.78255940e+01, 7.74263683e+01, 2.15443469e+02,\n",
       "       5.99484250e+02, 1.66810054e+03, 4.64158883e+03, 1.29154967e+04,\n",
       "       3.59381366e+04, 1.00000000e+05])"
      ]
     },
     "execution_count": 67,
     "metadata": {},
     "output_type": "execute_result"
    }
   ],
   "source": [
    "np.logspace(1, 5, 10)"
   ]
  },
  {
   "cell_type": "code",
   "execution_count": null,
   "id": "d247bdcf-323f-4cdb-a14a-8992769c3d5a",
   "metadata": {},
   "outputs": [],
   "source": []
  }
 ],
 "metadata": {
  "kernelspec": {
   "display_name": "Python 3 (ipykernel)",
   "language": "python",
   "name": "python3"
  },
  "language_info": {
   "codemirror_mode": {
    "name": "ipython",
    "version": 3
   },
   "file_extension": ".py",
   "mimetype": "text/x-python",
   "name": "python",
   "nbconvert_exporter": "python",
   "pygments_lexer": "ipython3",
   "version": "3.13.0"
  }
 },
 "nbformat": 4,
 "nbformat_minor": 5
}
