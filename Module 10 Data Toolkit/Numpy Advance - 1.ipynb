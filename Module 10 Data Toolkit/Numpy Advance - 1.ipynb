{
 "cells": [
  {
   "cell_type": "code",
   "execution_count": 3,
   "id": "f83f66e0-4183-43fc-9e38-03d5a11c8106",
   "metadata": {},
   "outputs": [],
   "source": [
    "import numpy as np"
   ]
  },
  {
   "cell_type": "code",
   "execution_count": 5,
   "id": "0a95330a-bd9c-4fe4-ad15-cf4e3e80840a",
   "metadata": {},
   "outputs": [],
   "source": [
    "a= np.zeros(5) # Return a new array of given shape and type, filled with zero."
   ]
  },
  {
   "cell_type": "code",
   "execution_count": 6,
   "id": "b564a23e-b54d-4f4c-b7ce-ba9114fa94ac",
   "metadata": {},
   "outputs": [
    {
     "data": {
      "text/plain": [
       "array([0., 0., 0., 0., 0.])"
      ]
     },
     "execution_count": 6,
     "metadata": {},
     "output_type": "execute_result"
    }
   ],
   "source": [
    "a"
   ]
  },
  {
   "cell_type": "code",
   "execution_count": 7,
   "id": "bb84a42e-37bd-4580-a11a-176d44692924",
   "metadata": {},
   "outputs": [
    {
     "data": {
      "text/plain": [
       "1"
      ]
     },
     "execution_count": 7,
     "metadata": {},
     "output_type": "execute_result"
    }
   ],
   "source": [
    "a.ndim"
   ]
  },
  {
   "cell_type": "code",
   "execution_count": 8,
   "id": "2abab8fe-4819-4864-8396-766e956b1e9a",
   "metadata": {},
   "outputs": [],
   "source": [
    "b = np.zeros((3, 4))"
   ]
  },
  {
   "cell_type": "code",
   "execution_count": 9,
   "id": "5e18b3ac-3c69-4f65-92c2-930e68566aef",
   "metadata": {},
   "outputs": [
    {
     "data": {
      "text/plain": [
       "2"
      ]
     },
     "execution_count": 9,
     "metadata": {},
     "output_type": "execute_result"
    }
   ],
   "source": [
    "b.ndim"
   ]
  },
  {
   "cell_type": "code",
   "execution_count": 11,
   "id": "976029c9-9b54-4a75-ad79-5f5986d1a213",
   "metadata": {},
   "outputs": [
    {
     "data": {
      "text/plain": [
       "array([[1., 1., 1., 1.],\n",
       "       [1., 1., 1., 1.],\n",
       "       [1., 1., 1., 1.]])"
      ]
     },
     "execution_count": 11,
     "metadata": {},
     "output_type": "execute_result"
    }
   ],
   "source": [
    "np.ones((3, 4))"
   ]
  },
  {
   "cell_type": "code",
   "execution_count": 12,
   "id": "4ca6e0f4-019e-4efb-bd76-d70bf7f1e239",
   "metadata": {},
   "outputs": [
    {
     "data": {
      "text/plain": [
       "array([[2, 2, 2],\n",
       "       [2, 2, 2]])"
      ]
     },
     "execution_count": 12,
     "metadata": {},
     "output_type": "execute_result"
    }
   ],
   "source": [
    "np.array([[2, 2, 2], [2, 2, 2]])"
   ]
  },
  {
   "cell_type": "code",
   "execution_count": 14,
   "id": "36e6f24a-7fe5-4243-a348-02fbf0bf5060",
   "metadata": {},
   "outputs": [],
   "source": [
    "arr = np.zeros((3,4))"
   ]
  },
  {
   "cell_type": "code",
   "execution_count": 15,
   "id": "f53aa50d-00df-41ad-88c9-f3d9dd996ca5",
   "metadata": {},
   "outputs": [
    {
     "data": {
      "text/plain": [
       "array([[0., 0., 0., 0.],\n",
       "       [0., 0., 0., 0.],\n",
       "       [0., 0., 0., 0.]])"
      ]
     },
     "execution_count": 15,
     "metadata": {},
     "output_type": "execute_result"
    }
   ],
   "source": [
    "arr"
   ]
  },
  {
   "cell_type": "code",
   "execution_count": 16,
   "id": "96af4503-e1b8-4320-b24a-acccf402fcdb",
   "metadata": {},
   "outputs": [
    {
     "data": {
      "text/plain": [
       "2"
      ]
     },
     "execution_count": 16,
     "metadata": {},
     "output_type": "execute_result"
    }
   ],
   "source": [
    "arr.ndim"
   ]
  },
  {
   "cell_type": "code",
   "execution_count": 17,
   "id": "f123f83d-0b92-4ff6-accb-52d4593aa08c",
   "metadata": {},
   "outputs": [],
   "source": [
    "# 3 dimenstional array "
   ]
  },
  {
   "cell_type": "code",
   "execution_count": 18,
   "id": "e244776f-4203-4893-bea9-299ec36b2cd2",
   "metadata": {},
   "outputs": [],
   "source": [
    "arr = np.zeros((1, 3, 4))"
   ]
  },
  {
   "cell_type": "code",
   "execution_count": 19,
   "id": "94025805-d015-43da-af15-79b33a3b34f5",
   "metadata": {},
   "outputs": [
    {
     "data": {
      "text/plain": [
       "array([[[0., 0., 0., 0.],\n",
       "        [0., 0., 0., 0.],\n",
       "        [0., 0., 0., 0.]]])"
      ]
     },
     "execution_count": 19,
     "metadata": {},
     "output_type": "execute_result"
    }
   ],
   "source": [
    "arr"
   ]
  },
  {
   "cell_type": "code",
   "execution_count": 20,
   "id": "535a4d90-7935-4acd-b659-5989b80eb5fe",
   "metadata": {},
   "outputs": [
    {
     "data": {
      "text/plain": [
       "3"
      ]
     },
     "execution_count": 20,
     "metadata": {},
     "output_type": "execute_result"
    }
   ],
   "source": [
    "arr.ndim"
   ]
  },
  {
   "cell_type": "code",
   "execution_count": 26,
   "id": "d6d24a4a-2baa-434a-aad0-098e0ac96f9c",
   "metadata": {},
   "outputs": [],
   "source": [
    "arr = np.zeros((1, 1, 3, 4))"
   ]
  },
  {
   "cell_type": "code",
   "execution_count": 27,
   "id": "a046cb59-14cf-4eb9-9d30-b46b0c4cd65b",
   "metadata": {},
   "outputs": [
    {
     "data": {
      "text/plain": [
       "array([[[[0., 0., 0., 0.],\n",
       "         [0., 0., 0., 0.],\n",
       "         [0., 0., 0., 0.]]]])"
      ]
     },
     "execution_count": 27,
     "metadata": {},
     "output_type": "execute_result"
    }
   ],
   "source": [
    "arr"
   ]
  },
  {
   "cell_type": "code",
   "execution_count": 28,
   "id": "3d38158e-65a0-4f8f-af2f-9eb2589385ea",
   "metadata": {},
   "outputs": [
    {
     "data": {
      "text/plain": [
       "4"
      ]
     },
     "execution_count": 28,
     "metadata": {},
     "output_type": "execute_result"
    }
   ],
   "source": [
    "arr.ndim"
   ]
  },
  {
   "cell_type": "code",
   "execution_count": 29,
   "id": "2f4567e2-d87f-4943-a9a2-6840bf3a290c",
   "metadata": {},
   "outputs": [],
   "source": [
    "arr = np.ones((3, 4))"
   ]
  },
  {
   "cell_type": "code",
   "execution_count": 30,
   "id": "7b8f7f2c-2438-4a79-859b-d0839f0b3d61",
   "metadata": {},
   "outputs": [
    {
     "data": {
      "text/plain": [
       "2"
      ]
     },
     "execution_count": 30,
     "metadata": {},
     "output_type": "execute_result"
    }
   ],
   "source": [
    "arr.ndim"
   ]
  },
  {
   "cell_type": "code",
   "execution_count": 31,
   "id": "723324a9-9661-4429-827f-b149e2139b58",
   "metadata": {},
   "outputs": [
    {
     "data": {
      "text/plain": [
       "array([[1., 1., 1., 1.],\n",
       "       [1., 1., 1., 1.],\n",
       "       [1., 1., 1., 1.]])"
      ]
     },
     "execution_count": 31,
     "metadata": {},
     "output_type": "execute_result"
    }
   ],
   "source": [
    "arr"
   ]
  },
  {
   "cell_type": "code",
   "execution_count": 32,
   "id": "8ea9746c-a47c-436e-b78b-8322c30f0769",
   "metadata": {},
   "outputs": [
    {
     "data": {
      "text/plain": [
       "array([[6., 6., 6., 6.],\n",
       "       [6., 6., 6., 6.],\n",
       "       [6., 6., 6., 6.]])"
      ]
     },
     "execution_count": 32,
     "metadata": {},
     "output_type": "execute_result"
    }
   ],
   "source": [
    "arr + 5"
   ]
  },
  {
   "cell_type": "code",
   "execution_count": 36,
   "id": "39771414-328f-471a-91c2-4d3e4edb6e4a",
   "metadata": {},
   "outputs": [],
   "source": [
    "a = arr * 5"
   ]
  },
  {
   "cell_type": "code",
   "execution_count": 37,
   "id": "9e743036-80a3-495c-bd08-e6ca6b85a95c",
   "metadata": {},
   "outputs": [
    {
     "data": {
      "text/plain": [
       "array([[4., 4., 4., 4.],\n",
       "       [4., 4., 4., 4.],\n",
       "       [4., 4., 4., 4.]])"
      ]
     },
     "execution_count": 37,
     "metadata": {},
     "output_type": "execute_result"
    }
   ],
   "source": [
    "a - 1"
   ]
  },
  {
   "cell_type": "code",
   "execution_count": 39,
   "id": "30ae0f3a-b181-4e31-ada0-3ef44be00b34",
   "metadata": {},
   "outputs": [
    {
     "data": {
      "text/plain": [
       "array([[1., 0., 0.],\n",
       "       [0., 1., 0.],\n",
       "       [0., 0., 1.]])"
      ]
     },
     "execution_count": 39,
     "metadata": {},
     "output_type": "execute_result"
    }
   ],
   "source": [
    "np.eye(3) # Return a 2-D array with ones on the diagonal and zeros elsewhere."
   ]
  },
  {
   "cell_type": "code",
   "execution_count": 40,
   "id": "438a85b0-d41e-452b-939d-2c461a10fcc4",
   "metadata": {},
   "outputs": [
    {
     "data": {
      "text/plain": [
       "array([[1, 0, 0],\n",
       "       [0, 1, 0],\n",
       "       [0, 0, 1]])"
      ]
     },
     "execution_count": 40,
     "metadata": {},
     "output_type": "execute_result"
    }
   ],
   "source": [
    "np.eye(3, dtype = int)"
   ]
  },
  {
   "cell_type": "code",
   "execution_count": 42,
   "id": "794954aa-3b23-4bb7-9ebd-64a375f4af9d",
   "metadata": {},
   "outputs": [
    {
     "data": {
      "text/plain": [
       "array([[4., 4., 4., 4.],\n",
       "       [4., 4., 4., 4.],\n",
       "       [4., 4., 4., 4.]])"
      ]
     },
     "execution_count": 42,
     "metadata": {},
     "output_type": "execute_result"
    }
   ],
   "source": [
    "np.empty((3, 4)) # return a new array of given shape and type, without initialing entries."
   ]
  },
  {
   "cell_type": "code",
   "execution_count": 47,
   "id": "1e444d84-41db-439c-a65a-08d136145d87",
   "metadata": {},
   "outputs": [
    {
     "data": {
      "text/plain": [
       "5"
      ]
     },
     "execution_count": 47,
     "metadata": {},
     "output_type": "execute_result"
    }
   ],
   "source": [
    "# optional >> random module \n",
    "\n",
    "import random\n",
    "random.choice((1, 2, 3, 4, 5))"
   ]
  },
  {
   "cell_type": "code",
   "execution_count": 49,
   "id": "4ecd7b0f-2da4-4375-9470-d9a0d520340a",
   "metadata": {},
   "outputs": [
    {
     "data": {
      "text/plain": [
       "'j'"
      ]
     },
     "execution_count": 49,
     "metadata": {},
     "output_type": "execute_result"
    }
   ],
   "source": [
    "random.choice('ajay')"
   ]
  },
  {
   "cell_type": "code",
   "execution_count": 51,
   "id": "93637db9-c61a-4e76-97a2-32315fd84945",
   "metadata": {},
   "outputs": [
    {
     "data": {
      "text/plain": [
       "7"
      ]
     },
     "execution_count": 51,
     "metadata": {},
     "output_type": "execute_result"
    }
   ],
   "source": [
    "random.randrange(1, 10)"
   ]
  },
  {
   "cell_type": "code",
   "execution_count": 52,
   "id": "2a2c5837-781d-4a64-adb4-e2755f9ac1cd",
   "metadata": {},
   "outputs": [
    {
     "data": {
      "text/plain": [
       "0.6435133699398968"
      ]
     },
     "execution_count": 52,
     "metadata": {},
     "output_type": "execute_result"
    }
   ],
   "source": [
    "random.random() # a random no is generated between 0(included) and 1(excluded)"
   ]
  },
  {
   "cell_type": "code",
   "execution_count": 53,
   "id": "8218248c-87ae-4f38-a645-6ff69680e05a",
   "metadata": {},
   "outputs": [],
   "source": [
    "lis = [1, 2, 3, 4, 5]"
   ]
  },
  {
   "cell_type": "code",
   "execution_count": 54,
   "id": "b95efa14-00a0-4d9c-b695-1ad83a63a756",
   "metadata": {},
   "outputs": [],
   "source": [
    "random.shuffle(lis)"
   ]
  },
  {
   "cell_type": "code",
   "execution_count": 55,
   "id": "1b0f5b5b-c03d-411f-98d6-4d9902491dbf",
   "metadata": {},
   "outputs": [
    {
     "data": {
      "text/plain": [
       "[5, 1, 4, 3, 2]"
      ]
     },
     "execution_count": 55,
     "metadata": {},
     "output_type": "execute_result"
    }
   ],
   "source": [
    "lis"
   ]
  },
  {
   "cell_type": "code",
   "execution_count": 56,
   "id": "41b26a5f-f3c2-43fd-bbc4-39bd7c1838d4",
   "metadata": {},
   "outputs": [
    {
     "data": {
      "text/plain": [
       "11.483167153712898"
      ]
     },
     "execution_count": 56,
     "metadata": {},
     "output_type": "execute_result"
    }
   ],
   "source": [
    "random.uniform(7, 14)"
   ]
  },
  {
   "cell_type": "code",
   "execution_count": 58,
   "id": "b317e55a-1173-441b-8afa-8f4cc85c068a",
   "metadata": {},
   "outputs": [
    {
     "data": {
      "text/plain": [
       "array([], dtype=float64)"
      ]
     },
     "execution_count": 58,
     "metadata": {},
     "output_type": "execute_result"
    }
   ],
   "source": [
    "# to have random number related concept in numpy\n",
    "np.array([])"
   ]
  },
  {
   "cell_type": "code",
   "execution_count": 60,
   "id": "ec346ac1-3356-404d-847a-ee98d574b888",
   "metadata": {},
   "outputs": [
    {
     "data": {
      "text/plain": [
       "0.07963255130889801"
      ]
     },
     "execution_count": 60,
     "metadata": {},
     "output_type": "execute_result"
    }
   ],
   "source": [
    "np.random.random_sample()"
   ]
  },
  {
   "cell_type": "code",
   "execution_count": 61,
   "id": "b332b36b-1065-4c69-9ca6-80a98ca2f069",
   "metadata": {},
   "outputs": [
    {
     "data": {
      "text/plain": [
       "array([0.8539665 , 0.81693353, 0.2675574 , 0.19363985, 0.68106424])"
      ]
     },
     "execution_count": 61,
     "metadata": {},
     "output_type": "execute_result"
    }
   ],
   "source": [
    "np.random.random_sample((5, ))"
   ]
  },
  {
   "cell_type": "code",
   "execution_count": 62,
   "id": "9a20fb05-fc8b-4fe7-ae23-832d7dc9451d",
   "metadata": {},
   "outputs": [
    {
     "data": {
      "text/plain": [
       "array([0.41282756])"
      ]
     },
     "execution_count": 62,
     "metadata": {},
     "output_type": "execute_result"
    }
   ],
   "source": [
    "np.random.rand(1)"
   ]
  },
  {
   "cell_type": "code",
   "execution_count": 64,
   "id": "52c20f26-e700-4d4a-a334-a9ba4f3d5187",
   "metadata": {},
   "outputs": [
    {
     "data": {
      "text/plain": [
       "array([[0.38360325, 0.01687256, 0.94624867],\n",
       "       [0.02005968, 0.07022847, 0.73126863]])"
      ]
     },
     "execution_count": 64,
     "metadata": {},
     "output_type": "execute_result"
    }
   ],
   "source": [
    "np.random.rand(2, 3)"
   ]
  },
  {
   "cell_type": "code",
   "execution_count": 65,
   "id": "66251aca-a67a-49f7-b60f-ba33beb71bc8",
   "metadata": {},
   "outputs": [
    {
     "data": {
      "text/plain": [
       "array([[ 1.03562589,  0.16137452,  1.28882306],\n",
       "       [-0.35714469,  1.16091657, -0.59282664]])"
      ]
     },
     "execution_count": 65,
     "metadata": {},
     "output_type": "execute_result"
    }
   ],
   "source": [
    "np.random.randn(2, 3)"
   ]
  },
  {
   "cell_type": "code",
   "execution_count": 67,
   "id": "488a63b4-bdd5-4237-a56a-5c7321295668",
   "metadata": {},
   "outputs": [],
   "source": [
    "arr = np.random.randint(1, 5, size= (3, 4))"
   ]
  },
  {
   "cell_type": "code",
   "execution_count": 68,
   "id": "0b259479-7951-4a58-be0b-479778d7f2a1",
   "metadata": {},
   "outputs": [
    {
     "data": {
      "text/plain": [
       "2"
      ]
     },
     "execution_count": 68,
     "metadata": {},
     "output_type": "execute_result"
    }
   ],
   "source": [
    "arr.ndim"
   ]
  },
  {
   "cell_type": "code",
   "execution_count": 69,
   "id": "4dc3bc94-1d00-4e1b-b882-f8949ab9168c",
   "metadata": {},
   "outputs": [
    {
     "data": {
      "text/plain": [
       "12"
      ]
     },
     "execution_count": 69,
     "metadata": {},
     "output_type": "execute_result"
    }
   ],
   "source": [
    "arr.size"
   ]
  },
  {
   "cell_type": "code",
   "execution_count": 70,
   "id": "455d2ca3-6e33-403f-9391-e303b17ed4f0",
   "metadata": {},
   "outputs": [
    {
     "data": {
      "text/plain": [
       "array([[2, 2, 4, 4],\n",
       "       [4, 3, 3, 2],\n",
       "       [1, 1, 1, 4]], dtype=int32)"
      ]
     },
     "execution_count": 70,
     "metadata": {},
     "output_type": "execute_result"
    }
   ],
   "source": [
    "# reshaping the array\n",
    "\n",
    "arr"
   ]
  },
  {
   "cell_type": "code",
   "execution_count": 72,
   "id": "6d24cfe9-63b8-46dd-a92c-a94e8a8b03b1",
   "metadata": {},
   "outputs": [],
   "source": [
    "arr1 = arr.reshape(2, 6)"
   ]
  },
  {
   "cell_type": "code",
   "execution_count": 73,
   "id": "ea19869e-d5c0-46dd-bc8d-7869ad66f3b8",
   "metadata": {},
   "outputs": [
    {
     "data": {
      "text/plain": [
       "12"
      ]
     },
     "execution_count": 73,
     "metadata": {},
     "output_type": "execute_result"
    }
   ],
   "source": [
    "arr1.size"
   ]
  },
  {
   "cell_type": "code",
   "execution_count": 74,
   "id": "45951a58-0695-44a5-91dc-0afa24e98237",
   "metadata": {},
   "outputs": [],
   "source": [
    "# array size will not change, always reshape parameter should be multiplication of original array size"
   ]
  },
  {
   "cell_type": "code",
   "execution_count": 76,
   "id": "5bbde849-4d89-417e-864f-cdf7b1127815",
   "metadata": {},
   "outputs": [
    {
     "data": {
      "text/plain": [
       "array([[2, 2, 4],\n",
       "       [4, 4, 3],\n",
       "       [3, 2, 1],\n",
       "       [1, 1, 4]], dtype=int32)"
      ]
     },
     "execution_count": 76,
     "metadata": {},
     "output_type": "execute_result"
    }
   ],
   "source": [
    "# case when you don't know in reshape what should be the column count.\n",
    "arr.reshape(4, -1)"
   ]
  },
  {
   "cell_type": "code",
   "execution_count": 77,
   "id": "dab8d9e4-6291-43dc-a1e7-e16f9a54c124",
   "metadata": {},
   "outputs": [
    {
     "data": {
      "text/plain": [
       "array([[2, 2, 4, 4, 4, 3],\n",
       "       [3, 2, 1, 1, 1, 4]], dtype=int32)"
      ]
     },
     "execution_count": 77,
     "metadata": {},
     "output_type": "execute_result"
    }
   ],
   "source": [
    "arr.reshape(2, -100)"
   ]
  },
  {
   "cell_type": "code",
   "execution_count": 80,
   "id": "954e1455-66f4-4c02-bb02-ebf054e5d84a",
   "metadata": {},
   "outputs": [
    {
     "data": {
      "text/plain": [
       "array([[2, 2, 4],\n",
       "       [4, 4, 3],\n",
       "       [3, 2, 1],\n",
       "       [1, 1, 4]], dtype=int32)"
      ]
     },
     "execution_count": 80,
     "metadata": {},
     "output_type": "execute_result"
    }
   ],
   "source": [
    "arr.reshape(-2, 3) # you know column count but no row count"
   ]
  },
  {
   "cell_type": "code",
   "execution_count": 81,
   "id": "5cb63d97-bc69-4fe4-81ac-cee3fce73757",
   "metadata": {},
   "outputs": [
    {
     "data": {
      "text/plain": [
       "array([[[2, 2, 4],\n",
       "        [4, 4, 3]],\n",
       "\n",
       "       [[3, 2, 1],\n",
       "        [1, 1, 4]]], dtype=int32)"
      ]
     },
     "execution_count": 81,
     "metadata": {},
     "output_type": "execute_result"
    }
   ],
   "source": [
    "arr.reshape(2, 2, 3)"
   ]
  },
  {
   "cell_type": "code",
   "execution_count": 82,
   "id": "b35065e5-a8ee-407f-b82e-6e7bee39f343",
   "metadata": {},
   "outputs": [
    {
     "data": {
      "text/plain": [
       "array([[[[2, 2, 4],\n",
       "         [4, 4, 3]],\n",
       "\n",
       "        [[3, 2, 1],\n",
       "         [1, 1, 4]]]], dtype=int32)"
      ]
     },
     "execution_count": 82,
     "metadata": {},
     "output_type": "execute_result"
    }
   ],
   "source": [
    "arr.reshape(1, 2, 2, 3)"
   ]
  },
  {
   "cell_type": "code",
   "execution_count": 83,
   "id": "c72cb794-f2f7-4209-b209-acfefd25edfa",
   "metadata": {},
   "outputs": [
    {
     "data": {
      "text/plain": [
       "4"
      ]
     },
     "execution_count": 83,
     "metadata": {},
     "output_type": "execute_result"
    }
   ],
   "source": [
    "arr.reshape(1, 2, 2, 3).ndim"
   ]
  },
  {
   "cell_type": "code",
   "execution_count": 90,
   "id": "72af0c27-56d3-40f5-bf61-1ab3da4f252f",
   "metadata": {},
   "outputs": [],
   "source": [
    "# condition on array\n",
    "\n",
    "arr2 = np.random.randint(1, 10, (5, 6))"
   ]
  },
  {
   "cell_type": "code",
   "execution_count": 91,
   "id": "6a96217c-0140-48d8-b779-2af2edc23005",
   "metadata": {},
   "outputs": [
    {
     "data": {
      "text/plain": [
       "2"
      ]
     },
     "execution_count": 91,
     "metadata": {},
     "output_type": "execute_result"
    }
   ],
   "source": [
    "arr2.ndim"
   ]
  },
  {
   "cell_type": "code",
   "execution_count": 92,
   "id": "f5f8b3a9-cb37-46f5-b471-ee6765aba944",
   "metadata": {},
   "outputs": [],
   "source": [
    "arr3 = np.random.randint(1, 10, (5, 6))"
   ]
  },
  {
   "cell_type": "code",
   "execution_count": 95,
   "id": "746fe3f1-a4bf-46a5-8bb8-ecf27b59459d",
   "metadata": {},
   "outputs": [
    {
     "data": {
      "text/plain": [
       "array([6, 4, 9, 5, 2, 2], dtype=int32)"
      ]
     },
     "execution_count": 95,
     "metadata": {},
     "output_type": "execute_result"
    }
   ],
   "source": [
    "# to access elemnt in array\n",
    "arr3[0]"
   ]
  },
  {
   "cell_type": "code",
   "execution_count": 96,
   "id": "813b3c44-64ee-4660-bb19-64581c4fc835",
   "metadata": {},
   "outputs": [
    {
     "data": {
      "text/plain": [
       "array([[6, 4, 9, 5, 2, 2],\n",
       "       [3, 9, 2, 1, 5, 5],\n",
       "       [9, 4, 2, 3, 5, 7],\n",
       "       [7, 4, 8, 3, 8, 8],\n",
       "       [8, 6, 1, 2, 4, 1]], dtype=int32)"
      ]
     },
     "execution_count": 96,
     "metadata": {},
     "output_type": "execute_result"
    }
   ],
   "source": [
    "arr3"
   ]
  },
  {
   "cell_type": "code",
   "execution_count": 98,
   "id": "37fc33d5-bec1-46c8-b35a-77b408f13dce",
   "metadata": {},
   "outputs": [
    {
     "data": {
      "text/plain": [
       "array([[6, 4, 9, 5, 2, 2],\n",
       "       [3, 9, 2, 1, 5, 5],\n",
       "       [9, 4, 2, 3, 5, 7]], dtype=int32)"
      ]
     },
     "execution_count": 98,
     "metadata": {},
     "output_type": "execute_result"
    }
   ],
   "source": [
    "arr3[0:3]"
   ]
  },
  {
   "cell_type": "code",
   "execution_count": 100,
   "id": "1df177a8-8eb4-4fc9-be32-f5172c7d5f7b",
   "metadata": {},
   "outputs": [
    {
     "data": {
      "text/plain": [
       "array([[6, 9],\n",
       "       [3, 2],\n",
       "       [9, 2]], dtype=int32)"
      ]
     },
     "execution_count": 100,
     "metadata": {},
     "output_type": "execute_result"
    }
   ],
   "source": [
    "arr3[0:3, [0, 2]] # 0 to 2nd row and oth and 2nd column"
   ]
  },
  {
   "cell_type": "code",
   "execution_count": 103,
   "id": "d679c7f3-a4cd-4045-98c4-3867ff8ea536",
   "metadata": {},
   "outputs": [],
   "source": [
    "# sliccing on both row and column"
   ]
  },
  {
   "cell_type": "code",
   "execution_count": 104,
   "id": "6c1703ef-d916-43f7-8c60-9456d0ad8cec",
   "metadata": {},
   "outputs": [
    {
     "data": {
      "text/plain": [
       "array([[6, 4, 9, 5, 2, 2],\n",
       "       [3, 9, 2, 1, 5, 5],\n",
       "       [9, 4, 2, 3, 5, 7],\n",
       "       [7, 4, 8, 3, 8, 8],\n",
       "       [8, 6, 1, 2, 4, 1]], dtype=int32)"
      ]
     },
     "execution_count": 104,
     "metadata": {},
     "output_type": "execute_result"
    }
   ],
   "source": [
    "arr3"
   ]
  },
  {
   "cell_type": "code",
   "execution_count": 102,
   "id": "e8f03222-54a5-4709-a125-af1aa204520d",
   "metadata": {},
   "outputs": [
    {
     "data": {
      "text/plain": [
       "array([[4, 9],\n",
       "       [9, 2],\n",
       "       [4, 2]], dtype=int32)"
      ]
     },
     "execution_count": 102,
     "metadata": {},
     "output_type": "execute_result"
    }
   ],
   "source": [
    "arr3[0:3, 1:3]"
   ]
  },
  {
   "cell_type": "code",
   "execution_count": 105,
   "id": "dae0b80e-4f8b-48be-a2d4-c322de5da5e6",
   "metadata": {},
   "outputs": [
    {
     "data": {
      "text/plain": [
       "array([[2, 3],\n",
       "       [8, 3],\n",
       "       [1, 2]], dtype=int32)"
      ]
     },
     "execution_count": 105,
     "metadata": {},
     "output_type": "execute_result"
    }
   ],
   "source": [
    "arr3[2:5, 2:4]"
   ]
  },
  {
   "cell_type": "code",
   "execution_count": 106,
   "id": "4c46c501-77ce-4973-b71d-24ac31343828",
   "metadata": {},
   "outputs": [
    {
     "data": {
      "text/plain": [
       "array([4, 5], dtype=int32)"
      ]
     },
     "execution_count": 106,
     "metadata": {},
     "output_type": "execute_result"
    }
   ],
   "source": [
    "arr3[0, [1, 3]]"
   ]
  },
  {
   "cell_type": "code",
   "execution_count": 4,
   "id": "30868be2-9e2c-4970-8dbf-4538852c1c5a",
   "metadata": {},
   "outputs": [],
   "source": [
    "# mathemetical operatinal on two array\n",
    "arr1 = np.random.randint(1, 3, (3, 3))\n",
    "arr2 = np.random.randint(1, 3, (3, 3))"
   ]
  },
  {
   "cell_type": "code",
   "execution_count": 108,
   "id": "0726ddc2-6a61-4b93-968e-30328b0bf961",
   "metadata": {},
   "outputs": [
    {
     "data": {
      "text/plain": [
       "array([[1, 1, 2],\n",
       "       [2, 2, 2],\n",
       "       [1, 1, 2]], dtype=int32)"
      ]
     },
     "execution_count": 108,
     "metadata": {},
     "output_type": "execute_result"
    }
   ],
   "source": [
    "arr1"
   ]
  },
  {
   "cell_type": "code",
   "execution_count": 109,
   "id": "31d0c5b4-1c1c-45f0-91b0-8c154734b4c0",
   "metadata": {},
   "outputs": [
    {
     "data": {
      "text/plain": [
       "array([[1, 2, 1],\n",
       "       [1, 1, 1],\n",
       "       [1, 1, 1]], dtype=int32)"
      ]
     },
     "execution_count": 109,
     "metadata": {},
     "output_type": "execute_result"
    }
   ],
   "source": [
    "arr2"
   ]
  },
  {
   "cell_type": "code",
   "execution_count": 110,
   "id": "e402b58a-227e-42e8-b21e-8b0930b9a2eb",
   "metadata": {},
   "outputs": [
    {
     "data": {
      "text/plain": [
       "array([[2, 3, 3],\n",
       "       [3, 3, 3],\n",
       "       [2, 2, 3]], dtype=int32)"
      ]
     },
     "execution_count": 110,
     "metadata": {},
     "output_type": "execute_result"
    }
   ],
   "source": [
    "arr1 + arr2"
   ]
  },
  {
   "cell_type": "code",
   "execution_count": 113,
   "id": "92d389db-4a19-42e0-9595-3533cdc6f438",
   "metadata": {},
   "outputs": [
    {
     "data": {
      "text/plain": [
       "array([[ 0,  1,  1],\n",
       "       [ 0,  0,  1],\n",
       "       [ 0, -1,  0]], dtype=int32)"
      ]
     },
     "execution_count": 113,
     "metadata": {},
     "output_type": "execute_result"
    }
   ],
   "source": [
    "arr1-arr2 # indexwise element subs"
   ]
  },
  {
   "cell_type": "code",
   "execution_count": 114,
   "id": "22179121-e287-4040-9409-4ac660f0cf56",
   "metadata": {},
   "outputs": [
    {
     "data": {
      "text/plain": [
       "array([[4, 2, 2],\n",
       "       [4, 1, 2],\n",
       "       [1, 2, 1]], dtype=int32)"
      ]
     },
     "execution_count": 114,
     "metadata": {},
     "output_type": "execute_result"
    }
   ],
   "source": [
    "arr1 * arr2"
   ]
  },
  {
   "cell_type": "code",
   "execution_count": 115,
   "id": "0751c8ca-8d29-4d5d-b2fa-1bce2f39a6d2",
   "metadata": {},
   "outputs": [
    {
     "data": {
      "text/plain": [
       "array([[1. , 2. , 2. ],\n",
       "       [1. , 1. , 2. ],\n",
       "       [1. , 0.5, 1. ]])"
      ]
     },
     "execution_count": 115,
     "metadata": {},
     "output_type": "execute_result"
    }
   ],
   "source": [
    "arr1 / arr2"
   ]
  },
  {
   "cell_type": "code",
   "execution_count": 116,
   "id": "3321ef68-c501-429c-8d52-d86e950a6123",
   "metadata": {},
   "outputs": [],
   "source": [
    "# matric multiplication diffrent from index wise multiplication"
   ]
  },
  {
   "cell_type": "code",
   "execution_count": 6,
   "id": "abe675b3-e182-4e24-b7b3-852985ce4fab",
   "metadata": {},
   "outputs": [
    {
     "data": {
      "text/plain": [
       "array([[5, 6, 8],\n",
       "       [5, 7, 9],\n",
       "       [3, 4, 5]], dtype=int32)"
      ]
     },
     "execution_count": 6,
     "metadata": {},
     "output_type": "execute_result"
    }
   ],
   "source": [
    "arr1 @ arr2 # 1st way to do matric multiplecation"
   ]
  },
  {
   "cell_type": "code",
   "execution_count": 7,
   "id": "fd6c53b2-aeff-4a7e-9ee5-1934834811db",
   "metadata": {},
   "outputs": [
    {
     "data": {
      "text/plain": [
       "array([[5, 6, 8],\n",
       "       [5, 7, 9],\n",
       "       [3, 4, 5]], dtype=int32)"
      ]
     },
     "execution_count": 7,
     "metadata": {},
     "output_type": "execute_result"
    }
   ],
   "source": [
    "np.dot(arr1, arr2) # ndst way to do matric multiplecation"
   ]
  },
  {
   "cell_type": "code",
   "execution_count": 9,
   "id": "523ea529-e8e9-4a87-94aa-21bfdc89fdf5",
   "metadata": {},
   "outputs": [
    {
     "name": "stderr",
     "output_type": "stream",
     "text": [
      "C:\\Users\\HEART\\AppData\\Local\\Temp\\ipykernel_14104\\842688661.py:1: RuntimeWarning: divide by zero encountered in divide\n",
      "  arr1 / 0 # in python zero division error but numpy no error\n"
     ]
    },
    {
     "data": {
      "text/plain": [
       "array([[inf, inf, inf],\n",
       "       [inf, inf, inf],\n",
       "       [inf, inf, inf]])"
      ]
     },
     "execution_count": 9,
     "metadata": {},
     "output_type": "execute_result"
    }
   ],
   "source": [
    "arr1 / 0 # in python zero division error but numpy no error"
   ]
  },
  {
   "cell_type": "code",
   "execution_count": 10,
   "id": "8125d672-393f-4b54-9cbb-eca6412c291e",
   "metadata": {},
   "outputs": [],
   "source": [
    "arr = np.zeros((3, 4))"
   ]
  },
  {
   "cell_type": "code",
   "execution_count": 13,
   "id": "d22bc933-a6f1-4e07-85d0-b6c5d6711bf7",
   "metadata": {},
   "outputs": [
    {
     "data": {
      "text/plain": [
       "array([[0., 0., 0., 0.],\n",
       "       [0., 0., 0., 0.],\n",
       "       [0., 0., 0., 0.]])"
      ]
     },
     "execution_count": 13,
     "metadata": {},
     "output_type": "execute_result"
    }
   ],
   "source": [
    "# Broadcosting \n",
    "arr"
   ]
  },
  {
   "cell_type": "code",
   "execution_count": 14,
   "id": "3dec0c6a-b776-4eb9-a461-4109ba1391b6",
   "metadata": {},
   "outputs": [
    {
     "data": {
      "text/plain": [
       "array([[5., 5., 5., 5.],\n",
       "       [5., 5., 5., 5.],\n",
       "       [5., 5., 5., 5.]])"
      ]
     },
     "execution_count": 14,
     "metadata": {},
     "output_type": "execute_result"
    }
   ],
   "source": [
    "arr + 5"
   ]
  },
  {
   "cell_type": "code",
   "execution_count": 16,
   "id": "7cb7d7f2-0aa9-4105-adc0-5517b5332e4d",
   "metadata": {},
   "outputs": [],
   "source": [
    "a = np.array([1, 2, 3, 4])"
   ]
  },
  {
   "cell_type": "code",
   "execution_count": 17,
   "id": "c9dfb797-bab1-402c-b3a6-d6e7600d58a3",
   "metadata": {},
   "outputs": [
    {
     "data": {
      "text/plain": [
       "array([[1., 2., 3., 4.],\n",
       "       [1., 2., 3., 4.],\n",
       "       [1., 2., 3., 4.]])"
      ]
     },
     "execution_count": 17,
     "metadata": {},
     "output_type": "execute_result"
    }
   ],
   "source": [
    " arr + a"
   ]
  },
  {
   "cell_type": "code",
   "execution_count": 20,
   "id": "c126b0e4-592f-489e-aa9e-107011f74930",
   "metadata": {},
   "outputs": [],
   "source": [
    "a = np.array([[1, 2, 3, 4]])"
   ]
  },
  {
   "cell_type": "code",
   "execution_count": 21,
   "id": "74f792ec-22dc-4163-8c28-8d7a715229cb",
   "metadata": {},
   "outputs": [
    {
     "data": {
      "text/plain": [
       "array([[1],\n",
       "       [2],\n",
       "       [3],\n",
       "       [4]])"
      ]
     },
     "execution_count": 21,
     "metadata": {},
     "output_type": "execute_result"
    }
   ],
   "source": [
    "# transpose\n",
    "a.T"
   ]
  },
  {
   "cell_type": "code",
   "execution_count": 22,
   "id": "fcff7c73-a941-4d8a-9d5c-4b52b5837751",
   "metadata": {},
   "outputs": [
    {
     "data": {
      "text/plain": [
       "array([[1, 2, 2],\n",
       "       [2, 2, 1],\n",
       "       [1, 1, 1]], dtype=int32)"
      ]
     },
     "execution_count": 22,
     "metadata": {},
     "output_type": "execute_result"
    }
   ],
   "source": [
    "arr1"
   ]
  },
  {
   "cell_type": "code",
   "execution_count": 23,
   "id": "5cc6b33e-8079-46f8-b044-a228a5230076",
   "metadata": {},
   "outputs": [
    {
     "data": {
      "text/plain": [
       "array([[1, 2, 1],\n",
       "       [2, 2, 1],\n",
       "       [2, 1, 1]], dtype=int32)"
      ]
     },
     "execution_count": 23,
     "metadata": {},
     "output_type": "execute_result"
    }
   ],
   "source": [
    "arr1.T"
   ]
  },
  {
   "cell_type": "code",
   "execution_count": 24,
   "id": "7eaa7d73-27f6-4fd8-847e-bda08e800fc2",
   "metadata": {},
   "outputs": [
    {
     "data": {
      "text/plain": [
       "array([[1.        , 1.41421356, 1.41421356],\n",
       "       [1.41421356, 1.41421356, 1.        ],\n",
       "       [1.        , 1.        , 1.        ]])"
      ]
     },
     "execution_count": 24,
     "metadata": {},
     "output_type": "execute_result"
    }
   ],
   "source": [
    "np.sqrt(arr1)"
   ]
  },
  {
   "cell_type": "code",
   "execution_count": 25,
   "id": "d6740ce1-12a7-49c4-9ccb-1209ccf9f30e",
   "metadata": {},
   "outputs": [
    {
     "data": {
      "text/plain": [
       "array([[0.     , 0.30103, 0.30103],\n",
       "       [0.30103, 0.30103, 0.     ],\n",
       "       [0.     , 0.     , 0.     ]])"
      ]
     },
     "execution_count": 25,
     "metadata": {},
     "output_type": "execute_result"
    }
   ],
   "source": [
    "np.log10(arr1)"
   ]
  },
  {
   "cell_type": "code",
   "execution_count": 26,
   "id": "17f2587d-47e0-4d82-baea-80d94c01b547",
   "metadata": {},
   "outputs": [
    {
     "data": {
      "text/plain": [
       "array([[2.71828183, 7.3890561 , 7.3890561 ],\n",
       "       [7.3890561 , 7.3890561 , 2.71828183],\n",
       "       [2.71828183, 2.71828183, 2.71828183]])"
      ]
     },
     "execution_count": 26,
     "metadata": {},
     "output_type": "execute_result"
    }
   ],
   "source": [
    "np.exp(arr1)"
   ]
  },
  {
   "cell_type": "code",
   "execution_count": 27,
   "id": "34844490-b7dc-468b-afe4-76a59fe06105",
   "metadata": {},
   "outputs": [
    {
     "data": {
      "text/plain": [
       "np.int32(1)"
      ]
     },
     "execution_count": 27,
     "metadata": {},
     "output_type": "execute_result"
    }
   ],
   "source": [
    "np.min(arr1)"
   ]
  },
  {
   "cell_type": "code",
   "execution_count": 28,
   "id": "89360403-169b-4f28-9a9f-7a67eabac24e",
   "metadata": {},
   "outputs": [
    {
     "data": {
      "text/plain": [
       "np.int32(2)"
      ]
     },
     "execution_count": 28,
     "metadata": {},
     "output_type": "execute_result"
    }
   ],
   "source": [
    "np.max(arr1\n",
    "      )"
   ]
  },
  {
   "cell_type": "code",
   "execution_count": null,
   "id": "cdde2370-ef36-44b1-987c-389ab396d2b2",
   "metadata": {},
   "outputs": [],
   "source": []
  }
 ],
 "metadata": {
  "kernelspec": {
   "display_name": "Python 3 (ipykernel)",
   "language": "python",
   "name": "python3"
  },
  "language_info": {
   "codemirror_mode": {
    "name": "ipython",
    "version": 3
   },
   "file_extension": ".py",
   "mimetype": "text/x-python",
   "name": "python",
   "nbconvert_exporter": "python",
   "pygments_lexer": "ipython3",
   "version": "3.13.0"
  }
 },
 "nbformat": 4,
 "nbformat_minor": 5
}
