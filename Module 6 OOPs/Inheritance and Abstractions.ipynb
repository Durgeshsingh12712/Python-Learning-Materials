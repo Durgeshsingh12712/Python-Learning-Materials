{
 "cells": [
  {
   "cell_type": "code",
   "execution_count": 1,
   "id": "f89f68ed-4dd4-4308-bf4a-1a21fc71c1ec",
   "metadata": {},
   "outputs": [],
   "source": [
    "# Inheritence >> refers to process of child class recieving the property of parent class\n",
    "# syntax\n",
    "# class BaseClass:\n",
    "    #Body of base class\n",
    "# class DerivedClass(BaseClass):\n",
    "    # Body of derived class"
   ]
  },
  {
   "cell_type": "code",
   "execution_count": 2,
   "id": "4f40432b-c7d2-4652-bdc0-23129de4d21f",
   "metadata": {},
   "outputs": [],
   "source": [
    "#single inheritance >> when a class has only one parent class"
   ]
  },
  {
   "cell_type": "code",
   "execution_count": 3,
   "id": "9ab818d7-c16c-47e1-878b-d94d7f75582f",
   "metadata": {},
   "outputs": [],
   "source": [
    "class Father:\n",
    "    def father_property(self):\n",
    "        print(\"This is father Property\")"
   ]
  },
  {
   "cell_type": "code",
   "execution_count": 4,
   "id": "a4aa69db-44c1-412b-bf70-a888e7bbb12f",
   "metadata": {},
   "outputs": [],
   "source": [
    "class Son(Father):\n",
    "    def job(self):\n",
    "        print(\"Son has also a job\")"
   ]
  },
  {
   "cell_type": "code",
   "execution_count": 5,
   "id": "5e77c376-25e4-493a-bb10-26879500e850",
   "metadata": {},
   "outputs": [],
   "source": [
    "child_obj = Son()"
   ]
  },
  {
   "cell_type": "code",
   "execution_count": 6,
   "id": "826e4b09-19eb-4c1a-9dc5-fa500aa0369a",
   "metadata": {},
   "outputs": [
    {
     "name": "stdout",
     "output_type": "stream",
     "text": [
      "Son has also a job\n"
     ]
    }
   ],
   "source": [
    "child_obj.job()"
   ]
  },
  {
   "cell_type": "code",
   "execution_count": 7,
   "id": "2dcd30be-5e7b-4721-a87b-90181f29af9e",
   "metadata": {},
   "outputs": [
    {
     "name": "stdout",
     "output_type": "stream",
     "text": [
      "This is father Property\n"
     ]
    }
   ],
   "source": [
    "child_obj.father_property()"
   ]
  },
  {
   "cell_type": "code",
   "execution_count": 8,
   "id": "7023a009-a7f1-46c1-bf43-3c59b4bc61e3",
   "metadata": {},
   "outputs": [],
   "source": [
    "father_obj = Father()"
   ]
  },
  {
   "cell_type": "code",
   "execution_count": 10,
   "id": "30627911-f596-49c3-9b5c-535a1ce9b028",
   "metadata": {},
   "outputs": [
    {
     "name": "stdout",
     "output_type": "stream",
     "text": [
      "This is father Property\n"
     ]
    }
   ],
   "source": [
    "father_obj.father_property()"
   ]
  },
  {
   "cell_type": "code",
   "execution_count": 11,
   "id": "2e12142f-fab0-421e-a2dd-05c102f9ac85",
   "metadata": {},
   "outputs": [],
   "source": [
    "# parent class will not have access to the property of child class but child class will have access to both"
   ]
  },
  {
   "cell_type": "code",
   "execution_count": 12,
   "id": "31358248-ea6e-453f-ad70-2b0395b6cf07",
   "metadata": {},
   "outputs": [],
   "source": [
    "class Fruit:\n",
    "    def fruit_info(self):\n",
    "        print(\"Inside Parent class\")\n",
    "class Apple(Fruit):\n",
    "    def apple_info(self):\n",
    "        print(\"inside the child class\")"
   ]
  },
  {
   "cell_type": "code",
   "execution_count": 13,
   "id": "7b64a1ab-f80b-4d24-b56b-dfeaddb067bb",
   "metadata": {},
   "outputs": [],
   "source": [
    "obj = Apple()"
   ]
  },
  {
   "cell_type": "code",
   "execution_count": 14,
   "id": "37be86bf-4ea8-48a9-901a-f02c535d66eb",
   "metadata": {},
   "outputs": [
    {
     "name": "stdout",
     "output_type": "stream",
     "text": [
      "inside the child class\n"
     ]
    }
   ],
   "source": [
    "obj.apple_info()"
   ]
  },
  {
   "cell_type": "code",
   "execution_count": 16,
   "id": "e7ce3a19-12e6-487d-b80c-ef180995302e",
   "metadata": {},
   "outputs": [
    {
     "name": "stdout",
     "output_type": "stream",
     "text": [
      "Inside Parent class\n"
     ]
    }
   ],
   "source": [
    "obj.fruit_info()"
   ]
  },
  {
   "cell_type": "code",
   "execution_count": 18,
   "id": "e6247ee6-62fb-49ac-8f16-7f8b37d162ba",
   "metadata": {},
   "outputs": [],
   "source": [
    "apple = Apple()"
   ]
  },
  {
   "cell_type": "code",
   "execution_count": 19,
   "id": "c5fcb736-cfd0-458d-ac54-003769929553",
   "metadata": {},
   "outputs": [
    {
     "name": "stdout",
     "output_type": "stream",
     "text": [
      "inside the child class\n"
     ]
    }
   ],
   "source": [
    "apple.apple_info()"
   ]
  },
  {
   "cell_type": "code",
   "execution_count": 20,
   "id": "4a41a0cf-327a-437c-bfdb-10bf7f0ce3eb",
   "metadata": {},
   "outputs": [
    {
     "name": "stdout",
     "output_type": "stream",
     "text": [
      "Inside Parent class\n"
     ]
    }
   ],
   "source": [
    "apple.fruit_info()"
   ]
  },
  {
   "cell_type": "code",
   "execution_count": 25,
   "id": "cedfe136-8d29-490b-ab98-0adaf4fe711e",
   "metadata": {},
   "outputs": [],
   "source": [
    "class Fruit:\n",
    "    def fruit_info(self):\n",
    "        print(\"Inside Parent class\")\n",
    "class Apple(Fruit):\n",
    "    def fruit_info(self):\n",
    "        print(\"inside child class\")\n",
    "    def apple_info(self):\n",
    "        print(\"inside the child class\")"
   ]
  },
  {
   "cell_type": "code",
   "execution_count": 26,
   "id": "8f1fec4c-93af-4341-94b4-10fc66f245aa",
   "metadata": {},
   "outputs": [],
   "source": [
    "apple = Apple()"
   ]
  },
  {
   "cell_type": "code",
   "execution_count": 27,
   "id": "af0a4f46-dc63-4717-b2cc-e6c531b4970b",
   "metadata": {},
   "outputs": [
    {
     "name": "stdout",
     "output_type": "stream",
     "text": [
      "inside the child class\n"
     ]
    }
   ],
   "source": [
    "apple.apple_info()"
   ]
  },
  {
   "cell_type": "code",
   "execution_count": 29,
   "id": "c28ba2a0-7844-49c3-bcdf-22433c2bfa29",
   "metadata": {},
   "outputs": [
    {
     "name": "stdout",
     "output_type": "stream",
     "text": [
      "inside child class\n"
     ]
    }
   ],
   "source": [
    "apple.fruit_info() # Method overridding >> child class is very powerfull"
   ]
  },
  {
   "cell_type": "code",
   "execution_count": 30,
   "id": "f7eec37f-5c7d-43d5-8999-2c83d729c832",
   "metadata": {},
   "outputs": [],
   "source": [
    "# Multi-Level Inheritence"
   ]
  },
  {
   "cell_type": "code",
   "execution_count": 32,
   "id": "a1c488ba-f97c-4257-a5f5-8fc19bfec9da",
   "metadata": {},
   "outputs": [],
   "source": [
    "class GrandFather:\n",
    "    def prop_grand_father(self):\n",
    "        print(\"I am your grandfather\")"
   ]
  },
  {
   "cell_type": "code",
   "execution_count": 33,
   "id": "7a3b8f43-1572-4053-b0e7-64646d0882e0",
   "metadata": {},
   "outputs": [],
   "source": [
    "class Father(GrandFather):\n",
    "    def prop_father(self):\n",
    "        print(\"I am your father and having of mine and your grandfather as well\")"
   ]
  },
  {
   "cell_type": "code",
   "execution_count": 34,
   "id": "420dc664-7988-41a6-b3c4-4414d1282546",
   "metadata": {},
   "outputs": [],
   "source": [
    "class Son(Father):\n",
    "    def prop_self(self):\n",
    "        print(\"I am son and having property of both my father and grand father\")"
   ]
  },
  {
   "cell_type": "code",
   "execution_count": 35,
   "id": "4e0b273e-904b-4824-a70a-49341af9dc21",
   "metadata": {},
   "outputs": [],
   "source": [
    "son = Son()"
   ]
  },
  {
   "cell_type": "code",
   "execution_count": 37,
   "id": "4cdcf237-cf2c-4bd0-a973-c49dbb4762ed",
   "metadata": {},
   "outputs": [
    {
     "name": "stdout",
     "output_type": "stream",
     "text": [
      "I am your father and having of mine and your grandfather as well\n"
     ]
    }
   ],
   "source": [
    "son.prop_father()"
   ]
  },
  {
   "cell_type": "code",
   "execution_count": 38,
   "id": "645ed1cf-8a1c-4c47-8ae8-5f5ce3f027ce",
   "metadata": {},
   "outputs": [
    {
     "name": "stdout",
     "output_type": "stream",
     "text": [
      "I am your grandfather\n"
     ]
    }
   ],
   "source": [
    "son.prop_grand_father()"
   ]
  },
  {
   "cell_type": "code",
   "execution_count": 40,
   "id": "92f6b291-5ef8-4f12-9985-6ec85d67c15e",
   "metadata": {},
   "outputs": [
    {
     "name": "stdout",
     "output_type": "stream",
     "text": [
      "I am son and having property of both my father and grand father\n"
     ]
    }
   ],
   "source": [
    "son.prop_self()"
   ]
  },
  {
   "cell_type": "code",
   "execution_count": 41,
   "id": "2e5ab8df-0b63-43b5-bf87-78d1a342131b",
   "metadata": {},
   "outputs": [],
   "source": [
    "class Vehicle:\n",
    "    def vehicle_info(self):\n",
    "        print(\"Inside Vehicle Class\")\n",
    "\n",
    "class Car(Vehicle):\n",
    "    def car_info(self):\n",
    "        print(\"Inside Car class\")\n",
    "\n",
    "class SportCar(Car):\n",
    "    def sport_car_info(self):\n",
    "        print(\"inside sport car class\")"
   ]
  },
  {
   "cell_type": "code",
   "execution_count": 42,
   "id": "3c8edaf0-d0ad-46bd-a340-5f98643aa556",
   "metadata": {},
   "outputs": [],
   "source": [
    "sport_car = SportCar() "
   ]
  },
  {
   "cell_type": "code",
   "execution_count": 43,
   "id": "7ccc8ed5-9fe0-484b-94d1-e3d29e2fe91e",
   "metadata": {},
   "outputs": [
    {
     "name": "stdout",
     "output_type": "stream",
     "text": [
      "inside sport car class\n"
     ]
    }
   ],
   "source": [
    "sport_car.sport_car_info()"
   ]
  },
  {
   "cell_type": "code",
   "execution_count": 44,
   "id": "3ed4fc7d-c1f8-4cee-bbfa-eeb59b90735d",
   "metadata": {},
   "outputs": [
    {
     "name": "stdout",
     "output_type": "stream",
     "text": [
      "Inside Car class\n"
     ]
    }
   ],
   "source": [
    "sport_car.car_info()"
   ]
  },
  {
   "cell_type": "code",
   "execution_count": 45,
   "id": "2260568d-56d5-45cc-9fd1-35b1a16a0573",
   "metadata": {},
   "outputs": [
    {
     "name": "stdout",
     "output_type": "stream",
     "text": [
      "Inside Vehicle Class\n"
     ]
    }
   ],
   "source": [
    "sport_car.vehicle_info()"
   ]
  },
  {
   "cell_type": "code",
   "execution_count": 46,
   "id": "cac2d625-71cf-4159-b837-dfc5f205fa6d",
   "metadata": {},
   "outputs": [],
   "source": [
    "class Vehicle:\n",
    "    def vehicle_info(self):\n",
    "        print(\"Inside Vehicle Class\")\n",
    "\n",
    "class Car(Vehicle):\n",
    "    def car_info(self):\n",
    "        print(\"Inside Car class\")\n",
    "\n",
    "class SportCar(Car):\n",
    "    def vehicle_info(self):\n",
    "        print(\"inside sport car class\")"
   ]
  },
  {
   "cell_type": "code",
   "execution_count": 47,
   "id": "374b98ae-0a4f-401e-b52c-f7bbfde821f0",
   "metadata": {},
   "outputs": [],
   "source": [
    "car = SportCar()"
   ]
  },
  {
   "cell_type": "code",
   "execution_count": 49,
   "id": "fbcb529e-23a9-404e-9be7-92c2bed9832a",
   "metadata": {},
   "outputs": [
    {
     "name": "stdout",
     "output_type": "stream",
     "text": [
      "inside sport car class\n"
     ]
    }
   ],
   "source": [
    "car.vehicle_info() #Method overriding "
   ]
  },
  {
   "cell_type": "code",
   "execution_count": 50,
   "id": "f7f8855c-6ac0-45fc-8ebf-3f3872de04a7",
   "metadata": {},
   "outputs": [],
   "source": [
    "# Multi inheritence >> one child may inherit from multiple parent class"
   ]
  },
  {
   "cell_type": "code",
   "execution_count": 56,
   "id": "264cb6fc-624c-47da-9124-0c149415fe03",
   "metadata": {},
   "outputs": [],
   "source": [
    "class ParentClass1:\n",
    "    def method1(self):\n",
    "        print(\"Method 1 of Parent class 1\")\n",
    "class ParentClass2:\n",
    "    def method2(self):\n",
    "        print(\"Method 2 of Parent class 2\")\n",
    "        "
   ]
  },
  {
   "cell_type": "code",
   "execution_count": 57,
   "id": "5b2f45af-7083-44f6-a515-5c021d1c7243",
   "metadata": {},
   "outputs": [],
   "source": [
    "class ChildClass(ParentClass1, ParentClass2):\n",
    "    def child_method(self):\n",
    "        print(\"Child Method\")"
   ]
  },
  {
   "cell_type": "code",
   "execution_count": 58,
   "id": "9ef879f9-b97f-4c57-93c9-4364007826da",
   "metadata": {},
   "outputs": [],
   "source": [
    "child = ChildClass()"
   ]
  },
  {
   "cell_type": "code",
   "execution_count": 59,
   "id": "9e6fea6e-2325-475b-a26b-98ca42db6c83",
   "metadata": {},
   "outputs": [
    {
     "name": "stdout",
     "output_type": "stream",
     "text": [
      "Method 1 of Parent class 1\n"
     ]
    }
   ],
   "source": [
    "child.method1()"
   ]
  },
  {
   "cell_type": "code",
   "execution_count": 60,
   "id": "f1a46245-757a-42bb-833e-62d5fbb444d2",
   "metadata": {},
   "outputs": [
    {
     "name": "stdout",
     "output_type": "stream",
     "text": [
      "Method 2 of Parent class 2\n"
     ]
    }
   ],
   "source": [
    "child.method2()"
   ]
  },
  {
   "cell_type": "code",
   "execution_count": 62,
   "id": "465ae680-dbeb-4510-8c63-491317e63db1",
   "metadata": {},
   "outputs": [],
   "source": [
    "class A:\n",
    "    def method(self):\n",
    "        print(\"Method of class A\")\n",
    "class B(A):\n",
    "    def method(self):\n",
    "        print(\"Method of class B\")\n",
    "class C(A):\n",
    "    def method(self):\n",
    "        print(\"Method of class C\")\n",
    "class D(B, C):\n",
    "    pass"
   ]
  },
  {
   "cell_type": "code",
   "execution_count": 63,
   "id": "cc397e94-99fa-452f-bb38-6dd5c404aa5b",
   "metadata": {},
   "outputs": [],
   "source": [
    "d = D() # Diamond Problem"
   ]
  },
  {
   "cell_type": "code",
   "execution_count": 64,
   "id": "963e1dad-f8b1-4e6c-8baf-ca20c167d88a",
   "metadata": {},
   "outputs": [
    {
     "name": "stdout",
     "output_type": "stream",
     "text": [
      "Method of class B\n"
     ]
    }
   ],
   "source": [
    "d.method()"
   ]
  },
  {
   "cell_type": "code",
   "execution_count": 65,
   "id": "c4293e73-da1d-4e4a-952a-d2d050fb3034",
   "metadata": {},
   "outputs": [],
   "source": [
    "#Hierachical Inheritence"
   ]
  },
  {
   "cell_type": "code",
   "execution_count": 69,
   "id": "0d890311-97aa-49b8-a4c4-710f2da452ff",
   "metadata": {},
   "outputs": [],
   "source": [
    "class Vehicle:\n",
    "    def info(self):\n",
    "        print(\"This is Vehicle\")\n",
    "class Car(Vehicle):\n",
    "    def car_info(self, name):\n",
    "        print(\"This is car info\", name)\n",
    "class Truck(Vehicle):\n",
    "    def truck_info(self, name):\n",
    "        print(\"Trcuk info\", name)\n"
   ]
  },
  {
   "cell_type": "code",
   "execution_count": 70,
   "id": "ec77cf0c-6bae-4323-96ef-b0c82e87f571",
   "metadata": {},
   "outputs": [],
   "source": [
    "obj1 = Car()"
   ]
  },
  {
   "cell_type": "code",
   "execution_count": 71,
   "id": "d6ff1f88-44bf-4773-a8cd-b8313fb3ea98",
   "metadata": {},
   "outputs": [
    {
     "name": "stdout",
     "output_type": "stream",
     "text": [
      "This is car info BMW\n"
     ]
    }
   ],
   "source": [
    "obj1.car_info(\"BMW\")"
   ]
  },
  {
   "cell_type": "code",
   "execution_count": 72,
   "id": "5e39e230-a0e3-4e45-a353-09b248ac1657",
   "metadata": {},
   "outputs": [],
   "source": [
    "obj2 = Truck()"
   ]
  },
  {
   "cell_type": "code",
   "execution_count": 73,
   "id": "b5094fb1-ef01-446e-99e0-c808aeb6e7b3",
   "metadata": {},
   "outputs": [
    {
     "name": "stdout",
     "output_type": "stream",
     "text": [
      "This is Vehicle\n"
     ]
    }
   ],
   "source": [
    "obj2.info()"
   ]
  },
  {
   "cell_type": "code",
   "execution_count": 74,
   "id": "c16087c9-e329-4ec4-a910-834f74e1d8bd",
   "metadata": {},
   "outputs": [
    {
     "name": "stdout",
     "output_type": "stream",
     "text": [
      "Trcuk info Ford\n"
     ]
    }
   ],
   "source": [
    "obj2.truck_info(\"Ford\")"
   ]
  },
  {
   "cell_type": "code",
   "execution_count": 75,
   "id": "35976e72-ba28-49f7-a157-dd8d62900a12",
   "metadata": {},
   "outputs": [],
   "source": [
    "#hybrid inheritence >> multiple type or a  combination of difference inheritence"
   ]
  },
  {
   "cell_type": "code",
   "execution_count": 76,
   "id": "0fd5afe4-c7ea-4708-a00f-2d2d285b6734",
   "metadata": {},
   "outputs": [],
   "source": [
    "class Vehicle:\n",
    "    def vehicle_info(self):\n",
    "        print(\"Vehicle Class\")\n",
    "class Car:\n",
    "    def car_info(self):\n",
    "        print(\"Inside car class\")\n",
    "class Truck(Vehicle):\n",
    "    def truck_info(self, name):\n",
    "        print(\"Trcuk info\", name)\n",
    "class SportCar(Car, Vehicle):\n",
    "    def Sport_info(self):\n",
    "        print(\"Inside sport car class\")"
   ]
  },
  {
   "cell_type": "code",
   "execution_count": 77,
   "id": "a88e055b-6ddd-4608-9346-108b3bd1519c",
   "metadata": {},
   "outputs": [],
   "source": [
    "s_car = SportCar()"
   ]
  },
  {
   "cell_type": "code",
   "execution_count": 78,
   "id": "ad82ec5c-7783-432e-9eab-8be15c844f9a",
   "metadata": {},
   "outputs": [
    {
     "name": "stdout",
     "output_type": "stream",
     "text": [
      "Inside car class\n"
     ]
    }
   ],
   "source": [
    "s_car.car_info()"
   ]
  },
  {
   "cell_type": "code",
   "execution_count": 80,
   "id": "577d73d1-bc93-41ea-a924-9611049f3466",
   "metadata": {},
   "outputs": [
    {
     "name": "stdout",
     "output_type": "stream",
     "text": [
      "Inside sport car class\n"
     ]
    }
   ],
   "source": [
    "s_car.Sport_info()"
   ]
  },
  {
   "cell_type": "code",
   "execution_count": 81,
   "id": "7db14be7-a16a-4e14-aa3a-719a91f2902b",
   "metadata": {},
   "outputs": [
    {
     "name": "stdout",
     "output_type": "stream",
     "text": [
      "Vehicle Class\n"
     ]
    }
   ],
   "source": [
    "s_car.vehicle_info()"
   ]
  },
  {
   "cell_type": "code",
   "execution_count": 83,
   "id": "6729ae22-c300-4a68-bb04-18bd6617b74b",
   "metadata": {},
   "outputs": [],
   "source": [
    "#Abstraction >> concept of hiding the comlex implitation"
   ]
  },
  {
   "cell_type": "code",
   "execution_count": 84,
   "id": "13e4c654-9687-4773-b520-75b993cc3083",
   "metadata": {},
   "outputs": [],
   "source": [
    "import abc"
   ]
  },
  {
   "cell_type": "code",
   "execution_count": 97,
   "id": "af56442f-f9b3-483b-961d-013e7ebc2bdd",
   "metadata": {},
   "outputs": [],
   "source": [
    "class PwSkills :\n",
    "    \n",
    "    @abc.abstractmethod\n",
    "    def student_details(self):\n",
    "        pass\n",
    "    \n",
    "    @abc.abstractmethod\n",
    "    def student_assignment(self):\n",
    "        pass\n",
    "    \n",
    "    @abc.abstractmethod\n",
    "    def student_marks(self):\n",
    "        pass"
   ]
  },
  {
   "cell_type": "code",
   "execution_count": 98,
   "id": "a53cee97-7e34-4aa4-a5d1-ac272e8360c0",
   "metadata": {},
   "outputs": [],
   "source": [
    "class DataScience(Pwskills):\n",
    "    def student_detail(self):\n",
    "        return \"Data Science course student detail\"\n",
    "    def student_marks(self):\n",
    "        return \"Give ds course student marks\""
   ]
  },
  {
   "cell_type": "code",
   "execution_count": 99,
   "id": "6087ba33-e01d-43e3-b8fd-a6760f4ef43c",
   "metadata": {},
   "outputs": [],
   "source": [
    "class WebDev(Pwskills):\n",
    "    def student_assignment(self):\n",
    "        return \"This will give student assignment of web dev class\"\n",
    "    def student_marks(self):\n",
    "        return \"give with dev student marks\""
   ]
  },
  {
   "cell_type": "code",
   "execution_count": 100,
   "id": "103e7994-a204-40e7-84f2-20c8b2c4e286",
   "metadata": {},
   "outputs": [],
   "source": [
    "ds = DataScience()"
   ]
  },
  {
   "cell_type": "code",
   "execution_count": 101,
   "id": "e26f8629-5066-445d-a4c7-788066b26ad5",
   "metadata": {},
   "outputs": [
    {
     "data": {
      "text/plain": [
       "'Data Science course student detail'"
      ]
     },
     "execution_count": 101,
     "metadata": {},
     "output_type": "execute_result"
    }
   ],
   "source": [
    "ds.student_detail()"
   ]
  },
  {
   "cell_type": "code",
   "execution_count": 92,
   "id": "a9a68693-d25c-4e41-ab29-dada8a4b9ce5",
   "metadata": {},
   "outputs": [],
   "source": [
    "wb = WebDev()"
   ]
  },
  {
   "cell_type": "code",
   "execution_count": 102,
   "id": "0a08f61d-2ff6-480f-b886-58b948d55986",
   "metadata": {},
   "outputs": [
    {
     "data": {
      "text/plain": [
       "'This will give student assignment of web dev class'"
      ]
     },
     "execution_count": 102,
     "metadata": {},
     "output_type": "execute_result"
    }
   ],
   "source": [
    "wb.student_assignment()"
   ]
  },
  {
   "cell_type": "code",
   "execution_count": 103,
   "id": "27e4e997-d1e2-4eb1-a24e-becde34ff6a3",
   "metadata": {},
   "outputs": [],
   "source": [
    "class Shape:\n",
    "    @abc.abstractmethod\n",
    "    def calculate_area(self):\n",
    "        pass\n",
    "\n",
    "class Rectange(Shape):\n",
    "    def calculate_area(self):\n",
    "        return \"Area of rectangle : length * breadth\"\n",
    "class Circle(Shape):\n",
    "    def calculate_area(self):\n",
    "        return \"Area of circle : pi r**2\""
   ]
  },
  {
   "cell_type": "code",
   "execution_count": 106,
   "id": "c1a79727-c621-4ce7-8495-3bfbc6d577be",
   "metadata": {},
   "outputs": [
    {
     "data": {
      "text/plain": [
       "'Area of rectangle : length * breadth'"
      ]
     },
     "execution_count": 106,
     "metadata": {},
     "output_type": "execute_result"
    }
   ],
   "source": [
    "rect = Rectange()\n",
    "rect.calculate_area()"
   ]
  },
  {
   "cell_type": "code",
   "execution_count": 109,
   "id": "d6386606-796a-4eee-ad35-0d605a9a5f65",
   "metadata": {},
   "outputs": [
    {
     "data": {
      "text/plain": [
       "'Area of circle : pi r**2'"
      ]
     },
     "execution_count": 109,
     "metadata": {},
     "output_type": "execute_result"
    }
   ],
   "source": [
    "c = Circle()\n",
    "c.calculate_area()"
   ]
  },
  {
   "cell_type": "code",
   "execution_count": null,
   "id": "72a06183-11fa-4bbd-ae21-acf75cb784e9",
   "metadata": {},
   "outputs": [],
   "source": []
  }
 ],
 "metadata": {
  "kernelspec": {
   "display_name": "Python 3 (ipykernel)",
   "language": "python",
   "name": "python3"
  },
  "language_info": {
   "codemirror_mode": {
    "name": "ipython",
    "version": 3
   },
   "file_extension": ".py",
   "mimetype": "text/x-python",
   "name": "python",
   "nbconvert_exporter": "python",
   "pygments_lexer": "ipython3",
   "version": "3.13.0"
  }
 },
 "nbformat": 4,
 "nbformat_minor": 5
}
