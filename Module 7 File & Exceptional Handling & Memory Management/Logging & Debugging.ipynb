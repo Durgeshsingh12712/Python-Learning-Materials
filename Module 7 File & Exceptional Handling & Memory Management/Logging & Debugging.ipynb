{
 "cells": [
  {
   "cell_type": "code",
   "execution_count": 1,
   "id": "d0f2bc68-0a79-41f1-b42e-4bde5ea1bbe4",
   "metadata": {},
   "outputs": [
    {
     "name": "stdout",
     "output_type": "stream",
     "text": [
      "The current no is 0\n",
      "The current no is 1\n",
      "The current no is 2\n",
      "The current no is 3\n",
      "The current no is 4\n",
      "The current no is 5\n",
      "The current no is 6\n",
      "The current no is 7\n",
      "The current no is 8\n",
      "The current no is 9\n"
     ]
    }
   ],
   "source": [
    "for i in range(10):\n",
    "    print(\"The current no is\", i)"
   ]
  },
  {
   "cell_type": "code",
   "execution_count": 4,
   "id": "48e52b41-a127-4b1b-a236-4d38810cb5a0",
   "metadata": {},
   "outputs": [],
   "source": [
    "#Logging >> keep track of\n",
    "#logging module keep track of events in a software run\n",
    "\n",
    "import logging\n",
    "\n",
    "#logging support different levels of logging which helps to categorise messaage based on their severity"
   ]
  },
  {
   "cell_type": "code",
   "execution_count": 5,
   "id": "5a1043ae-abc4-4575-a958-e429d02b15fd",
   "metadata": {},
   "outputs": [],
   "source": [
    "logging.basicConfig(filename = \"test.log\", level = logging.INFO)"
   ]
  },
  {
   "cell_type": "code",
   "execution_count": 7,
   "id": "9328c8b3-2862-488d-b52f-ddadda7265a6",
   "metadata": {},
   "outputs": [],
   "source": [
    "logging.info(\"This is my normal information about the software run\")\n",
    "logging.error(\"this is error msg\")"
   ]
  },
  {
   "cell_type": "code",
   "execution_count": 8,
   "id": "8af3cf27-7e33-4a68-aadb-438256d1a850",
   "metadata": {},
   "outputs": [],
   "source": [
    "logging.warning(\"This is my warning\")"
   ]
  },
  {
   "cell_type": "code",
   "execution_count": 9,
   "id": "b9010ccf-985d-4005-b9cf-2d83df51b7ef",
   "metadata": {},
   "outputs": [],
   "source": [
    "logging.debug(\"This is my msg debugging\")"
   ]
  },
  {
   "cell_type": "code",
   "execution_count": 10,
   "id": "5c3ca633-ca41-4fe8-bd6a-844729ff9225",
   "metadata": {},
   "outputs": [],
   "source": [
    "logging.critical(\"This is critical msg\")"
   ]
  },
  {
   "cell_type": "code",
   "execution_count": 11,
   "id": "bf762507-1ca9-4a57-8fff-379edae7cd92",
   "metadata": {},
   "outputs": [],
   "source": [
    "logging.shutdown()"
   ]
  },
  {
   "cell_type": "code",
   "execution_count": 13,
   "id": "6e138c25-3546-4a0d-aa06-0435b75189d6",
   "metadata": {},
   "outputs": [
    {
     "ename": "SyntaxError",
     "evalue": "invalid syntax (3115533944.py, line 1)",
     "output_type": "error",
     "traceback": [
      "\u001b[1;36m  Cell \u001b[1;32mIn[13], line 1\u001b[1;36m\u001b[0m\n\u001b[1;33m    1. DEBUG\u001b[0m\n\u001b[1;37m       ^\u001b[0m\n\u001b[1;31mSyntaxError\u001b[0m\u001b[1;31m:\u001b[0m invalid syntax\n"
     ]
    }
   ],
   "source": [
    "1. DEBUG >> lowest level, debugging msg and variable msg\n",
    "2. INFO >> the things are working as expected\n",
    "3. WARNING >> potential issue\n",
    "4. ERROR >> serious problem\n",
    "5. CRITICAL >> termination of program"
   ]
  },
  {
   "cell_type": "code",
   "execution_count": 1,
   "id": "7d18d63b-b2c4-452a-be78-35f18c0ef771",
   "metadata": {},
   "outputs": [],
   "source": [
    "import logging\n",
    "logging.basicConfig(filename = \"test_new.log\", level = logging.DEBUG, format = '%(asctime)s %(message)s')"
   ]
  },
  {
   "cell_type": "code",
   "execution_count": 2,
   "id": "c51adc9f-476e-4262-be62-fa500cf26fab",
   "metadata": {},
   "outputs": [],
   "source": [
    "logging.debug(\"This msg is for debugging\")"
   ]
  },
  {
   "cell_type": "code",
   "execution_count": 3,
   "id": "dfa6a138-9579-4c7c-94ba-4ede5125a499",
   "metadata": {},
   "outputs": [],
   "source": [
    "logging.info(\"This is my info msg\")"
   ]
  },
  {
   "cell_type": "code",
   "execution_count": 4,
   "id": "5b4a4d9b-c21a-439f-befa-f1a8270a9e91",
   "metadata": {},
   "outputs": [],
   "source": [
    "logging.warning(\"this is my warning msg\")"
   ]
  },
  {
   "cell_type": "code",
   "execution_count": 5,
   "id": "cbe76567-30a3-43dd-8bb8-2eade4f0e0cf",
   "metadata": {},
   "outputs": [],
   "source": [
    "logging.shutdown()"
   ]
  },
  {
   "cell_type": "code",
   "execution_count": 1,
   "id": "19ff6171-f682-4b5d-a975-eb3d3fdd182a",
   "metadata": {},
   "outputs": [],
   "source": [
    "import logging\n",
    "logging.basicConfig(filename = \"test_new1.log\", level = logging.DEBUG, format = '%(asctime)s %(levelname)s %(message)s')"
   ]
  },
  {
   "cell_type": "code",
   "execution_count": 2,
   "id": "16ecdc0c-4c1c-4840-b523-b5662c0e164f",
   "metadata": {},
   "outputs": [],
   "source": [
    "logging.debug(\"debugging msg\")"
   ]
  },
  {
   "cell_type": "code",
   "execution_count": 3,
   "id": "fe5567e2-4ae9-4bb3-9c68-6474b54a6269",
   "metadata": {},
   "outputs": [],
   "source": [
    "logging.info(\"info msg\")"
   ]
  },
  {
   "cell_type": "code",
   "execution_count": 4,
   "id": "3a12de90-4b46-48fa-b5e7-5799fd57abe9",
   "metadata": {},
   "outputs": [],
   "source": [
    "logging.shutdown()"
   ]
  },
  {
   "cell_type": "code",
   "execution_count": 1,
   "id": "083c8903-3559-46bb-bb59-ba042cf47e7b",
   "metadata": {},
   "outputs": [],
   "source": [
    "import logging\n",
    "logging.basicConfig(filename = \"program.log\", level = logging.DEBUG, format = '%(asctime)s %(levelname)s %(message)s')"
   ]
  },
  {
   "cell_type": "code",
   "execution_count": 2,
   "id": "b02e2373-bf55-49a2-a8a7-71be43748359",
   "metadata": {},
   "outputs": [],
   "source": [
    "l = [1, \"hello\", [2, \"world\"], 3, [\"python\", 4]]\n",
    "#write a prog to seperate the integer and string in two list separatly"
   ]
  },
  {
   "cell_type": "code",
   "execution_count": 3,
   "id": "6063da5a-e49f-45e6-854d-d14d4541399d",
   "metadata": {},
   "outputs": [],
   "source": [
    "l1_int = []\n",
    "l2_str = []\n",
    "\n",
    "for i in l:\n",
    "    logging.info(f\"processsing each element {i}\")\n",
    "\n",
    "    if type(i) == list:\n",
    "        for j in i:\n",
    "            logging.info(f\"proccessing sublist element: {j}\")\n",
    "            if type(j) == int:\n",
    "                l1_int.append(j)\n",
    "    elif type(i) == int:\n",
    "        l1_int.append(i)\n",
    "    else:\n",
    "        l2_str.append(i)\n",
    "logging.info(f\"the final result is: {l1_int}, {l2_str}\")\n",
    "logging.shutdown()"
   ]
  },
  {
   "cell_type": "code",
   "execution_count": null,
   "id": "6d66ea62-d139-4709-a120-5bae379aaced",
   "metadata": {},
   "outputs": [],
   "source": []
  }
 ],
 "metadata": {
  "kernelspec": {
   "display_name": "Python 3 (ipykernel)",
   "language": "python",
   "name": "python3"
  },
  "language_info": {
   "codemirror_mode": {
    "name": "ipython",
    "version": 3
   },
   "file_extension": ".py",
   "mimetype": "text/x-python",
   "name": "python",
   "nbconvert_exporter": "python",
   "pygments_lexer": "ipython3",
   "version": "3.13.0"
  }
 },
 "nbformat": 4,
 "nbformat_minor": 5
}
