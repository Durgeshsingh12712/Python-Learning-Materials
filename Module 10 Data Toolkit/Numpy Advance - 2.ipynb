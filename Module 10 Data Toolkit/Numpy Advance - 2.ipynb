{
 "cells": [
  {
   "cell_type": "code",
   "execution_count": 2,
   "id": "a2ca9a8d-19ee-422a-a8d5-fde40da676c2",
   "metadata": {},
   "outputs": [],
   "source": [
    "import numpy as np"
   ]
  },
  {
   "cell_type": "code",
   "execution_count": 3,
   "id": "f1b98282-868f-4158-a5d2-14288ee873ae",
   "metadata": {},
   "outputs": [],
   "source": [
    "arr1 = np.random.randint(1, 3, (3,3))\n",
    "arr2 = np.random.randint(1, 3, (3,3))"
   ]
  },
  {
   "cell_type": "code",
   "execution_count": 4,
   "id": "fd4fa736-2933-496e-8f3a-ac55f04a020a",
   "metadata": {},
   "outputs": [
    {
     "data": {
      "text/plain": [
       "array([[2, 1, 2],\n",
       "       [2, 2, 2],\n",
       "       [1, 1, 2]], dtype=int32)"
      ]
     },
     "execution_count": 4,
     "metadata": {},
     "output_type": "execute_result"
    }
   ],
   "source": [
    "arr1"
   ]
  },
  {
   "cell_type": "code",
   "execution_count": 5,
   "id": "b66c98fb-559b-4732-9f46-24881b6a0ec1",
   "metadata": {},
   "outputs": [
    {
     "data": {
      "text/plain": [
       "array([[1, 1, 1],\n",
       "       [1, 1, 1],\n",
       "       [2, 2, 2]], dtype=int32)"
      ]
     },
     "execution_count": 5,
     "metadata": {},
     "output_type": "execute_result"
    }
   ],
   "source": [
    "arr2"
   ]
  },
  {
   "cell_type": "code",
   "execution_count": 6,
   "id": "b4114d1b-fd69-474f-8005-21e068662880",
   "metadata": {},
   "outputs": [
    {
     "data": {
      "text/plain": [
       "array([2, 1, 2, 2, 2, 2, 1, 1, 2], dtype=int32)"
      ]
     },
     "execution_count": 6,
     "metadata": {},
     "output_type": "execute_result"
    }
   ],
   "source": [
    "arr1.flatten()#return a copy of the array collapsed into one dimenstion"
   ]
  },
  {
   "cell_type": "code",
   "execution_count": 7,
   "id": "445cb097-0706-43d9-a113-eaa1647c9b44",
   "metadata": {},
   "outputs": [],
   "source": [
    "# expand dimension\n",
    "arr = np.array([1, 2, 3, 4])"
   ]
  },
  {
   "cell_type": "code",
   "execution_count": 8,
   "id": "1afccc53-9e52-46df-bdb1-08985d45f3ea",
   "metadata": {},
   "outputs": [
    {
     "data": {
      "text/plain": [
       "1"
      ]
     },
     "execution_count": 8,
     "metadata": {},
     "output_type": "execute_result"
    }
   ],
   "source": [
    "arr.ndim"
   ]
  },
  {
   "cell_type": "code",
   "execution_count": 11,
   "id": "e0056861-60f2-4f2d-9cec-d78961ede87d",
   "metadata": {},
   "outputs": [
    {
     "data": {
      "text/plain": [
       "array([[1, 2, 3, 4]])"
      ]
     },
     "execution_count": 11,
     "metadata": {},
     "output_type": "execute_result"
    }
   ],
   "source": [
    "np.expand_dims(arr, axis = 0) # increase the dimension by 1 at provoided"
   ]
  },
  {
   "cell_type": "code",
   "execution_count": 12,
   "id": "a9c4a1ef-824b-42be-bdd3-6f214f554f19",
   "metadata": {},
   "outputs": [
    {
     "data": {
      "text/plain": [
       "2"
      ]
     },
     "execution_count": 12,
     "metadata": {},
     "output_type": "execute_result"
    }
   ],
   "source": [
    "np.expand_dims(arr, axis = 1).ndim"
   ]
  },
  {
   "cell_type": "code",
   "execution_count": 13,
   "id": "bbd1bc13-a394-4c8c-ba04-e94860e7f024",
   "metadata": {},
   "outputs": [],
   "source": [
    " arr = np.zeros((3, 4))"
   ]
  },
  {
   "cell_type": "code",
   "execution_count": 14,
   "id": "092d35d8-3018-4ab9-8dfb-667f9b561f90",
   "metadata": {},
   "outputs": [
    {
     "data": {
      "text/plain": [
       "2"
      ]
     },
     "execution_count": 14,
     "metadata": {},
     "output_type": "execute_result"
    }
   ],
   "source": [
    "arr.ndim"
   ]
  },
  {
   "cell_type": "code",
   "execution_count": 15,
   "id": "4a9c31be-4e82-4e5d-bfc6-0959c83e019d",
   "metadata": {},
   "outputs": [
    {
     "data": {
      "text/plain": [
       "array([[[0., 0., 0., 0.],\n",
       "        [0., 0., 0., 0.],\n",
       "        [0., 0., 0., 0.]]])"
      ]
     },
     "execution_count": 15,
     "metadata": {},
     "output_type": "execute_result"
    }
   ],
   "source": [
    "np.expand_dims(arr, axis=0)"
   ]
  },
  {
   "cell_type": "code",
   "execution_count": 16,
   "id": "1dc81a38-0e21-4aba-babe-4f3f42243d0d",
   "metadata": {},
   "outputs": [
    {
     "data": {
      "text/plain": [
       "array([[[0., 0., 0., 0.]],\n",
       "\n",
       "       [[0., 0., 0., 0.]],\n",
       "\n",
       "       [[0., 0., 0., 0.]]])"
      ]
     },
     "execution_count": 16,
     "metadata": {},
     "output_type": "execute_result"
    }
   ],
   "source": [
    "np.expand_dims(arr, axis=1)"
   ]
  },
  {
   "cell_type": "code",
   "execution_count": 17,
   "id": "fd06326c-c5aa-4846-9748-d65a4cf61708",
   "metadata": {},
   "outputs": [],
   "source": [
    "a = np.array([[1], [2], [3]])"
   ]
  },
  {
   "cell_type": "code",
   "execution_count": 18,
   "id": "8813f0d7-67be-41a4-975c-91f547295ee8",
   "metadata": {},
   "outputs": [
    {
     "data": {
      "text/plain": [
       "array([[1],\n",
       "       [2],\n",
       "       [3]])"
      ]
     },
     "execution_count": 18,
     "metadata": {},
     "output_type": "execute_result"
    }
   ],
   "source": [
    "a"
   ]
  },
  {
   "cell_type": "code",
   "execution_count": 20,
   "id": "6f1d892d-6ca1-4949-8cc8-7ad3a4371894",
   "metadata": {},
   "outputs": [
    {
     "data": {
      "text/plain": [
       "array([1, 2, 3])"
      ]
     },
     "execution_count": 20,
     "metadata": {},
     "output_type": "execute_result"
    }
   ],
   "source": [
    "np.squeeze(a) # decrease dimension "
   ]
  },
  {
   "cell_type": "code",
   "execution_count": 21,
   "id": "4bf49f07-4c11-49ce-9bab-04bdc6c00de3",
   "metadata": {},
   "outputs": [
    {
     "data": {
      "text/plain": [
       "array([1, 1, 1, 1, 2, 2, 2, 2, 3, 3, 3, 3])"
      ]
     },
     "execution_count": 21,
     "metadata": {},
     "output_type": "execute_result"
    }
   ],
   "source": [
    "np.repeat(a, 4)"
   ]
  },
  {
   "cell_type": "code",
   "execution_count": 22,
   "id": "905d8e06-9603-43ba-bdd9-3920cc2fbb92",
   "metadata": {},
   "outputs": [
    {
     "data": {
      "text/plain": [
       "array([2, 2, 1, 1, 2, 2, 2, 2, 2, 2, 2, 2, 1, 1, 1, 1, 2, 2], dtype=int32)"
      ]
     },
     "execution_count": 22,
     "metadata": {},
     "output_type": "execute_result"
    }
   ],
   "source": [
    "np.repeat(arr1, 2)"
   ]
  },
  {
   "cell_type": "code",
   "execution_count": 23,
   "id": "580555fd-601f-477c-81db-fe5b2c5a4fd8",
   "metadata": {},
   "outputs": [
    {
     "data": {
      "text/plain": [
       "array([[2, 1, 2],\n",
       "       [2, 1, 2],\n",
       "       [2, 2, 2],\n",
       "       [2, 2, 2],\n",
       "       [1, 1, 2],\n",
       "       [1, 1, 2]], dtype=int32)"
      ]
     },
     "execution_count": 23,
     "metadata": {},
     "output_type": "execute_result"
    }
   ],
   "source": [
    "np.repeat(arr1, 2, axis=0) "
   ]
  },
  {
   "cell_type": "code",
   "execution_count": 24,
   "id": "c6acaf7b-9d16-4611-969e-e2dc2000c20f",
   "metadata": {},
   "outputs": [
    {
     "data": {
      "text/plain": [
       "array([[2, 2, 2, 1, 1, 1, 2, 2, 2],\n",
       "       [2, 2, 2, 2, 2, 2, 2, 2, 2],\n",
       "       [1, 1, 1, 1, 1, 1, 2, 2, 2]], dtype=int32)"
      ]
     },
     "execution_count": 24,
     "metadata": {},
     "output_type": "execute_result"
    }
   ],
   "source": [
    "np.repeat(arr1, 3, axis=1) "
   ]
  },
  {
   "cell_type": "code",
   "execution_count": 25,
   "id": "4dd7b1fe-7f3f-4194-8247-3592f2636714",
   "metadata": {},
   "outputs": [
    {
     "data": {
      "text/plain": [
       "array([[1],\n",
       "       [2],\n",
       "       [3]])"
      ]
     },
     "execution_count": 25,
     "metadata": {},
     "output_type": "execute_result"
    }
   ],
   "source": [
    "a"
   ]
  },
  {
   "cell_type": "code",
   "execution_count": 26,
   "id": "892b32eb-a58b-40c1-92fb-7b587c277a0d",
   "metadata": {},
   "outputs": [
    {
     "data": {
      "text/plain": [
       "array([[3],\n",
       "       [1],\n",
       "       [2]])"
      ]
     },
     "execution_count": 26,
     "metadata": {},
     "output_type": "execute_result"
    }
   ],
   "source": [
    "np.roll(a, -2)"
   ]
  },
  {
   "cell_type": "code",
   "execution_count": 31,
   "id": "05cf0f71-8a76-4492-bc21-2f4453144a0e",
   "metadata": {},
   "outputs": [],
   "source": [
    "c = np.array([[1,2], [3,4], [5,6], [7,8]])"
   ]
  },
  {
   "cell_type": "code",
   "execution_count": 32,
   "id": "19b3da5d-1c9a-43e7-8d4c-63f5e1db71a9",
   "metadata": {},
   "outputs": [
    {
     "data": {
      "text/plain": [
       "array([[1, 2],\n",
       "       [3, 4],\n",
       "       [5, 6],\n",
       "       [7, 8]])"
      ]
     },
     "execution_count": 32,
     "metadata": {},
     "output_type": "execute_result"
    }
   ],
   "source": [
    "c"
   ]
  },
  {
   "cell_type": "code",
   "execution_count": 33,
   "id": "bdbc649e-f6f2-415b-94f6-c26849e95691",
   "metadata": {},
   "outputs": [
    {
     "data": {
      "text/plain": [
       "array([[7, 8],\n",
       "       [1, 2],\n",
       "       [3, 4],\n",
       "       [5, 6]])"
      ]
     },
     "execution_count": 33,
     "metadata": {},
     "output_type": "execute_result"
    }
   ],
   "source": [
    "np.roll(c, 2)"
   ]
  },
  {
   "cell_type": "code",
   "execution_count": 34,
   "id": "18680641-3c87-41c7-96a2-64f6d8017a4f",
   "metadata": {},
   "outputs": [
    {
     "data": {
      "text/plain": [
       "array([[5, 6],\n",
       "       [7, 8],\n",
       "       [1, 2],\n",
       "       [3, 4]])"
      ]
     },
     "execution_count": 34,
     "metadata": {},
     "output_type": "execute_result"
    }
   ],
   "source": [
    "np.roll(c, 2, axis=0)"
   ]
  },
  {
   "cell_type": "code",
   "execution_count": 35,
   "id": "da3f87b4-5e8c-418f-bf54-a4539532fe06",
   "metadata": {},
   "outputs": [
    {
     "data": {
      "text/plain": [
       "array([[2, 1, 2],\n",
       "       [2, 2, 2],\n",
       "       [1, 1, 2]], dtype=int32)"
      ]
     },
     "execution_count": 35,
     "metadata": {},
     "output_type": "execute_result"
    }
   ],
   "source": [
    "arr1"
   ]
  },
  {
   "cell_type": "code",
   "execution_count": 36,
   "id": "2e303bbe-7d8b-4eda-9497-51b5a476bc53",
   "metadata": {},
   "outputs": [
    {
     "data": {
      "text/plain": [
       "array([[1, 1, 1],\n",
       "       [1, 1, 1],\n",
       "       [2, 2, 2]], dtype=int32)"
      ]
     },
     "execution_count": 36,
     "metadata": {},
     "output_type": "execute_result"
    }
   ],
   "source": [
    "arr2"
   ]
  },
  {
   "cell_type": "code",
   "execution_count": 37,
   "id": "e9661bba-98c1-48c0-9beb-f61ba737edd3",
   "metadata": {},
   "outputs": [],
   "source": [
    "# operations on numpy string array"
   ]
  },
  {
   "cell_type": "code",
   "execution_count": 38,
   "id": "171785f3-c789-4513-aff3-c66951a4b8be",
   "metadata": {},
   "outputs": [],
   "source": [
    "d = np.array([\"pw\", \"skills\"])"
   ]
  },
  {
   "cell_type": "code",
   "execution_count": 39,
   "id": "625e8d62-6700-42ba-9a20-9b741fc75f58",
   "metadata": {},
   "outputs": [
    {
     "data": {
      "text/plain": [
       "array(['pw', 'skills'], dtype='<U6')"
      ]
     },
     "execution_count": 39,
     "metadata": {},
     "output_type": "execute_result"
    }
   ],
   "source": [
    "d"
   ]
  },
  {
   "cell_type": "code",
   "execution_count": 40,
   "id": "6bf94200-8e04-4bde-b90f-e6c2fc87d94f",
   "metadata": {},
   "outputs": [
    {
     "data": {
      "text/plain": [
       "array(['PW', 'SKILLS'], dtype='<U6')"
      ]
     },
     "execution_count": 40,
     "metadata": {},
     "output_type": "execute_result"
    }
   ],
   "source": [
    "np.char.upper(d)"
   ]
  },
  {
   "cell_type": "code",
   "execution_count": 41,
   "id": "c044275b-ae3d-4ea1-b825-9ce679081cd5",
   "metadata": {},
   "outputs": [
    {
     "data": {
      "text/plain": [
       "array(['Pw', 'Skills'], dtype='<U6')"
      ]
     },
     "execution_count": 41,
     "metadata": {},
     "output_type": "execute_result"
    }
   ],
   "source": [
    "np.char.capitalize(d)"
   ]
  },
  {
   "cell_type": "code",
   "execution_count": 42,
   "id": "04b34a1d-cb9a-4aea-a559-2f248119802b",
   "metadata": {},
   "outputs": [],
   "source": [
    "# mathematic function "
   ]
  },
  {
   "cell_type": "code",
   "execution_count": 43,
   "id": "05aa4b20-2088-4fc1-82b5-d87b0a2d5845",
   "metadata": {},
   "outputs": [
    {
     "data": {
      "text/plain": [
       "array([[2, 1, 2],\n",
       "       [2, 2, 2],\n",
       "       [1, 1, 2]], dtype=int32)"
      ]
     },
     "execution_count": 43,
     "metadata": {},
     "output_type": "execute_result"
    }
   ],
   "source": [
    "arr1"
   ]
  },
  {
   "cell_type": "code",
   "execution_count": 44,
   "id": "83725b9b-6486-4434-9a44-cad243f0e1c9",
   "metadata": {},
   "outputs": [
    {
     "data": {
      "text/plain": [
       "array([[0.90929743, 0.84147098, 0.90929743],\n",
       "       [0.90929743, 0.90929743, 0.90929743],\n",
       "       [0.84147098, 0.84147098, 0.90929743]])"
      ]
     },
     "execution_count": 44,
     "metadata": {},
     "output_type": "execute_result"
    }
   ],
   "source": [
    "np.sin(arr1)"
   ]
  },
  {
   "cell_type": "code",
   "execution_count": 48,
   "id": "f9e122fc-2617-4415-bdf2-a5b23986325c",
   "metadata": {},
   "outputs": [
    {
     "data": {
      "text/plain": [
       "array([[-0.41614684,  0.54030231, -0.41614684],\n",
       "       [-0.41614684, -0.41614684, -0.41614684],\n",
       "       [ 0.54030231,  0.54030231, -0.41614684]])"
      ]
     },
     "execution_count": 48,
     "metadata": {},
     "output_type": "execute_result"
    }
   ],
   "source": [
    "np.cos(arr1)"
   ]
  },
  {
   "cell_type": "code",
   "execution_count": 49,
   "id": "cfd76a1b-c3da-440d-b7ac-6bd216c67f1c",
   "metadata": {},
   "outputs": [
    {
     "data": {
      "text/plain": [
       "array([[-2.18503986,  1.55740772, -2.18503986],\n",
       "       [-2.18503986, -2.18503986, -2.18503986],\n",
       "       [ 1.55740772,  1.55740772, -2.18503986]])"
      ]
     },
     "execution_count": 49,
     "metadata": {},
     "output_type": "execute_result"
    }
   ],
   "source": [
    "np.tan(arr1)"
   ]
  },
  {
   "cell_type": "code",
   "execution_count": 50,
   "id": "22c7daa2-a832-4df2-a416-d9fedc4f5c0e",
   "metadata": {},
   "outputs": [
    {
     "data": {
      "text/plain": [
       "array([[8, 1, 8],\n",
       "       [8, 8, 8],\n",
       "       [1, 1, 8]], dtype=int32)"
      ]
     },
     "execution_count": 50,
     "metadata": {},
     "output_type": "execute_result"
    }
   ],
   "source": [
    "np.power(arr1, 3)"
   ]
  },
  {
   "cell_type": "code",
   "execution_count": 51,
   "id": "1b0f7398-0b09-48ce-b6dd-6f006d63d8a7",
   "metadata": {},
   "outputs": [
    {
     "data": {
      "text/plain": [
       "np.int32(2)"
      ]
     },
     "execution_count": 51,
     "metadata": {},
     "output_type": "execute_result"
    }
   ],
   "source": [
    "np.max(arr1)"
   ]
  },
  {
   "cell_type": "code",
   "execution_count": 53,
   "id": "e8ccd857-acbf-4414-a188-17f2789a6c60",
   "metadata": {},
   "outputs": [
    {
     "data": {
      "text/plain": [
       "array([[ 1,  0,  1],\n",
       "       [ 1,  1,  1],\n",
       "       [-1, -1,  0]], dtype=int32)"
      ]
     },
     "execution_count": 53,
     "metadata": {},
     "output_type": "execute_result"
    }
   ],
   "source": [
    "np.subtract(arr1, arr2)"
   ]
  },
  {
   "cell_type": "code",
   "execution_count": 54,
   "id": "e3e9a197-7878-4b33-af2a-9036ab72e0c0",
   "metadata": {},
   "outputs": [
    {
     "data": {
      "text/plain": [
       "array([[0, 0, 0],\n",
       "       [0, 0, 0],\n",
       "       [1, 1, 0]], dtype=int32)"
      ]
     },
     "execution_count": 54,
     "metadata": {},
     "output_type": "execute_result"
    }
   ],
   "source": [
    "np.mod(arr1, arr2) # return element with remainder"
   ]
  },
  {
   "cell_type": "code",
   "execution_count": 55,
   "id": "d8ee4988-ca4e-4c3a-9223-652456bfc364",
   "metadata": {},
   "outputs": [],
   "source": [
    "# sort search\n",
    "\n",
    "e = np.array([5, 6, 1, 2])"
   ]
  },
  {
   "cell_type": "code",
   "execution_count": 56,
   "id": "ba256995-7676-4921-9bf4-a37a612803de",
   "metadata": {},
   "outputs": [
    {
     "data": {
      "text/plain": [
       "array([5, 6, 1, 2])"
      ]
     },
     "execution_count": 56,
     "metadata": {},
     "output_type": "execute_result"
    }
   ],
   "source": [
    "e"
   ]
  },
  {
   "cell_type": "code",
   "execution_count": 57,
   "id": "6e524ec0-442f-426c-b5fe-9d6363129b62",
   "metadata": {},
   "outputs": [
    {
     "data": {
      "text/plain": [
       "array([1, 2, 5, 6])"
      ]
     },
     "execution_count": 57,
     "metadata": {},
     "output_type": "execute_result"
    }
   ],
   "source": [
    "np.sort(e)"
   ]
  },
  {
   "cell_type": "code",
   "execution_count": 58,
   "id": "8f241d2f-835d-442e-8b84-ac4a4cee6b88",
   "metadata": {},
   "outputs": [],
   "source": [
    "f = np.array([5, 199, 200, 6, 7, 8])"
   ]
  },
  {
   "cell_type": "code",
   "execution_count": 59,
   "id": "1a08a03c-4d16-4dce-b64a-79525b94d4a8",
   "metadata": {},
   "outputs": [
    {
     "data": {
      "text/plain": [
       "array([  5,   6,   7,   8, 199, 200])"
      ]
     },
     "execution_count": 59,
     "metadata": {},
     "output_type": "execute_result"
    }
   ],
   "source": [
    "np.sort(f)"
   ]
  },
  {
   "cell_type": "code",
   "execution_count": 61,
   "id": "d8e75ee6-488f-468b-a66a-a10e156ac5f7",
   "metadata": {},
   "outputs": [
    {
     "data": {
      "text/plain": [
       "np.int64(6)"
      ]
     },
     "execution_count": 61,
     "metadata": {},
     "output_type": "execute_result"
    }
   ],
   "source": [
    "np.searchsorted(f, 170) # find indicates where element should be inserted to maintain order"
   ]
  },
  {
   "cell_type": "code",
   "execution_count": 62,
   "id": "c276cd6c-c52f-4bc3-a97b-33c06417b438",
   "metadata": {},
   "outputs": [],
   "source": [
    "f = np.array([5, 199, 200, 6, 7, 0, 0, 0, 8])"
   ]
  },
  {
   "cell_type": "code",
   "execution_count": 63,
   "id": "02a907f7-ef8f-4b20-9269-996e5abcb299",
   "metadata": {},
   "outputs": [
    {
     "data": {
      "text/plain": [
       "array([  5, 199, 200,   6,   7,   0,   0,   0,   8])"
      ]
     },
     "execution_count": 63,
     "metadata": {},
     "output_type": "execute_result"
    }
   ],
   "source": [
    "f"
   ]
  },
  {
   "cell_type": "code",
   "execution_count": 64,
   "id": "ebcbe729-3b7c-4ccc-98f9-c3d2fabf4db1",
   "metadata": {},
   "outputs": [
    {
     "data": {
      "text/plain": [
       "6"
      ]
     },
     "execution_count": 64,
     "metadata": {},
     "output_type": "execute_result"
    }
   ],
   "source": [
    "np.count_nonzero(f)"
   ]
  },
  {
   "cell_type": "code",
   "execution_count": 65,
   "id": "1439f100-eddf-4388-b5e2-bf0397c9e77a",
   "metadata": {},
   "outputs": [
    {
     "data": {
      "text/plain": [
       "array([  5, 199, 200,   6,   7,   8])"
      ]
     },
     "execution_count": 65,
     "metadata": {},
     "output_type": "execute_result"
    }
   ],
   "source": [
    "f[f > 0]"
   ]
  },
  {
   "cell_type": "code",
   "execution_count": 67,
   "id": "75a46f03-fd1f-4343-a2d6-caf6e958c47c",
   "metadata": {},
   "outputs": [
    {
     "data": {
      "text/plain": [
       "(array([0, 1, 2, 3, 4, 8]),)"
      ]
     },
     "execution_count": 67,
     "metadata": {},
     "output_type": "execute_result"
    }
   ],
   "source": [
    "np.where(f>0)"
   ]
  },
  {
   "cell_type": "code",
   "execution_count": 68,
   "id": "d24c4601-4286-476d-b66b-6d46d0b3dab8",
   "metadata": {},
   "outputs": [
    {
     "data": {
      "text/plain": [
       "array([  5, 199, 200,   6,   7,   8])"
      ]
     },
     "execution_count": 68,
     "metadata": {},
     "output_type": "execute_result"
    }
   ],
   "source": [
    "np.extract(f>0, f)"
   ]
  },
  {
   "cell_type": "code",
   "execution_count": 69,
   "id": "200301c8-1b6d-41fa-91e7-fb6e85ebac75",
   "metadata": {},
   "outputs": [
    {
     "data": {
      "text/plain": [
       "array([  360287970189639680, -4107282860161892352, -4035225266123964416,\n",
       "         432345564227567616,   504403158265495552,                    0,\n",
       "                          0,                    0,   576460752303423488])"
      ]
     },
     "execution_count": 69,
     "metadata": {},
     "output_type": "execute_result"
    }
   ],
   "source": [
    "f.byteswap()"
   ]
  },
  {
   "cell_type": "code",
   "execution_count": 70,
   "id": "2f42a9b7-9a83-4195-8682-cdc6a6097b74",
   "metadata": {},
   "outputs": [],
   "source": [
    "# matrix 2d array\n",
    "\n",
    "import numpy.matlib as nm"
   ]
  },
  {
   "cell_type": "code",
   "execution_count": 72,
   "id": "e9002fec-440f-4a53-af08-63290eed9340",
   "metadata": {},
   "outputs": [
    {
     "data": {
      "text/plain": [
       "matrix([[0., 0., 0., 0., 0.]])"
      ]
     },
     "execution_count": 72,
     "metadata": {},
     "output_type": "execute_result"
    }
   ],
   "source": [
    "nm.zeros(5)"
   ]
  },
  {
   "cell_type": "code",
   "execution_count": 73,
   "id": "7df4b4cc-49a0-4068-a357-c9561a633777",
   "metadata": {},
   "outputs": [
    {
     "data": {
      "text/plain": [
       "matrix([[1., 1., 1., 1.],\n",
       "        [1., 1., 1., 1.],\n",
       "        [1., 1., 1., 1.]])"
      ]
     },
     "execution_count": 73,
     "metadata": {},
     "output_type": "execute_result"
    }
   ],
   "source": [
    "nm.ones((3, 4))"
   ]
  },
  {
   "cell_type": "code",
   "execution_count": 93,
   "id": "b4a5ce23-a022-4cd8-83fd-b1a348d397d0",
   "metadata": {},
   "outputs": [],
   "source": [
    "# numpy linear algebra\n",
    "\n",
    "arr1 = np.random.randint(1, 10, (3,3))\n",
    "arr2 = np.random.randint(1, 10, (3,3))"
   ]
  },
  {
   "cell_type": "code",
   "execution_count": 94,
   "id": "b53d6a33-9251-4f39-a865-f268a6053ffa",
   "metadata": {},
   "outputs": [
    {
     "data": {
      "text/plain": [
       "array([[8, 7, 7],\n",
       "       [8, 2, 9],\n",
       "       [2, 5, 3]], dtype=int32)"
      ]
     },
     "execution_count": 94,
     "metadata": {},
     "output_type": "execute_result"
    }
   ],
   "source": [
    "arr1"
   ]
  },
  {
   "cell_type": "code",
   "execution_count": 95,
   "id": "23964186-e062-4c65-ba06-8d02d8477bce",
   "metadata": {},
   "outputs": [
    {
     "data": {
      "text/plain": [
       "array([[6, 5, 6],\n",
       "       [7, 6, 3],\n",
       "       [6, 2, 7]], dtype=int32)"
      ]
     },
     "execution_count": 95,
     "metadata": {},
     "output_type": "execute_result"
    }
   ],
   "source": [
    "arr2"
   ]
  },
  {
   "cell_type": "code",
   "execution_count": 96,
   "id": "207fa2c8-8c82-4e62-9368-0d4281b41b6d",
   "metadata": {},
   "outputs": [
    {
     "data": {
      "text/plain": [
       "array([[139,  96, 118],\n",
       "       [116,  70, 117],\n",
       "       [ 65,  46,  48]], dtype=int32)"
      ]
     },
     "execution_count": 96,
     "metadata": {},
     "output_type": "execute_result"
    }
   ],
   "source": [
    "arr1 @ arr2"
   ]
  },
  {
   "cell_type": "code",
   "execution_count": 97,
   "id": "01b0ed77-aaa9-4993-be15-749651cbb469",
   "metadata": {},
   "outputs": [
    {
     "data": {
      "text/plain": [
       "np.float64(-101.99999999999996)"
      ]
     },
     "execution_count": 97,
     "metadata": {},
     "output_type": "execute_result"
    }
   ],
   "source": [
    "np.linalg.det(arr1)"
   ]
  },
  {
   "cell_type": "code",
   "execution_count": 98,
   "id": "ceaaf3ff-cf82-4034-a69f-94719effc8b4",
   "metadata": {},
   "outputs": [
    {
     "data": {
      "text/plain": [
       "array([[ 0.38235294, -0.1372549 , -0.48039216],\n",
       "       [ 0.05882353, -0.09803922,  0.15686275],\n",
       "       [-0.35294118,  0.25490196,  0.39215686]])"
      ]
     },
     "execution_count": 98,
     "metadata": {},
     "output_type": "execute_result"
    }
   ],
   "source": [
    "np.linalg.inv(arr1)"
   ]
  },
  {
   "cell_type": "code",
   "execution_count": 99,
   "id": "88335116-c88d-4fd2-97aa-b40c2870d234",
   "metadata": {},
   "outputs": [],
   "source": [
    "a = np.array([[2, 3, 5], [5.1, 4, 5], [7, 8, 5]])"
   ]
  },
  {
   "cell_type": "code",
   "execution_count": 100,
   "id": "c18139e3-ca7e-4a9b-bd0d-d11acc308a0a",
   "metadata": {},
   "outputs": [
    {
     "data": {
      "text/plain": [
       "array([[2. , 3. , 5. ],\n",
       "       [5.1, 4. , 5. ],\n",
       "       [7. , 8. , 5. ]])"
      ]
     },
     "execution_count": 100,
     "metadata": {},
     "output_type": "execute_result"
    }
   ],
   "source": [
    "a"
   ]
  },
  {
   "cell_type": "code",
   "execution_count": 101,
   "id": "60de5350-4aaa-475b-ba25-4cf085bc023d",
   "metadata": {},
   "outputs": [],
   "source": [
    "b = np.array([16, 8, 0])"
   ]
  },
  {
   "cell_type": "code",
   "execution_count": 102,
   "id": "d43a2714-88fe-45f8-805f-0de668516540",
   "metadata": {},
   "outputs": [
    {
     "data": {
      "text/plain": [
       "array([16,  8,  0])"
      ]
     },
     "execution_count": 102,
     "metadata": {},
     "output_type": "execute_result"
    }
   ],
   "source": [
    "b"
   ]
  },
  {
   "cell_type": "code",
   "execution_count": 103,
   "id": "41a0c2ca-9b4f-4330-ae7d-5f8d84601fc9",
   "metadata": {},
   "outputs": [
    {
     "data": {
      "text/plain": [
       "array([-2.28571429, -0.91428571,  4.66285714])"
      ]
     },
     "execution_count": 103,
     "metadata": {},
     "output_type": "execute_result"
    }
   ],
   "source": [
    "np.linalg.solve(a, b)"
   ]
  },
  {
   "cell_type": "code",
   "execution_count": null,
   "id": "e7c8ebca-af1e-4956-a03f-4127006eae07",
   "metadata": {},
   "outputs": [],
   "source": []
  }
 ],
 "metadata": {
  "kernelspec": {
   "display_name": "Python 3 (ipykernel)",
   "language": "python",
   "name": "python3"
  },
  "language_info": {
   "codemirror_mode": {
    "name": "ipython",
    "version": 3
   },
   "file_extension": ".py",
   "mimetype": "text/x-python",
   "name": "python",
   "nbconvert_exporter": "python",
   "pygments_lexer": "ipython3",
   "version": "3.13.0"
  }
 },
 "nbformat": 4,
 "nbformat_minor": 5
}
