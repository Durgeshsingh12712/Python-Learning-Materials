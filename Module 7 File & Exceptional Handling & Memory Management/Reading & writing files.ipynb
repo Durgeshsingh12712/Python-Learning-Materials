{
 "cells": [
  {
   "cell_type": "code",
   "execution_count": 1,
   "id": "d9832d4d-243e-4dd2-bb8d-163fc5ee1006",
   "metadata": {},
   "outputs": [],
   "source": [
    "text_content = \"\"\"\n",
    "example 1\n",
    "example 2\n",
    "example 3\n",
    "\"\"\""
   ]
  },
  {
   "cell_type": "code",
   "execution_count": 2,
   "id": "aaf13143-93b0-438b-8cff-192df67a5dbc",
   "metadata": {},
   "outputs": [],
   "source": [
    "with open(\"example.txt\", \"w\") as file:\n",
    "    file.write(text_content)"
   ]
  },
  {
   "cell_type": "code",
   "execution_count": 3,
   "id": "2c2ad209-833b-4c92-ac43-561ed4051ec9",
   "metadata": {},
   "outputs": [
    {
     "name": "stdout",
     "output_type": "stream",
     "text": [
      "\n",
      "example 1\n",
      "example 2\n",
      "example 3\n",
      "\n"
     ]
    }
   ],
   "source": [
    "with open(\"example.txt\", \"r\") as file:\n",
    "    data = file.read()\n",
    "print(data)"
   ]
  },
  {
   "cell_type": "code",
   "execution_count": 5,
   "id": "dd35615f-65af-4572-aa94-9c5b4a6bf624",
   "metadata": {},
   "outputs": [],
   "source": [
    "#CVS >> comma separated values\n",
    "\n",
    "data = [[\"Name\", \"Course\", \"Fee\"],\n",
    "       [\"Durgesh\", \"DS\", \"1000\"],\n",
    "       [\"Raaz\", \"ML\", \"2000\"]]"
   ]
  },
  {
   "cell_type": "code",
   "execution_count": 6,
   "id": "7c159113-6548-4496-9e55-c1738a3e3fae",
   "metadata": {},
   "outputs": [
    {
     "data": {
      "text/plain": [
       "[['Name', 'Course', 'Fee'], ['Durgesh', 'DS', '1000'], ['Raaz', 'ML', '2000']]"
      ]
     },
     "execution_count": 6,
     "metadata": {},
     "output_type": "execute_result"
    }
   ],
   "source": [
    "data"
   ]
  },
  {
   "cell_type": "code",
   "execution_count": 7,
   "id": "80053bdb-4b0f-435b-8b41-a8636246fc94",
   "metadata": {},
   "outputs": [
    {
     "name": "stdout",
     "output_type": "stream",
     "text": [
      "['Name', 'Course', 'Fee']\n",
      "['Durgesh', 'DS', '1000']\n",
      "['Raaz', 'ML', '2000']\n"
     ]
    }
   ],
   "source": [
    "for i in data:\n",
    "    print(i)"
   ]
  },
  {
   "cell_type": "code",
   "execution_count": 9,
   "id": "c1ebf88d-38c5-4bd8-9a5d-f33dfce179bf",
   "metadata": {},
   "outputs": [],
   "source": [
    "import csv\n",
    "with  open(\"example_csv.csv\", \"w\") as f:\n",
    "    w = csv.writer(f)\n",
    "    for i in data:\n",
    "        w.writerow(i)"
   ]
  },
  {
   "cell_type": "code",
   "execution_count": 11,
   "id": "05c12271-519f-4d18-a127-1a74cddb5cca",
   "metadata": {},
   "outputs": [
    {
     "name": "stdout",
     "output_type": "stream",
     "text": [
      "['Name', 'Course', 'Fee']\n",
      "[]\n",
      "['Durgesh', 'DS', '1000']\n",
      "[]\n",
      "['Raaz', 'ML', '2000']\n",
      "[]\n"
     ]
    }
   ],
   "source": [
    "with  open(\"example_csv.csv\", \"r\") as f:\n",
    "    r = csv.reader(f)\n",
    "    for i in r:\n",
    "        print(i)"
   ]
  },
  {
   "cell_type": "code",
   "execution_count": 13,
   "id": "7f39ab58-514e-4f10-80f4-0e35f177c1b8",
   "metadata": {},
   "outputs": [],
   "source": [
    "#JSON >> javascript object notation\n",
    "data = {\"name\": \"Durgesh\",\n",
    "       \"Course\": \"DS\",\n",
    "       \"Fee\": 1000}"
   ]
  },
  {
   "cell_type": "code",
   "execution_count": 14,
   "id": "469c0d51-c0d8-449e-8b67-df35e576582c",
   "metadata": {},
   "outputs": [
    {
     "data": {
      "text/plain": [
       "dict"
      ]
     },
     "execution_count": 14,
     "metadata": {},
     "output_type": "execute_result"
    }
   ],
   "source": [
    "type(data)"
   ]
  },
  {
   "cell_type": "code",
   "execution_count": 15,
   "id": "0fb06c97-a0d8-4201-b691-69593ac47666",
   "metadata": {},
   "outputs": [],
   "source": [
    "import json\n",
    "with open(\"json1.json\", \"w\") as f:\n",
    "    json.dump(data, f)"
   ]
  },
  {
   "cell_type": "code",
   "execution_count": 17,
   "id": "40abf2b1-1a94-4dd9-82b4-5958c0965539",
   "metadata": {},
   "outputs": [
    {
     "name": "stdout",
     "output_type": "stream",
     "text": [
      "{'name': 'Durgesh', 'Course': 'DS', 'Fee': 1000}\n"
     ]
    }
   ],
   "source": [
    "with open(\"json1.json\", \"r\") as f:\n",
    "    data = json.load(f)\n",
    "print(data)"
   ]
  },
  {
   "cell_type": "code",
   "execution_count": 20,
   "id": "87cc16a1-3438-4dca-9618-7d8bf25fcf82",
   "metadata": {},
   "outputs": [],
   "source": [
    "# with open(\"test_bin.bin\", \"wb\") as f:\n",
    "#     f.write(\"\")\n",
    "# with open(\"test_bin.bin\", \"rb\") as f:\n",
    "#     f.read() "
   ]
  },
  {
   "cell_type": "code",
   "execution_count": 21,
   "id": "d5c38189-6873-483c-84d7-262020f2ed73",
   "metadata": {},
   "outputs": [],
   "source": [
    "# Buffered reading >> it allows the program to read the data in chunks\n",
    "# Buffered writting"
   ]
  },
  {
   "cell_type": "code",
   "execution_count": 24,
   "id": "79446c93-5f06-44fb-8172-849df0a1483d",
   "metadata": {},
   "outputs": [],
   "source": [
    "import io\n",
    "with open(\"test_buf.txt\", \"wb\") as f:\n",
    "    file = io.BufferedWriter(f)\n",
    "    file.write(b\"A broad range of industrial and consumer products use computers as control systems, including simple special-purpose devices like microwave ovens and remote controls, and factory devices like industrial robots. Computers are at the core of general-purpose devices such as personal computers and mobile devices such as smartphones. Computers power the Internet, which links billions of computers and users.\")\n",
    "    file.write(b\"hello\")\n",
    "    file.write(b\"I am good\")\n",
    "    file.flush()"
   ]
  },
  {
   "cell_type": "code",
   "execution_count": 26,
   "id": "d15ac8bd-20fc-45d0-b58e-79664c644020",
   "metadata": {},
   "outputs": [
    {
     "name": "stdout",
     "output_type": "stream",
     "text": [
      "b'A broad range of industrial and consumer products use computers as control systems, including simple'\n"
     ]
    }
   ],
   "source": [
    "with open(\"test_buf.txt\", \"rb\") as f:\n",
    "    file = io.BufferedReader(f)\n",
    "    data = file.read(100) # 100bytes\n",
    "    print(data)"
   ]
  },
  {
   "cell_type": "code",
   "execution_count": null,
   "id": "2b00b432-dab4-4882-98fc-86f3e2bb5edf",
   "metadata": {},
   "outputs": [],
   "source": []
  }
 ],
 "metadata": {
  "kernelspec": {
   "display_name": "Python 3 (ipykernel)",
   "language": "python",
   "name": "python3"
  },
  "language_info": {
   "codemirror_mode": {
    "name": "ipython",
    "version": 3
   },
   "file_extension": ".py",
   "mimetype": "text/x-python",
   "name": "python",
   "nbconvert_exporter": "python",
   "pygments_lexer": "ipython3",
   "version": "3.13.0"
  }
 },
 "nbformat": 4,
 "nbformat_minor": 5
}
