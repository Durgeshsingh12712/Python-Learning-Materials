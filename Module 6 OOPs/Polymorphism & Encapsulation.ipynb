{
 "cells": [
  {
   "cell_type": "code",
   "execution_count": 1,
   "id": "ce051c23-9181-483d-9f52-ba897f1f7100",
   "metadata": {},
   "outputs": [],
   "source": [
    "#Polymorpnise >> Poly means many,morphinise means form/states\n",
    "#refers to an object taking several form/ Depanding on data"
   ]
  },
  {
   "cell_type": "code",
   "execution_count": 3,
   "id": "2070b7bc-5a90-4799-bcb4-420172c28851",
   "metadata": {},
   "outputs": [
    {
     "data": {
      "text/plain": [
       "4"
      ]
     },
     "execution_count": 3,
     "metadata": {},
     "output_type": "execute_result"
    }
   ],
   "source": [
    "len(\"Ajay\")"
   ]
  },
  {
   "cell_type": "code",
   "execution_count": 5,
   "id": "54f31b51-5c54-4e86-9dc2-ed882fbb707c",
   "metadata": {},
   "outputs": [
    {
     "data": {
      "text/plain": [
       "4"
      ]
     },
     "execution_count": 5,
     "metadata": {},
     "output_type": "execute_result"
    }
   ],
   "source": [
    "len([1, 2, 3, 4])"
   ]
  },
  {
   "cell_type": "code",
   "execution_count": 7,
   "id": "7467796e-e0c5-476a-8ac3-4b0e3eaa0543",
   "metadata": {},
   "outputs": [],
   "source": [
    "def func(a, b):\n",
    "    return a+b"
   ]
  },
  {
   "cell_type": "code",
   "execution_count": 8,
   "id": "3ddd4b3d-2485-45b2-ac04-b6ecb0d2fa53",
   "metadata": {},
   "outputs": [
    {
     "data": {
      "text/plain": [
       "7"
      ]
     },
     "execution_count": 8,
     "metadata": {},
     "output_type": "execute_result"
    }
   ],
   "source": [
    "func(3, 4)"
   ]
  },
  {
   "cell_type": "code",
   "execution_count": 9,
   "id": "b01fd298-1439-4c00-91f0-8ce791bd121d",
   "metadata": {},
   "outputs": [
    {
     "data": {
      "text/plain": [
       "'pwskills'"
      ]
     },
     "execution_count": 9,
     "metadata": {},
     "output_type": "execute_result"
    }
   ],
   "source": [
    "func(\"pw\", \"skills\")"
   ]
  },
  {
   "cell_type": "code",
   "execution_count": 10,
   "id": "13b8de22-8132-415e-bab8-52af86e1b77f",
   "metadata": {},
   "outputs": [],
   "source": [
    "class teacher_lecture:\n",
    "    def lec_info(self):\n",
    "        print(\"This is lec info with teacher perspective\")"
   ]
  },
  {
   "cell_type": "code",
   "execution_count": 11,
   "id": "3b629590-d6d9-4906-90be-f86e5081df36",
   "metadata": {},
   "outputs": [],
   "source": [
    "class student_lecture:\n",
    "    def lec_info(self):\n",
    "        print(\"This is lec info with student perspective\")"
   ]
  },
  {
   "cell_type": "code",
   "execution_count": 19,
   "id": "1c14626a-94a7-4a2f-8cf5-59c59b009c71",
   "metadata": {},
   "outputs": [],
   "source": [
    "def parcer(class_obj):\n",
    "    for i in class_obj:\n",
    "        i.lec_info()"
   ]
  },
  {
   "cell_type": "code",
   "execution_count": 20,
   "id": "48cf5797-527c-41a5-ae1b-f2199970243e",
   "metadata": {},
   "outputs": [],
   "source": [
    "obj1 = teacher_lectur()\n",
    "obj2 = student_lecture()"
   ]
  },
  {
   "cell_type": "code",
   "execution_count": 23,
   "id": "90054c21-f1c7-4d69-a024-5cc65c3f9408",
   "metadata": {},
   "outputs": [],
   "source": [
    "class_obj = [obj1, obj2]"
   ]
  },
  {
   "cell_type": "code",
   "execution_count": 25,
   "id": "cdfe90a2-c860-4fba-88d2-8b50d56d882d",
   "metadata": {},
   "outputs": [
    {
     "name": "stdout",
     "output_type": "stream",
     "text": [
      "This is lec info with teacher perspective\n",
      "This is lec info with student perspective\n"
     ]
    }
   ],
   "source": [
    "parcer(class_obj)"
   ]
  },
  {
   "cell_type": "code",
   "execution_count": 26,
   "id": "bef16f70-7921-4f0d-b734-e3904a329b37",
   "metadata": {},
   "outputs": [],
   "source": [
    "#polymorphisime >> Method overloading, Method overriding"
   ]
  },
  {
   "cell_type": "code",
   "execution_count": 33,
   "id": "4ea35928-f677-474c-9a08-41ef134b637d",
   "metadata": {},
   "outputs": [],
   "source": [
    "class Student:\n",
    "    def student(self):\n",
    "        print(\"Welcome to PWskills Class\")\n",
    "    def student(self, name = \"\"):\n",
    "        print(\"Welcome to PWskills Class\", name)\n",
    "    def student(self, name = \"\", course = \"\"):\n",
    "        print(\"Welcome to PWskills class\", name, course)"
   ]
  },
  {
   "cell_type": "code",
   "execution_count": 34,
   "id": "f2b145c6-7309-4f9c-9abe-a8da514557da",
   "metadata": {},
   "outputs": [],
   "source": [
    "stud = Student()"
   ]
  },
  {
   "cell_type": "code",
   "execution_count": 35,
   "id": "4d7307e8-eeae-4ab6-96d6-8617065d1d29",
   "metadata": {},
   "outputs": [
    {
     "name": "stdout",
     "output_type": "stream",
     "text": [
      "Welcome to PWskills class  \n"
     ]
    }
   ],
   "source": [
    "stud.student()"
   ]
  },
  {
   "cell_type": "code",
   "execution_count": 36,
   "id": "6206ce7b-2b42-4ae5-a717-18ee599e757f",
   "metadata": {},
   "outputs": [
    {
     "name": "stdout",
     "output_type": "stream",
     "text": [
      "Welcome to PWskills class Ajay \n"
     ]
    }
   ],
   "source": [
    "stud.student(\"Ajay\")"
   ]
  },
  {
   "cell_type": "code",
   "execution_count": 37,
   "id": "3113b165-09d2-499e-8c9b-7ff2749d657c",
   "metadata": {},
   "outputs": [
    {
     "name": "stdout",
     "output_type": "stream",
     "text": [
      "Welcome to PWskills class Ajay DS\n"
     ]
    }
   ],
   "source": [
    "stud.student(\"Ajay\", \"DS\")"
   ]
  },
  {
   "cell_type": "code",
   "execution_count": 40,
   "id": "b2c4cca3-c7c7-4c24-b478-3103ebb5f126",
   "metadata": {},
   "outputs": [],
   "source": [
    "# Method overloading >> student is taking different forms, The last method overwrites the privious one\n",
    "class Student:\n",
    "    def student(self, name = \"\", course = \"\"):\n",
    "        print(\"Welcome to PWskills class\", name, course)\n",
    "\n",
    "stud = Student()"
   ]
  },
  {
   "cell_type": "code",
   "execution_count": 39,
   "id": "d4f83221-1b89-46b2-8ac8-6511e35b7d37",
   "metadata": {},
   "outputs": [
    {
     "name": "stdout",
     "output_type": "stream",
     "text": [
      "Welcome to PWskills class Ajay \n"
     ]
    }
   ],
   "source": [
    "stud.student(\"Ajay\")"
   ]
  },
  {
   "cell_type": "code",
   "execution_count": 41,
   "id": "8db7a202-b666-402b-892f-61b556445ee4",
   "metadata": {},
   "outputs": [
    {
     "name": "stdout",
     "output_type": "stream",
     "text": [
      "Welcome to PWskills class Ajay Pwskills\n"
     ]
    }
   ],
   "source": [
    "stud.student(\"Ajay\",\"Pwskills\")"
   ]
  },
  {
   "cell_type": "code",
   "execution_count": 42,
   "id": "0ca4eace-6cf5-4486-b9be-b5c623fa2321",
   "metadata": {},
   "outputs": [],
   "source": [
    "# Method Overriding >> Method in parent class and child class withs same signature ,The child class methed will be executed "
   ]
  },
  {
   "cell_type": "code",
   "execution_count": 43,
   "id": "6d22a2f8-1d26-44d5-b7e8-249af22dde8b",
   "metadata": {},
   "outputs": [],
   "source": [
    "class Animal:\n",
    "    def sound(self):\n",
    "        print(\"Animal sound\")\n",
    "class Cat(Animal):\n",
    "    def sound(self):\n",
    "        print(\"Cat Meows\")\n",
    "        "
   ]
  },
  {
   "cell_type": "code",
   "execution_count": 44,
   "id": "d575d786-e8bb-4a69-972f-f04859ec8ed1",
   "metadata": {},
   "outputs": [],
   "source": [
    "cat = Cat()"
   ]
  },
  {
   "cell_type": "code",
   "execution_count": 45,
   "id": "70b4d588-04f5-40b0-8f21-9e8fc85ec083",
   "metadata": {},
   "outputs": [
    {
     "name": "stdout",
     "output_type": "stream",
     "text": [
      "Cat Meows\n"
     ]
    }
   ],
   "source": [
    "cat.sound()"
   ]
  },
  {
   "cell_type": "code",
   "execution_count": 47,
   "id": "9dc5a91d-76bc-40ec-a4d3-da62af9ebe34",
   "metadata": {},
   "outputs": [],
   "source": [
    "#encapsulation >> means hidding something\n",
    "# Bundling of data  and methods\n",
    "#access modifier >> public, protected , private "
   ]
  },
  {
   "cell_type": "code",
   "execution_count": 48,
   "id": "6bef3f2a-90a5-4d0e-bf08-e73b5719e1fe",
   "metadata": {},
   "outputs": [],
   "source": [
    "#Public >> accesible from anywhere from outside/inside the class\n",
    "\n",
    "class Student:\n",
    "    def __init__(self, name, degree):\n",
    "        self.name = name\n",
    "        self.degree = degree"
   ]
  },
  {
   "cell_type": "code",
   "execution_count": 50,
   "id": "074b12cf-4714-4804-83a4-fd1fba4cdb04",
   "metadata": {},
   "outputs": [],
   "source": [
    "stud = Student(\"Ramesh\", \"Masters\")"
   ]
  },
  {
   "cell_type": "code",
   "execution_count": 52,
   "id": "ab5b497b-4f62-4871-927c-fe670595e454",
   "metadata": {},
   "outputs": [
    {
     "data": {
      "text/plain": [
       "'Ramesh'"
      ]
     },
     "execution_count": 52,
     "metadata": {},
     "output_type": "execute_result"
    }
   ],
   "source": [
    "stud.name"
   ]
  },
  {
   "cell_type": "code",
   "execution_count": 53,
   "id": "d912f610-4f57-4c80-b153-5ca546c0dfe0",
   "metadata": {},
   "outputs": [
    {
     "data": {
      "text/plain": [
       "'Masters'"
      ]
     },
     "execution_count": 53,
     "metadata": {},
     "output_type": "execute_result"
    }
   ],
   "source": [
    "stud.degree"
   ]
  },
  {
   "cell_type": "code",
   "execution_count": 54,
   "id": "33179f97-fa13-441c-9354-e79c1c665b63",
   "metadata": {},
   "outputs": [],
   "source": [
    "stud.degree = \"PHD\""
   ]
  },
  {
   "cell_type": "code",
   "execution_count": 55,
   "id": "f3af3425-267a-47ce-bc3e-e7327d836fa8",
   "metadata": {},
   "outputs": [
    {
     "data": {
      "text/plain": [
       "'PHD'"
      ]
     },
     "execution_count": 55,
     "metadata": {},
     "output_type": "execute_result"
    }
   ],
   "source": [
    "stud.degree"
   ]
  },
  {
   "cell_type": "code",
   "execution_count": 78,
   "id": "5a019992-2dbc-496f-b728-d91b33e0e512",
   "metadata": {},
   "outputs": [],
   "source": [
    "#private >>within the class only its accessble, use Two __ to make private\n",
    "\n",
    "class Student:\n",
    "    def __init__(self, name, degree):\n",
    "        self.name = name\n",
    "        self.__degree = degree\n",
    "\n",
    "    def show(self):\n",
    "        \n",
    "        #accessing the private and private data member\n",
    "        print(\"name\", self.name, 'degree', self.__degree)"
   ]
  },
  {
   "cell_type": "code",
   "execution_count": 79,
   "id": "aaa123f9-7f7f-4c00-8e7d-d4ec5c82c4b8",
   "metadata": {},
   "outputs": [],
   "source": [
    "stud = Student(\"Ramesh\",\"Masters\")"
   ]
  },
  {
   "cell_type": "code",
   "execution_count": 72,
   "id": "12280900-2dbc-4f05-98d7-df3679568b7b",
   "metadata": {},
   "outputs": [
    {
     "data": {
      "text/plain": [
       "'Ramesh'"
      ]
     },
     "execution_count": 72,
     "metadata": {},
     "output_type": "execute_result"
    }
   ],
   "source": [
    "stud.name"
   ]
  },
  {
   "cell_type": "code",
   "execution_count": 68,
   "id": "0aa934c0-6496-4006-92d9-1a4e54cb4841",
   "metadata": {},
   "outputs": [
    {
     "ename": "AttributeError",
     "evalue": "'Student' object has no attribute '__degree'",
     "output_type": "error",
     "traceback": [
      "\u001b[1;31m---------------------------------------------------------------------------\u001b[0m",
      "\u001b[1;31mAttributeError\u001b[0m                            Traceback (most recent call last)",
      "Cell \u001b[1;32mIn[68], line 1\u001b[0m\n\u001b[1;32m----> 1\u001b[0m \u001b[43mstud\u001b[49m\u001b[38;5;241;43m.\u001b[39;49m\u001b[43m__degree\u001b[49m\n",
      "\u001b[1;31mAttributeError\u001b[0m: 'Student' object has no attribute '__degree'"
     ]
    }
   ],
   "source": [
    "stud.__degree"
   ]
  },
  {
   "cell_type": "code",
   "execution_count": 73,
   "id": "5251209b-04d7-466f-82ac-3711128f1863",
   "metadata": {},
   "outputs": [
    {
     "data": {
      "text/plain": [
       "'Masters'"
      ]
     },
     "execution_count": 73,
     "metadata": {},
     "output_type": "execute_result"
    }
   ],
   "source": [
    "stud._Student__degree"
   ]
  },
  {
   "cell_type": "code",
   "execution_count": 80,
   "id": "f43b9b64-3a29-4a75-83c7-2f74373e1bf4",
   "metadata": {},
   "outputs": [
    {
     "name": "stdout",
     "output_type": "stream",
     "text": [
      "name Ramesh degree Masters\n"
     ]
    }
   ],
   "source": [
    "stud.show()"
   ]
  },
  {
   "cell_type": "code",
   "execution_count": 96,
   "id": "8f430cd3-335b-45aa-8b0d-0b413b170508",
   "metadata": {},
   "outputs": [],
   "source": [
    "class Car:\n",
    "    def __init__(self, year, make, speed, model):\n",
    "        self.__year = year\n",
    "        self.__make = make\n",
    "        self.__speed = speed\n",
    "        self.__model = model\n",
    "    def set_speed(self, speed):\n",
    "        self.__speed = 0 if speed < 0 else speed\n",
    "\n",
    "    def get_speed(self):\n",
    "        return self.__speed"
   ]
  },
  {
   "cell_type": "code",
   "execution_count": 97,
   "id": "e3fc4603-89c4-4be9-bc6f-d6ece4c61c50",
   "metadata": {},
   "outputs": [],
   "source": [
    "car = Car(\"1995\", \"Maruti\", \"80\", \"Brezza\")"
   ]
  },
  {
   "cell_type": "code",
   "execution_count": 93,
   "id": "b308c7f4-a166-460d-9e07-0cb90d032dfa",
   "metadata": {},
   "outputs": [
    {
     "data": {
      "text/plain": [
       "'1995'"
      ]
     },
     "execution_count": 93,
     "metadata": {},
     "output_type": "execute_result"
    }
   ],
   "source": [
    "car._Car__year"
   ]
  },
  {
   "cell_type": "code",
   "execution_count": 94,
   "id": "95aba0fd-d768-4c38-9869-3aece7ed202f",
   "metadata": {},
   "outputs": [
    {
     "data": {
      "text/plain": [
       "'Maruti'"
      ]
     },
     "execution_count": 94,
     "metadata": {},
     "output_type": "execute_result"
    }
   ],
   "source": [
    "car._Car__make"
   ]
  },
  {
   "cell_type": "code",
   "execution_count": 95,
   "id": "1bb60e0c-3593-415a-a8bb-eb94a2d63f39",
   "metadata": {},
   "outputs": [
    {
     "data": {
      "text/plain": [
       "'80'"
      ]
     },
     "execution_count": 95,
     "metadata": {},
     "output_type": "execute_result"
    }
   ],
   "source": [
    "car._Car__speed"
   ]
  },
  {
   "cell_type": "code",
   "execution_count": 98,
   "id": "e8bd40ac-1493-477f-a9e2-c36c9b2876cb",
   "metadata": {},
   "outputs": [
    {
     "data": {
      "text/plain": [
       "'80'"
      ]
     },
     "execution_count": 98,
     "metadata": {},
     "output_type": "execute_result"
    }
   ],
   "source": [
    "car.get_speed()"
   ]
  },
  {
   "cell_type": "code",
   "execution_count": 99,
   "id": "3045f0fa-cc54-4bee-b56a-cf0bf79d224e",
   "metadata": {},
   "outputs": [],
   "source": [
    "car.set_speed(-1000)"
   ]
  },
  {
   "cell_type": "code",
   "execution_count": 102,
   "id": "1c7eae0b-9077-422d-9c66-e18eccaea838",
   "metadata": {},
   "outputs": [
    {
     "data": {
      "text/plain": [
       "0"
      ]
     },
     "execution_count": 102,
     "metadata": {},
     "output_type": "execute_result"
    }
   ],
   "source": [
    "car.get_speed()"
   ]
  },
  {
   "cell_type": "code",
   "execution_count": 103,
   "id": "e6651b81-20a5-4851-be88-ef907e379c6c",
   "metadata": {},
   "outputs": [],
   "source": [
    "car .set_speed(100)"
   ]
  },
  {
   "cell_type": "code",
   "execution_count": 104,
   "id": "0c970c17-6b8c-401f-b677-4ea1c8a63378",
   "metadata": {},
   "outputs": [
    {
     "data": {
      "text/plain": [
       "100"
      ]
     },
     "execution_count": 104,
     "metadata": {},
     "output_type": "execute_result"
    }
   ],
   "source": [
    "car.get_speed()"
   ]
  },
  {
   "cell_type": "code",
   "execution_count": 126,
   "id": "06203fb5-b4ea-4c0a-a9b8-97b74e31c2fa",
   "metadata": {},
   "outputs": [],
   "source": [
    "class Bank:\n",
    "    def __init__(self, balance):\n",
    "        self.__balance = balance\n",
    "    def deposite(self, amount):\n",
    "        self.__balance = self.__balance + amount\n",
    "    def withdraw(self, amount):\n",
    "        if self.__balance >= amount:\n",
    "            self.__balance = self.__balance - amount\n",
    "            return True\n",
    "        else:\n",
    "            return False\n",
    "    def get_balance(self):\n",
    "        return self.__balance\n",
    "        "
   ]
  },
  {
   "cell_type": "code",
   "execution_count": 131,
   "id": "249fcc79-9adc-4153-ba1d-7b931ea24fe2",
   "metadata": {},
   "outputs": [],
   "source": [
    "acc = Bank(1000)"
   ]
  },
  {
   "cell_type": "code",
   "execution_count": 132,
   "id": "6608e4f5-25c8-4cce-8723-bc517e883ce0",
   "metadata": {},
   "outputs": [
    {
     "data": {
      "text/plain": [
       "1000"
      ]
     },
     "execution_count": 132,
     "metadata": {},
     "output_type": "execute_result"
    }
   ],
   "source": [
    "acc.get_balance()"
   ]
  },
  {
   "cell_type": "code",
   "execution_count": 133,
   "id": "1d517656-a0ff-454f-8644-f3484c46d0b5",
   "metadata": {},
   "outputs": [],
   "source": [
    "acc.deposite(10000)"
   ]
  },
  {
   "cell_type": "code",
   "execution_count": 134,
   "id": "0af3b58f-c6a9-4a38-a688-6ae65221f58c",
   "metadata": {},
   "outputs": [
    {
     "data": {
      "text/plain": [
       "11000"
      ]
     },
     "execution_count": 134,
     "metadata": {},
     "output_type": "execute_result"
    }
   ],
   "source": [
    "acc.get_balance()"
   ]
  },
  {
   "cell_type": "code",
   "execution_count": 135,
   "id": "6742adb1-1518-47ba-a26e-8cc2fd67aa37",
   "metadata": {},
   "outputs": [
    {
     "data": {
      "text/plain": [
       "True"
      ]
     },
     "execution_count": 135,
     "metadata": {},
     "output_type": "execute_result"
    }
   ],
   "source": [
    "acc.withdraw(10500)"
   ]
  },
  {
   "cell_type": "code",
   "execution_count": 136,
   "id": "415916df-5702-4c14-b2b6-4dd2d2f720b5",
   "metadata": {},
   "outputs": [
    {
     "data": {
      "text/plain": [
       "500"
      ]
     },
     "execution_count": 136,
     "metadata": {},
     "output_type": "execute_result"
    }
   ],
   "source": [
    "acc.get_balance()"
   ]
  },
  {
   "cell_type": "code",
   "execution_count": 137,
   "id": "43fd7a60-ede2-499b-99d9-ef431b674d2a",
   "metadata": {},
   "outputs": [
    {
     "data": {
      "text/plain": [
       "False"
      ]
     },
     "execution_count": 137,
     "metadata": {},
     "output_type": "execute_result"
    }
   ],
   "source": [
    "acc.withdraw(1000)"
   ]
  },
  {
   "cell_type": "code",
   "execution_count": 138,
   "id": "2bbe4e4f-0024-4167-be83-a4881d1e8cbf",
   "metadata": {},
   "outputs": [],
   "source": [
    "#Proctected >> within the class and its sub class protected member can be access, (_)"
   ]
  },
  {
   "cell_type": "code",
   "execution_count": 152,
   "id": "96971170-e662-475c-ba64-4c1c741d8a84",
   "metadata": {},
   "outputs": [],
   "source": [
    "class College:\n",
    "    def __init__(self):\n",
    "        self._college_name = \"PWskills\"\n",
    "        \n",
    "class Student(College):\n",
    "    def __init__(self, name):\n",
    "        self.name = name\n",
    "        College.__init__(self)\n",
    "    def show(self):\n",
    "        print(\"name\", self.name, \"college\", self._college_name)"
   ]
  },
  {
   "cell_type": "code",
   "execution_count": 153,
   "id": "8596e898-e0e7-4dee-a4de-4f610da1c987",
   "metadata": {},
   "outputs": [],
   "source": [
    "stud = Student(\"Ajay\")"
   ]
  },
  {
   "cell_type": "code",
   "execution_count": 154,
   "id": "d48a121f-7385-4892-8ce0-e913c5f0701a",
   "metadata": {},
   "outputs": [
    {
     "name": "stdout",
     "output_type": "stream",
     "text": [
      "name Ajay college PWskills\n"
     ]
    }
   ],
   "source": [
    "stud.show()"
   ]
  },
  {
   "cell_type": "code",
   "execution_count": 156,
   "id": "e9a475e3-0942-4352-a479-873020366925",
   "metadata": {},
   "outputs": [],
   "source": [
    "coll = College()"
   ]
  },
  {
   "cell_type": "code",
   "execution_count": 157,
   "id": "d1f9b8df-3cef-4243-99c2-28df9d232ce4",
   "metadata": {},
   "outputs": [
    {
     "data": {
      "text/plain": [
       "'PWskills'"
      ]
     },
     "execution_count": 157,
     "metadata": {},
     "output_type": "execute_result"
    }
   ],
   "source": [
    "coll._college_name"
   ]
  },
  {
   "cell_type": "code",
   "execution_count": 160,
   "id": "886a3184-d3e9-42af-ba8b-fc7f184fa7ae",
   "metadata": {},
   "outputs": [],
   "source": [
    "class College:\n",
    "    def __init__(self):\n",
    "        self._college_name = \"PWskills\"\n",
    "        \n",
    "class Student(College):\n",
    "    def __init__(self, name):\n",
    "        self.name = name\n",
    "        super().__init__()\n",
    "    def show(self):\n",
    "        print(\"name\", self.name, \"college\", self._college_name)"
   ]
  },
  {
   "cell_type": "code",
   "execution_count": 161,
   "id": "f1be30ed-855e-4075-ae7e-19f2209b07a6",
   "metadata": {},
   "outputs": [],
   "source": [
    "stud = Student(\"Ajay\")"
   ]
  },
  {
   "cell_type": "code",
   "execution_count": 162,
   "id": "42338eff-14cc-4c94-94af-55ad1790425c",
   "metadata": {},
   "outputs": [
    {
     "name": "stdout",
     "output_type": "stream",
     "text": [
      "name Ajay college PWskills\n"
     ]
    }
   ],
   "source": [
    "stud.show()"
   ]
  },
  {
   "cell_type": "code",
   "execution_count": null,
   "id": "8a317592-384c-4544-8273-06734af8090f",
   "metadata": {},
   "outputs": [],
   "source": []
  }
 ],
 "metadata": {
  "kernelspec": {
   "display_name": "Python 3 (ipykernel)",
   "language": "python",
   "name": "python3"
  },
  "language_info": {
   "codemirror_mode": {
    "name": "ipython",
    "version": 3
   },
   "file_extension": ".py",
   "mimetype": "text/x-python",
   "name": "python",
   "nbconvert_exporter": "python",
   "pygments_lexer": "ipython3",
   "version": "3.13.0"
  }
 },
 "nbformat": 4,
 "nbformat_minor": 5
}
