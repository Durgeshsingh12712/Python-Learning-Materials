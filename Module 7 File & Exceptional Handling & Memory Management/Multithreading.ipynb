{
 "cells": [
  {
   "cell_type": "code",
   "execution_count": 1,
   "id": "96548451-43bc-4e54-ac1a-28f53371e443",
   "metadata": {},
   "outputs": [],
   "source": [
    "# a process is an instance of a computer programm\n",
    "#excutable programe, data ,excution context\n",
    "# 4 processor paralleraly >> multiprocessing\n",
    "# multiple threds in processor/core >> multi threading"
   ]
  },
  {
   "cell_type": "code",
   "execution_count": 6,
   "id": "0d69d02f-08a5-4f33-b041-06db8f4190a1",
   "metadata": {},
   "outputs": [
    {
     "name": "stdout",
     "output_type": "stream",
     "text": [
      "do something\n",
      "sleep for 1 sec\n",
      "done with sleeping\n",
      "The program finished in 1.0 seconds.\n"
     ]
    }
   ],
   "source": [
    "import time\n",
    "start = time.perf_counter()\n",
    "\n",
    "def test_func():\n",
    "    print(\"do something\")\n",
    "    print(\"sleep for 1 sec\")\n",
    "    time.sleep(1)\n",
    "    print(\"done with sleeping\")\n",
    "\n",
    "test_func()\n",
    "\n",
    "end = time.perf_counter()\n",
    "\n",
    "print(f\"The program finished in {round(end-start, 2)} seconds.\")"
   ]
  },
  {
   "cell_type": "code",
   "execution_count": 7,
   "id": "6e7f523b-c5aa-4823-8294-a58d164b7c53",
   "metadata": {},
   "outputs": [
    {
     "name": "stdout",
     "output_type": "stream",
     "text": [
      "do something\n",
      "sleep for 1 sec\n",
      "done with sleeping\n",
      "do something\n",
      "sleep for 1 sec\n",
      "done with sleeping\n",
      "do something\n",
      "sleep for 1 sec\n",
      "done with sleeping\n",
      "do something\n",
      "sleep for 1 sec\n",
      "done with sleeping\n",
      "The program finished in 4.01 seconds.\n"
     ]
    }
   ],
   "source": [
    "import time\n",
    "start = time.perf_counter()\n",
    "\n",
    "def test_func():\n",
    "    print(\"do something\")\n",
    "    print(\"sleep for 1 sec\")\n",
    "    time.sleep(1)\n",
    "    print(\"done with sleeping\")\n",
    "\n",
    "test_func()\n",
    "test_func()\n",
    "test_func()\n",
    "test_func()\n",
    "end = time.perf_counter()\n",
    "\n",
    "print(f\"The program finished in {round(end-start, 2)} seconds.\")"
   ]
  },
  {
   "cell_type": "code",
   "execution_count": 10,
   "id": "e18e6ccb-43ef-4806-8ac1-82bc5ada6c1f",
   "metadata": {},
   "outputs": [
    {
     "name": "stdout",
     "output_type": "stream",
     "text": [
      "do something\n",
      "sleep for 5 sec\n",
      "do something\n",
      "sleep for 5 sec\n",
      "done with sleeping\n",
      "done with sleeping\n",
      "The program finished in 5.01 seconds.\n"
     ]
    }
   ],
   "source": [
    "import time\n",
    "import threading\n",
    "start = time.perf_counter()\n",
    "\n",
    "def test_func():\n",
    "    print(\"do something\")\n",
    "    print(\"sleep for 5 sec\")\n",
    "    time.sleep(5)\n",
    "    print(\"done with sleeping\")\n",
    "\n",
    "t1 = threading.Thread(target = test_func)\n",
    "t2 = threading.Thread(target = test_func)\n",
    "\n",
    "t1.start() #to start the thread\n",
    "t2.start()\n",
    "\n",
    "t1.join() # in order to first execute the thread and the executing of main program\n",
    "t2.join()\n",
    "end = time.perf_counter()\n",
    "\n",
    "print(f\"The program finished in {round(end-start, 2)} seconds.\")"
   ]
  },
  {
   "cell_type": "code",
   "execution_count": 11,
   "id": "c81be026-8744-4c9f-99f7-243578a5c31b",
   "metadata": {},
   "outputs": [
    {
     "name": "stdout",
     "output_type": "stream",
     "text": [
      "do something\n",
      "sleep for 1 sec\n",
      "do something\n",
      "sleep for 1 sec\n",
      "do something\n",
      "sleep for 1 sec\n",
      "do something\n",
      "sleep for 1 sec\n",
      "do something\n",
      "sleep for 1 sec\n",
      "do something\n",
      "sleep for 1 sec\n",
      "do something\n",
      "sleep for 1 sec\n",
      "do something\n",
      "sleep for 1 sec\n",
      "do something\n",
      "sleep for 1 sec\n",
      "do something\n",
      "sleep for 1 sec\n",
      "done with sleeping\n",
      "done with sleeping\n",
      "done with sleeping\n",
      "done with sleeping\n",
      "done with sleeping\n",
      "done with sleeping\n",
      "done with sleeping\n",
      "done with sleeping\n",
      "done with sleeping\n",
      "done with sleeping\n",
      "The program finished in 1.06 seconds.\n"
     ]
    }
   ],
   "source": [
    "import time\n",
    "import threading\n",
    "start = time.perf_counter()\n",
    "\n",
    "def test_func():\n",
    "    print(\"do something\")\n",
    "    print(\"sleep for 1 sec\")\n",
    "    time.sleep(1)\n",
    "    print(\"done with sleeping\")\n",
    "threads = []\n",
    "for i in range(10):\n",
    "    t = threading.Thread(target = test_func)\n",
    "    t.start()\n",
    "    threads.append(t)\n",
    "for thread in threads:\n",
    "    thread.join()\n",
    "    \n",
    "end = time.perf_counter()\n",
    "\n",
    "print(f\"The program finished in {round(end-start, 2)} seconds.\")"
   ]
  },
  {
   "cell_type": "code",
   "execution_count": 12,
   "id": "b7dec096-b2c2-4013-8a64-24804c651335",
   "metadata": {},
   "outputs": [
    {
     "name": "stdout",
     "output_type": "stream",
     "text": [
      "do something\n",
      "sleep for {args} sec\n",
      "do something\n",
      "sleep for {args} sec\n",
      "do something\n",
      "sleep for {args} sec\n",
      "do something\n",
      "sleep for {args} sec\n",
      "do something\n",
      "sleep for {args} sec\n",
      "do something\n",
      "sleep for {args} sec\n",
      "do something\n",
      "sleep for {args} sec\n",
      "do something\n",
      "sleep for {args} sec\n",
      "do something\n",
      "sleep for {args} sec\n",
      "do something\n",
      "sleep for {args} sec\n",
      "done with sleeping\n",
      "done with sleeping\n",
      "done with sleeping\n",
      "done with sleeping\n",
      "done with sleeping\n",
      "done with sleeping\n",
      "done with sleeping\n",
      "done with sleeping\n",
      "done with sleeping\n",
      "done with sleeping\n",
      "The program finished in 2.02 seconds.\n"
     ]
    }
   ],
   "source": [
    "import time\n",
    "import threading\n",
    "start = time.perf_counter()\n",
    "\n",
    "def test_func(args):\n",
    "    print(\"do something\")\n",
    "    print(\"sleep for {args} sec\")\n",
    "    time.sleep(args)\n",
    "    print(\"done with sleeping\")\n",
    "threads = []\n",
    "for i in range(10):\n",
    "    t = threading.Thread(target = test_func, args = [2])\n",
    "    t.start()\n",
    "    threads.append(t)\n",
    "for thread in threads:\n",
    "    thread.join()\n",
    "    \n",
    "end = time.perf_counter()\n",
    "\n",
    "print(f\"The program finished in {round(end-start, 2)} seconds.\")"
   ]
  },
  {
   "cell_type": "code",
   "execution_count": 13,
   "id": "52a737ce-fb74-4dea-bdb1-1cdf548952db",
   "metadata": {},
   "outputs": [],
   "source": [
    "# I/O bound task >> performance can be improved using multithreading >> reading writting files, network communication, database query\n",
    "url_list = [\n",
    "    'https://github.com/mhagger/git-test/blob/master/Makefile',\n",
    "    'https://github.com/mhagger/git-test/blob/master/env.md',\n",
    "    'https://github.com/ableco/test-files/blob/master/.gitignore',\n",
    "    'https://github.com/ableco/test-files/blob/master/README.md',\n",
    "]"
   ]
  },
  {
   "cell_type": "code",
   "execution_count": 17,
   "id": "55b49523-2459-4355-98ff-2b71a47795fa",
   "metadata": {},
   "outputs": [
    {
     "name": "stdout",
     "output_type": "stream",
     "text": [
      "The program finished in 1.14 seconds.\n"
     ]
    }
   ],
   "source": [
    "import time\n",
    "import threading\n",
    "start = time.perf_counter()\n",
    "\n",
    "url_list = [\n",
    "    'https://github.com/mhagger/git-test/blob/master/Makefile',\n",
    "    'https://github.com/mhagger/git-test/blob/master/env.md',\n",
    "    'https://github.com/ableco/test-files/blob/master/.gitignore',\n",
    "    'https://github.com/ableco/test-files/blob/master/README.md',\n",
    "]\n",
    "\n",
    "data_list = ['data1.txt', 'data2.txt', 'data3.txt', 'data4.txt']\n",
    "\n",
    "import urllib.request\n",
    "def file_download(url, filename):\n",
    "    urllib.request.urlretrieve(url, filename)\n",
    "\n",
    "threads = []\n",
    "for i in range(len(url_list)):\n",
    "    t = threading.Thread(target = file_download, args = (url_list[i], data_list[i]))\n",
    "    t.start()\n",
    "    threads.append(t)\n",
    "for thread in threads:\n",
    "    thread.join()\n",
    "\n",
    "end = time.perf_counter()\n",
    "\n",
    "print(f\"The program finished in {round(end-start, 2)} seconds.\")"
   ]
  },
  {
   "cell_type": "code",
   "execution_count": 18,
   "id": "4db8c66d-484c-4101-aca4-15f6904407e4",
   "metadata": {},
   "outputs": [
    {
     "name": "stdout",
     "output_type": "stream",
     "text": [
      "The program finished in 1.33 seconds.\n"
     ]
    }
   ],
   "source": [
    "import time\n",
    "import concurrent.futures\n",
    "start = time.perf_counter()\n",
    "\n",
    "url_list = [\n",
    "    'https://github.com/mhagger/git-test/blob/master/Makefile',\n",
    "    'https://github.com/mhagger/git-test/blob/master/env.md',\n",
    "    'https://github.com/ableco/test-files/blob/master/.gitignore',\n",
    "    'https://github.com/ableco/test-files/blob/master/README.md',\n",
    "]\n",
    "\n",
    "data_list = ['data1.txt', 'data2.txt', 'data3.txt', 'data4.txt']\n",
    "\n",
    "import urllib.request\n",
    "def file_download(url, filename):\n",
    "    urllib.request.urlretrieve(url, filename)\n",
    "\n",
    "with concurrent.futures.ThreadPoolExecutor() as executor:\n",
    "    executor.map(file_download, url_list, data_list)\n",
    "\n",
    "end = time.perf_counter()\n",
    "\n",
    "print(f\"The program finished in {round(end-start, 2)} seconds.\")"
   ]
  },
  {
   "cell_type": "code",
   "execution_count": 21,
   "id": "77422f79-1b58-48a3-851e-9e2139be689e",
   "metadata": {},
   "outputs": [
    {
     "name": "stdout",
     "output_type": "stream",
     "text": [
      "Thread 1: increament shared counter to 1\n",
      "Thread 2: increament shared counter to 2\n",
      "Thread 3: increament shared counter to 3\n",
      "Thread 4: increament shared counter to 4\n",
      "Thread 5: increament shared counter to 5\n",
      "Thread 6: increament shared counter to 6\n",
      "The program finished in 6.04 seconds.\n"
     ]
    }
   ],
   "source": [
    "# Concept of shared variable across the thread\n",
    "start = time.perf_counter()\n",
    "shared_counter = 0\n",
    "counter_lock = threading.Lock()\n",
    "\n",
    "def increament_shared_counter(x):\n",
    "    global shared_counter\n",
    "    with counter_lock:\n",
    "        shared_counter = shared_counter+1\n",
    "        print(f\"Thread {x}: increament shared counter to {shared_counter}\")\n",
    "        time.sleep(1)\n",
    "threads = [threading.Thread(target = increament_shared_counter, args=(i,)) for i in [1, 2, 3, 4, 5, 6]]\n",
    "for thread in threads:\n",
    "    thread.start()\n",
    "for thread in threads:\n",
    "    thread.join()\n",
    "\n",
    "end = time.perf_counter()\n",
    "\n",
    "print(f\"The program finished in {round(end-start, 2)} seconds.\")"
   ]
  },
  {
   "cell_type": "code",
   "execution_count": 23,
   "id": "24aec45f-a1bd-428f-b3aa-0d632cd7d558",
   "metadata": {},
   "outputs": [
    {
     "name": "stdout",
     "output_type": "stream",
     "text": [
      "Thread 1: increament shared counter to 1\n",
      "Thread 2: increament shared counter to 2\n",
      "Thread 3: increament shared counter to 3\n",
      "Thread 4: increament shared counter to 4\n",
      "Thread 5: increament shared counter to 5\n",
      "Thread 6: increament shared counter to 6\n",
      "The program finished in 6.05 seconds.\n"
     ]
    }
   ],
   "source": [
    "start = time.perf_counter()\n",
    "shared_counter = 0\n",
    "counter_lock = threading.Lock()\n",
    "\n",
    "def increament_shared_counter(x):\n",
    "    global shared_counter\n",
    "    with counter_lock:\n",
    "        shared_counter = shared_counter+1\n",
    "        print(f\"Thread {x}: increament shared counter to {shared_counter}\")\n",
    "        time.sleep(1)\n",
    "\n",
    "with concurrent.futures.ThreadPoolExecutor() as executor:\n",
    "    threads_args = [1, 2, 3, 4, 5, 6]\n",
    "    executor.map(increament_shared_counter, threads_args)\n",
    "\n",
    "end = time.perf_counter()\n",
    "\n",
    "print(f\"The program finished in {round(end-start, 2)} seconds.\")"
   ]
  },
  {
   "cell_type": "code",
   "execution_count": null,
   "id": "7e6e77a3-14e0-497b-a337-dfc7510bbaeb",
   "metadata": {},
   "outputs": [],
   "source": []
  }
 ],
 "metadata": {
  "kernelspec": {
   "display_name": "Python 3 (ipykernel)",
   "language": "python",
   "name": "python3"
  },
  "language_info": {
   "codemirror_mode": {
    "name": "ipython",
    "version": 3
   },
   "file_extension": ".py",
   "mimetype": "text/x-python",
   "name": "python",
   "nbconvert_exporter": "python",
   "pygments_lexer": "ipython3",
   "version": "3.13.0"
  }
 },
 "nbformat": 4,
 "nbformat_minor": 5
}
