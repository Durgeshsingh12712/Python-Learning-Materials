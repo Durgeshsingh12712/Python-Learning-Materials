{
 "cells": [
  {
   "cell_type": "code",
   "execution_count": 3,
   "id": "7e0dadbc-870e-42e2-bc80-29158d17ca43",
   "metadata": {},
   "outputs": [
    {
     "name": "stdout",
     "output_type": "stream",
     "text": [
      "There is issue with my code [Errno 2] No such file or directory: 'expample.txt'\n",
      "This is my next step of code\n",
      "This is my second step of code\n"
     ]
    },
    {
     "data": {
      "text/plain": [
       "10"
      ]
     },
     "execution_count": 3,
     "metadata": {},
     "output_type": "execute_result"
    }
   ],
   "source": [
    "try:\n",
    "    f = open(\"expample.txt\", \"r\")\n",
    "except Exception as e:\n",
    "    print(\"There is issue with my code\", e)\n",
    "print(\"This is my next step of code\")\n",
    "print(\"This is my second step of code\")\n",
    "a = 10\n",
    "a"
   ]
  },
  {
   "cell_type": "code",
   "execution_count": 5,
   "id": "e80e51d5-1819-4c17-9aa0-fd0b6f3dec6c",
   "metadata": {},
   "outputs": [
    {
     "name": "stdout",
     "output_type": "stream",
     "text": [
      "division by zero\n",
      "This is my next step of code\n",
      "This is my second step of code\n"
     ]
    },
    {
     "data": {
      "text/plain": [
       "10"
      ]
     },
     "execution_count": 5,
     "metadata": {},
     "output_type": "execute_result"
    }
   ],
   "source": [
    "try:\n",
    "    5/0\n",
    "except Exception as e:\n",
    "    print(e)\n",
    "print(\"This is my next step of code\")\n",
    "print(\"This is my second step of code\")\n",
    "a = 10\n",
    "a"
   ]
  },
  {
   "cell_type": "code",
   "execution_count": 6,
   "id": "d10a7493-e101-4f2a-8cd4-11507677312a",
   "metadata": {},
   "outputs": [
    {
     "name": "stdout",
     "output_type": "stream",
     "text": [
      "There is issue with my code [Errno 2] No such file or directory: 'expample.txt'\n"
     ]
    }
   ],
   "source": [
    "try:\n",
    "    f = open(\"expample.txt\", \"r\")\n",
    "except Exception as e:\n",
    "    print(\"There is issue with my code\", e)\n",
    "else:\n",
    "    print(\"This will be executed if try except block is executed without any exception\")"
   ]
  },
  {
   "cell_type": "code",
   "execution_count": 9,
   "id": "79bff7f7-59cd-4dc4-bb0c-0dfc942d789f",
   "metadata": {},
   "outputs": [
    {
     "name": "stdout",
     "output_type": "stream",
     "text": [
      "This will be executed if try except block is executed without any exception\n"
     ]
    }
   ],
   "source": [
    "try:\n",
    "    f = open(\"expample.txt\", \"w\")\n",
    "    f.write(\"Hello to exception handling class\")\n",
    "except Exception as e:\n",
    "    print(\"There is issue with my code\", e)\n",
    "else:\n",
    "    f.close()\n",
    "    print(\"This will be executed if try except block is executed without any exception\")"
   ]
  },
  {
   "cell_type": "code",
   "execution_count": 10,
   "id": "dda693df-6624-4076-9648-1020c9584b43",
   "metadata": {},
   "outputs": [
    {
     "name": "stdout",
     "output_type": "stream",
     "text": [
      "There is issue with my code [Errno 2] No such file or directory: 'expample1.txt'\n",
      "This will be executed always\n"
     ]
    }
   ],
   "source": [
    "try:\n",
    "    f = open(\"expample1.txt\", \"r\")\n",
    "    f.write(\"Hello to exception handling class\")\n",
    "except Exception as e:\n",
    "    print(\"There is issue with my code\", e)\n",
    "else:\n",
    "    f.close()\n",
    "    print(\"This will be executed if try except block is executed without any exception\")\n",
    "finally:\n",
    "    print(\"This will be executed always\")"
   ]
  },
  {
   "cell_type": "code",
   "execution_count": 11,
   "id": "9907639f-85a3-4800-b438-9d8b71886c47",
   "metadata": {},
   "outputs": [
    {
     "name": "stdout",
     "output_type": "stream",
     "text": [
      "division by zero\n",
      "This will print always\n"
     ]
    }
   ],
   "source": [
    "try:\n",
    "    5/0\n",
    "except Exception as e:\n",
    "    print(e)\n",
    "finally:\n",
    "    print(\"This will print always\")"
   ]
  },
  {
   "cell_type": "code",
   "execution_count": 14,
   "id": "62ee08e6-fa81-4531-8e75-c13dd2f79731",
   "metadata": {},
   "outputs": [
    {
     "name": "stdin",
     "output_type": "stream",
     "text": [
      "Enter your salary 20000\n"
     ]
    }
   ],
   "source": [
    "# custom exception\n",
    "\n",
    "income = int(input(\"Enter your salary\"))"
   ]
  },
  {
   "cell_type": "code",
   "execution_count": 26,
   "id": "a759d54a-7ea5-4630-b7d6-56d9c49ba9eb",
   "metadata": {},
   "outputs": [],
   "source": [
    "class ValidateSalary(Exception):\n",
    "    def __init__(self, msg):\n",
    "        self.msg = msg"
   ]
  },
  {
   "cell_type": "code",
   "execution_count": 32,
   "id": "23896da4-8e72-472d-b20f-cc21ae33d08a",
   "metadata": {},
   "outputs": [],
   "source": [
    "def validate_salary(salary):\n",
    "    if salary <= 0:\n",
    "        raise ValidateSalary(\"Salary can not be nagative\")\n",
    "    elif salary > 200000:\n",
    "        raise ValidateSalary(\"This much high salary is not posible\")\n",
    "    else:\n",
    "        print(\"Salary is valide\")"
   ]
  },
  {
   "cell_type": "code",
   "execution_count": 33,
   "id": "dc4e9a20-78bf-4009-a528-85d6e1f750e9",
   "metadata": {},
   "outputs": [
    {
     "name": "stdin",
     "output_type": "stream",
     "text": [
      "Provide your Salary 2000000\n"
     ]
    },
    {
     "name": "stdout",
     "output_type": "stream",
     "text": [
      "This much high salary is not posible\n"
     ]
    }
   ],
   "source": [
    "try:\n",
    "    salary = int(input(\"Provide your Salary\"))\n",
    "    validate_salary(salary)\n",
    "except ValidateSalary as e:\n",
    "    print(e)"
   ]
  },
  {
   "cell_type": "code",
   "execution_count": null,
   "id": "9b7c3eee-14cd-4daf-9890-321532c5a637",
   "metadata": {},
   "outputs": [],
   "source": []
  }
 ],
 "metadata": {
  "kernelspec": {
   "display_name": "Python 3 (ipykernel)",
   "language": "python",
   "name": "python3"
  },
  "language_info": {
   "codemirror_mode": {
    "name": "ipython",
    "version": 3
   },
   "file_extension": ".py",
   "mimetype": "text/x-python",
   "name": "python",
   "nbconvert_exporter": "python",
   "pygments_lexer": "ipython3",
   "version": "3.13.0"
  }
 },
 "nbformat": 4,
 "nbformat_minor": 5
}
