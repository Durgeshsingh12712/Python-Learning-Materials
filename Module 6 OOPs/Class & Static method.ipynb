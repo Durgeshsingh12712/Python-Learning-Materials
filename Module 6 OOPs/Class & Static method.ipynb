{
 "cells": [
  {
   "cell_type": "code",
   "execution_count": 9,
   "id": "2c1fe6d9-a65d-47c3-8fdd-e8cac66f6f3b",
   "metadata": {},
   "outputs": [],
   "source": [
    "#class method : bound to the class, can access and modify method and attribute of all instances"
   ]
  },
  {
   "cell_type": "code",
   "execution_count": 2,
   "id": "dab9feab-27ee-476a-bc00-505988e4127e",
   "metadata": {},
   "outputs": [],
   "source": [
    "class Student:\n",
    "    def __init__(self, name):\n",
    "        self.name = name"
   ]
  },
  {
   "cell_type": "code",
   "execution_count": 3,
   "id": "d6e26172-9ddf-43e2-9565-fc9e0681f0b8",
   "metadata": {},
   "outputs": [],
   "source": [
    "obj = Student(\"Ajay\")"
   ]
  },
  {
   "cell_type": "code",
   "execution_count": 4,
   "id": "4338f70d-9ec6-477d-aa87-a22d3ab94ae6",
   "metadata": {},
   "outputs": [
    {
     "data": {
      "text/plain": [
       "'Ajay'"
      ]
     },
     "execution_count": 4,
     "metadata": {},
     "output_type": "execute_result"
    }
   ],
   "source": [
    "obj.name"
   ]
  },
  {
   "cell_type": "code",
   "execution_count": 11,
   "id": "e4d70594-16b5-4cb0-965e-99013cf0e3ed",
   "metadata": {},
   "outputs": [],
   "source": [
    "class Student:\n",
    "    def __init__(self, name): #instance methed\n",
    "        self.name = name\n",
    "    @classmethod #bound to the class\n",
    "    def student_details(cls, name):\n",
    "        return cls(name)"
   ]
  },
  {
   "cell_type": "code",
   "execution_count": 7,
   "id": "700a6df1-2655-4018-91de-0c7ecdf5fd46",
   "metadata": {},
   "outputs": [],
   "source": [
    "obj = Student.student_details(\"Durgesh\")"
   ]
  },
  {
   "cell_type": "code",
   "execution_count": 8,
   "id": "089ae214-433a-4376-babd-16ce067bf1b3",
   "metadata": {},
   "outputs": [
    {
     "data": {
      "text/plain": [
       "'Durgesh'"
      ]
     },
     "execution_count": 8,
     "metadata": {},
     "output_type": "execute_result"
    }
   ],
   "source": [
    "obj.name"
   ]
  },
  {
   "cell_type": "code",
   "execution_count": 12,
   "id": "a0af26fd-70e9-4ee3-a415-fd4ae9775694",
   "metadata": {},
   "outputs": [],
   "source": [
    "class Student:\n",
    "    def __init__(self, name): #instance methed\n",
    "        self.name = name\n",
    "    @classmethod #bound to the class\n",
    "    def student_details(cls, name1):\n",
    "        return cls(name1)"
   ]
  },
  {
   "cell_type": "code",
   "execution_count": 14,
   "id": "ae845669-6b9a-4b49-ad2d-55243b0799d2",
   "metadata": {},
   "outputs": [],
   "source": [
    "stud = Student.student_details(\"Sanjay\")"
   ]
  },
  {
   "cell_type": "code",
   "execution_count": 15,
   "id": "d1916d63-96e9-4bc7-b565-7a5b2c78b351",
   "metadata": {},
   "outputs": [
    {
     "data": {
      "text/plain": [
       "'Sanjay'"
      ]
     },
     "execution_count": 15,
     "metadata": {},
     "output_type": "execute_result"
    }
   ],
   "source": [
    "stud.name"
   ]
  },
  {
   "cell_type": "code",
   "execution_count": 27,
   "id": "ac833246-e473-4780-a20f-8afc9ebd3a4c",
   "metadata": {},
   "outputs": [],
   "source": [
    "class Student:\n",
    "\n",
    "    total_student = 0\n",
    "    def __init__(self, name): #instance methed\n",
    "        self.name = name\n",
    "        Student.total_student = Student.total_student +1\n",
    "        \n",
    "    @classmethod #bound to the class\n",
    "    def get_total_student(cls):\n",
    "        return cls.total_student"
   ]
  },
  {
   "cell_type": "code",
   "execution_count": 28,
   "id": "57d99f65-e710-4d0b-8df0-6d554292efc1",
   "metadata": {},
   "outputs": [
    {
     "data": {
      "text/plain": [
       "0"
      ]
     },
     "execution_count": 28,
     "metadata": {},
     "output_type": "execute_result"
    }
   ],
   "source": [
    "Student.total_student"
   ]
  },
  {
   "cell_type": "code",
   "execution_count": 29,
   "id": "a3e9f4d6-8836-443c-8f57-a426b71039c8",
   "metadata": {},
   "outputs": [],
   "source": [
    "stud1 = Student(\"Durgesh\")\n",
    "Stud2 = Student(\"Ajay\")"
   ]
  },
  {
   "cell_type": "code",
   "execution_count": 30,
   "id": "e5ec6e9d-0b64-4b95-9fcd-289375987aa0",
   "metadata": {},
   "outputs": [
    {
     "data": {
      "text/plain": [
       "2"
      ]
     },
     "execution_count": 30,
     "metadata": {},
     "output_type": "execute_result"
    }
   ],
   "source": [
    "Student.get_total_student()"
   ]
  },
  {
   "cell_type": "code",
   "execution_count": 33,
   "id": "fdbd8976-188c-4f6b-b099-97d5cf4eff30",
   "metadata": {},
   "outputs": [],
   "source": [
    "# To make external class method to be part of the class\n",
    "class Student:\n",
    "\n",
    "    total_student = 0\n",
    "    def __init__(self, name): #instance methed\n",
    "        self.name = name\n",
    "        Student.total_student = Student.total_student +1\n",
    "        \n",
    "    @classmethod #bound to the class\n",
    "    def get_total_student(cls):\n",
    "        return cls.total_student"
   ]
  },
  {
   "cell_type": "code",
   "execution_count": 34,
   "id": "a8f995ef-efe0-43b5-8a68-3a795998ec27",
   "metadata": {},
   "outputs": [],
   "source": [
    "def course_details(cls, course_name):\n",
    "    print(\"The detail of the course is :\", course_name)"
   ]
  },
  {
   "cell_type": "code",
   "execution_count": 36,
   "id": "bbe81b83-374d-4cc6-b8f1-e09123a82eaf",
   "metadata": {},
   "outputs": [],
   "source": [
    "Student.couse_details = classmethod(course_details) # adding the external class method"
   ]
  },
  {
   "cell_type": "code",
   "execution_count": 39,
   "id": "be32af16-f097-4b89-bddc-77d7f7915af7",
   "metadata": {},
   "outputs": [
    {
     "name": "stdout",
     "output_type": "stream",
     "text": [
      "The detail of the course is : Data Science\n"
     ]
    }
   ],
   "source": [
    "Student.couse_details(\"Data Science\")"
   ]
  },
  {
   "cell_type": "code",
   "execution_count": 42,
   "id": "3b7a3a55-def3-4413-9219-847f285b490c",
   "metadata": {},
   "outputs": [],
   "source": [
    "# Delete any class method\n",
    "del Student.couse_details"
   ]
  },
  {
   "cell_type": "code",
   "execution_count": 44,
   "id": "1330f866-79d5-4005-95c0-7a1f17393d84",
   "metadata": {},
   "outputs": [
    {
     "data": {
      "text/plain": [
       "0"
      ]
     },
     "execution_count": 44,
     "metadata": {},
     "output_type": "execute_result"
    }
   ],
   "source": [
    "Student.get_total_student()"
   ]
  },
  {
   "cell_type": "code",
   "execution_count": 45,
   "id": "30299805-99bb-43b0-b1db-b5adf4c8d2fa",
   "metadata": {},
   "outputs": [],
   "source": [
    "delattr(Student, \"get_total_student\")"
   ]
  },
  {
   "cell_type": "code",
   "execution_count": 46,
   "id": "0ac6a7d8-82ab-4624-abf6-7b74ad2934bd",
   "metadata": {},
   "outputs": [
    {
     "ename": "AttributeError",
     "evalue": "type object 'Student' has no attribute 'get_total_student'",
     "output_type": "error",
     "traceback": [
      "\u001b[1;31m---------------------------------------------------------------------------\u001b[0m",
      "\u001b[1;31mAttributeError\u001b[0m                            Traceback (most recent call last)",
      "Cell \u001b[1;32mIn[46], line 1\u001b[0m\n\u001b[1;32m----> 1\u001b[0m \u001b[43mStudent\u001b[49m\u001b[38;5;241;43m.\u001b[39;49m\u001b[43mget_total_student\u001b[49m()\n",
      "\u001b[1;31mAttributeError\u001b[0m: type object 'Student' has no attribute 'get_total_student'"
     ]
    }
   ],
   "source": [
    "Student.get_total_student()"
   ]
  },
  {
   "cell_type": "code",
   "execution_count": 47,
   "id": "14df31f4-5890-4bad-a6f8-b799ff11bf06",
   "metadata": {},
   "outputs": [],
   "source": [
    "#static method >> its don't have access or modify class"
   ]
  },
  {
   "cell_type": "code",
   "execution_count": 52,
   "id": "ad4e5a53-0803-4c20-a907-af892cfc4aeb",
   "metadata": {},
   "outputs": [],
   "source": [
    "class Calculator:\n",
    "    @staticmethod\n",
    "    def add(x, y):\n",
    "        return x+y\n",
    "\n",
    "    @staticmethod\n",
    "    def subtract(x, y):\n",
    "         return x-y"
   ]
  },
  {
   "cell_type": "code",
   "execution_count": 53,
   "id": "18bc09e9-b623-4641-b685-b07ca66adb24",
   "metadata": {},
   "outputs": [
    {
     "data": {
      "text/plain": [
       "8"
      ]
     },
     "execution_count": 53,
     "metadata": {},
     "output_type": "execute_result"
    }
   ],
   "source": [
    "Calculator.add(5, 3)"
   ]
  },
  {
   "cell_type": "code",
   "execution_count": 55,
   "id": "f785411c-f7b4-41fb-a972-42c38e202ca3",
   "metadata": {},
   "outputs": [
    {
     "data": {
      "text/plain": [
       "2"
      ]
     },
     "execution_count": 55,
     "metadata": {},
     "output_type": "execute_result"
    }
   ],
   "source": [
    "Calculator.subtract(5, 3)"
   ]
  },
  {
   "cell_type": "code",
   "execution_count": null,
   "id": "d717c7c7-313e-4c24-82ad-dfda15d5c1fd",
   "metadata": {},
   "outputs": [],
   "source": []
  }
 ],
 "metadata": {
  "kernelspec": {
   "display_name": "Python 3 (ipykernel)",
   "language": "python",
   "name": "python3"
  },
  "language_info": {
   "codemirror_mode": {
    "name": "ipython",
    "version": 3
   },
   "file_extension": ".py",
   "mimetype": "text/x-python",
   "name": "python",
   "nbconvert_exporter": "python",
   "pygments_lexer": "ipython3",
   "version": "3.13.0"
  }
 },
 "nbformat": 4,
 "nbformat_minor": 5
}
