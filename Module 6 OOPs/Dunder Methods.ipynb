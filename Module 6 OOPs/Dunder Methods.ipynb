{
 "cells": [
  {
   "cell_type": "code",
   "execution_count": 1,
   "id": "2873a2d5-6a75-43a8-93a2-cbd947cc72fc",
   "metadata": {},
   "outputs": [],
   "source": [
    "#dunder/special/magic >>"
   ]
  },
  {
   "cell_type": "code",
   "execution_count": 3,
   "id": "024fc718-48b6-435b-876b-e5737df84b14",
   "metadata": {},
   "outputs": [
    {
     "data": {
      "text/plain": [
       "'PWSKills'"
      ]
     },
     "execution_count": 3,
     "metadata": {},
     "output_type": "execute_result"
    }
   ],
   "source": [
    "a = \"PW\"\n",
    "b = \"SKills\"\n",
    "a + b"
   ]
  },
  {
   "cell_type": "code",
   "execution_count": 4,
   "id": "0b6b694b-55d1-4753-adc1-72e41bc2cdda",
   "metadata": {},
   "outputs": [
    {
     "data": {
      "text/plain": [
       "'PWSKills'"
      ]
     },
     "execution_count": 4,
     "metadata": {},
     "output_type": "execute_result"
    }
   ],
   "source": [
    "a.__add__(b)"
   ]
  },
  {
   "cell_type": "code",
   "execution_count": 5,
   "id": "48598ffc-fcbe-41c3-9d5f-9ec3df8a1ad2",
   "metadata": {},
   "outputs": [],
   "source": [
    "class Student:\n",
    "    def __init__(self):\n",
    "        print(\"this is the first thing it will be executed once you make instance /object of the class\")"
   ]
  },
  {
   "cell_type": "code",
   "execution_count": 6,
   "id": "33831b33-5a24-461e-a18c-d4b679fa82a7",
   "metadata": {},
   "outputs": [
    {
     "name": "stdout",
     "output_type": "stream",
     "text": [
      "this is the first thing it will be executed once you make instance /object of the class\n"
     ]
    }
   ],
   "source": [
    "obj = Student()"
   ]
  },
  {
   "cell_type": "code",
   "execution_count": 7,
   "id": "71ca6797-dd8c-42c0-84f3-7d8889b5ab47",
   "metadata": {},
   "outputs": [],
   "source": [
    "class Student:\n",
    "    def __new__(cls):\n",
    "        print(\"this will be executed even before init\")\n",
    "    def __init__(self):\n",
    "        print(\"this is the first thing it will be executed once you make instance /object of the class\")"
   ]
  },
  {
   "cell_type": "code",
   "execution_count": 8,
   "id": "e08c6e3e-30bb-4e15-8b18-f68e87f8fb53",
   "metadata": {},
   "outputs": [
    {
     "name": "stdout",
     "output_type": "stream",
     "text": [
      "this will be executed even before init\n"
     ]
    }
   ],
   "source": [
    "obj = Student()"
   ]
  },
  {
   "cell_type": "code",
   "execution_count": 9,
   "id": "36a14484-7e08-4257-8c3a-e3d631c59933",
   "metadata": {},
   "outputs": [],
   "source": [
    "class Student:\n",
    "    def __init__(self):\n",
    "        self.phone = 9999000008"
   ]
  },
  {
   "cell_type": "code",
   "execution_count": 11,
   "id": "00248af9-69da-4b27-b6c7-5456f00a218d",
   "metadata": {},
   "outputs": [
    {
     "data": {
      "text/plain": [
       "<__main__.Student at 0x198f6b9dfd0>"
      ]
     },
     "execution_count": 11,
     "metadata": {},
     "output_type": "execute_result"
    }
   ],
   "source": [
    "print(Student()) # Hexadecimal representation"
   ]
  },
  {
   "cell_type": "code",
   "execution_count": 12,
   "id": "2a758ac8-b39b-4015-ac13-0da18547f61f",
   "metadata": {},
   "outputs": [],
   "source": [
    "class Student:\n",
    "    def __init__(self):\n",
    "        self.phone = 9999000008\n",
    "    def __str__(self): # will return a string representaion of\n",
    "        return \"This method overrides the print statement of object method\""
   ]
  },
  {
   "cell_type": "code",
   "execution_count": 14,
   "id": "23b39303-e791-4667-8b9a-178559f7d726",
   "metadata": {},
   "outputs": [
    {
     "name": "stdout",
     "output_type": "stream",
     "text": [
      "This method overrides the print statement of object method\n"
     ]
    }
   ],
   "source": [
    "print(Student())"
   ]
  },
  {
   "cell_type": "code",
   "execution_count": 15,
   "id": "5739f7b7-b122-4a4d-b298-f3b01b094d62",
   "metadata": {},
   "outputs": [],
   "source": [
    "# repr >>\n",
    "\n",
    "class MyClass:\n",
    "    def __init__(self, x):\n",
    "        self.x = x\n",
    "    def __repr__(self):\n",
    "        return f\"MyClass({self.x})\""
   ]
  },
  {
   "cell_type": "code",
   "execution_count": 16,
   "id": "0b50797f-5dc5-4c78-a194-859df33026bf",
   "metadata": {},
   "outputs": [],
   "source": [
    "obj = MyClass(2)"
   ]
  },
  {
   "cell_type": "code",
   "execution_count": 17,
   "id": "429ccb7c-aa89-48b0-b44a-09251244faa0",
   "metadata": {},
   "outputs": [
    {
     "data": {
      "text/plain": [
       "'MyClass(2)'"
      ]
     },
     "execution_count": 17,
     "metadata": {},
     "output_type": "execute_result"
    }
   ],
   "source": [
    "repr(obj) # return the string representation of object"
   ]
  },
  {
   "cell_type": "code",
   "execution_count": 18,
   "id": "94cf4736-eec2-4b62-984b-0f267613dcd8",
   "metadata": {},
   "outputs": [
    {
     "data": {
      "text/plain": [
       "True"
      ]
     },
     "execution_count": 18,
     "metadata": {},
     "output_type": "execute_result"
    }
   ],
   "source": [
    "True == True"
   ]
  },
  {
   "cell_type": "code",
   "execution_count": 19,
   "id": "2bfedff6-c4da-43fd-9433-c5698d786c46",
   "metadata": {},
   "outputs": [
    {
     "data": {
      "text/plain": [
       "True"
      ]
     },
     "execution_count": 19,
     "metadata": {},
     "output_type": "execute_result"
    }
   ],
   "source": [
    "a = 3\n",
    "b = 3\n",
    "a.__eq__(b)"
   ]
  },
  {
   "cell_type": "code",
   "execution_count": 20,
   "id": "3e8cb902-9153-4302-bbee-fd602718ce49",
   "metadata": {},
   "outputs": [],
   "source": [
    "class Point:\n",
    "    def __init__(self, x, y):\n",
    "        self.x = x\n",
    "        self.y = y\n",
    "    def __eq__(self, other):\n",
    "        return self.x == other.x and self.y == other.y"
   ]
  },
  {
   "cell_type": "code",
   "execution_count": 26,
   "id": "b619c4c5-3901-4aec-8daf-c912e0f80d7d",
   "metadata": {},
   "outputs": [],
   "source": [
    "p1 = Point(1, 2)\n",
    "p2 = Point(1, 2)"
   ]
  },
  {
   "cell_type": "code",
   "execution_count": 27,
   "id": "c23d38fe-ad8d-47cd-92b0-8ded53f0c09d",
   "metadata": {},
   "outputs": [
    {
     "name": "stdout",
     "output_type": "stream",
     "text": [
      "True\n"
     ]
    }
   ],
   "source": [
    "print(p1 == p2)"
   ]
  },
  {
   "cell_type": "code",
   "execution_count": null,
   "id": "94ec4c8e-0153-4511-90ab-83a784f22611",
   "metadata": {},
   "outputs": [],
   "source": []
  }
 ],
 "metadata": {
  "kernelspec": {
   "display_name": "Python 3 (ipykernel)",
   "language": "python",
   "name": "python3"
  },
  "language_info": {
   "codemirror_mode": {
    "name": "ipython",
    "version": 3
   },
   "file_extension": ".py",
   "mimetype": "text/x-python",
   "name": "python",
   "nbconvert_exporter": "python",
   "pygments_lexer": "ipython3",
   "version": "3.13.0"
  }
 },
 "nbformat": 4,
 "nbformat_minor": 5
}
